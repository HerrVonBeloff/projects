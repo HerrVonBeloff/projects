{
 "cells": [
  {
   "cell_type": "markdown",
   "metadata": {},
   "source": [
    "# Выбор локации для скважины"
   ]
  },
  {
   "cell_type": "markdown",
   "metadata": {},
   "source": [
    "Допустим, вы работаете в добывающей компании «ГлавРосГосНефть». Нужно решить, где бурить новую скважину.\n",
    "\n",
    "Вам предоставлены пробы нефти в трёх регионах: в каждом 10 000 месторождений, где измерили качество нефти и объём её запасов. Постройте модель машинного обучения, которая поможет определить регион, где добыча принесёт наибольшую прибыль. Проанализируйте возможную прибыль и риски техникой *Bootstrap.*\n",
    "\n",
    "Шаги для выбора локации:\n",
    "\n",
    "- В избранном регионе ищут месторождения, для каждого определяют значения признаков;\n",
    "- Строят модель и оценивают объём запасов;\n",
    "- Выбирают месторождения с самым высокими оценками значений. Количество месторождений зависит от бюджета компании и стоимости разработки одной скважины;\n",
    "- Прибыль равна суммарной прибыли отобранных месторождений."
   ]
  },
  {
   "cell_type": "markdown",
   "metadata": {},
   "source": [
    "## Загрузка и подготовка данных"
   ]
  },
  {
   "cell_type": "code",
   "execution_count": 1,
   "metadata": {},
   "outputs": [],
   "source": [
    "import pandas as pd\n",
    "import numpy as np\n",
    "from sklearn.model_selection import train_test_split\n",
    "from sklearn.preprocessing import StandardScaler\n",
    "from sklearn.linear_model import LinearRegression\n",
    "from sklearn.metrics import mean_squared_error"
   ]
  },
  {
   "cell_type": "code",
   "execution_count": 2,
   "metadata": {},
   "outputs": [],
   "source": [
    "BUDGET = 1e10\n",
    "PRICE = 450\n",
    "POINTS = 200"
   ]
  },
  {
   "cell_type": "code",
   "execution_count": 3,
   "metadata": {},
   "outputs": [],
   "source": [
    "df_0 = pd.read_csv(\"datasets/geo_data_0.csv\")\n",
    "df_1 = pd.read_csv(\"datasets/geo_data_1.csv\")\n",
    "df_2 = pd.read_csv(\"datasets/geo_data_2.csv\")"
   ]
  },
  {
   "cell_type": "code",
   "execution_count": 4,
   "metadata": {},
   "outputs": [
    {
     "name": "stdout",
     "output_type": "stream",
     "text": [
      "<class 'pandas.core.frame.DataFrame'>\n",
      "RangeIndex: 100000 entries, 0 to 99999\n",
      "Data columns (total 5 columns):\n",
      " #   Column   Non-Null Count   Dtype  \n",
      "---  ------   --------------   -----  \n",
      " 0   id       100000 non-null  object \n",
      " 1   f0       100000 non-null  float64\n",
      " 2   f1       100000 non-null  float64\n",
      " 3   f2       100000 non-null  float64\n",
      " 4   product  100000 non-null  float64\n",
      "dtypes: float64(4), object(1)\n",
      "memory usage: 3.8+ MB\n",
      "----------------------------------------\n",
      "<class 'pandas.core.frame.DataFrame'>\n",
      "RangeIndex: 100000 entries, 0 to 99999\n",
      "Data columns (total 5 columns):\n",
      " #   Column   Non-Null Count   Dtype  \n",
      "---  ------   --------------   -----  \n",
      " 0   id       100000 non-null  object \n",
      " 1   f0       100000 non-null  float64\n",
      " 2   f1       100000 non-null  float64\n",
      " 3   f2       100000 non-null  float64\n",
      " 4   product  100000 non-null  float64\n",
      "dtypes: float64(4), object(1)\n",
      "memory usage: 3.8+ MB\n",
      "----------------------------------------\n",
      "<class 'pandas.core.frame.DataFrame'>\n",
      "RangeIndex: 100000 entries, 0 to 99999\n",
      "Data columns (total 5 columns):\n",
      " #   Column   Non-Null Count   Dtype  \n",
      "---  ------   --------------   -----  \n",
      " 0   id       100000 non-null  object \n",
      " 1   f0       100000 non-null  float64\n",
      " 2   f1       100000 non-null  float64\n",
      " 3   f2       100000 non-null  float64\n",
      " 4   product  100000 non-null  float64\n",
      "dtypes: float64(4), object(1)\n",
      "memory usage: 3.8+ MB\n"
     ]
    }
   ],
   "source": [
    "df_0.info()\n",
    "print(\"-\"*40)\n",
    "df_1.info()\n",
    "print(\"-\"*40)\n",
    "df_2.info()"
   ]
  },
  {
   "cell_type": "markdown",
   "metadata": {},
   "source": [
    "В данных нет пропусков и всё описывается подходящими типами данных"
   ]
  },
  {
   "cell_type": "code",
   "execution_count": 5,
   "metadata": {},
   "outputs": [
    {
     "name": "stdout",
     "output_type": "stream",
     "text": [
      "средний объем запасов в первом регионе 92.50000000000001\n",
      "средний объем запасов во втором регионе 68.82500000000002\n",
      "средний объем запасов в третьем регионе 95.00000000000004\n"
     ]
    }
   ],
   "source": [
    "print(\"средний объем запасов в первом регионе\", df_0[\"product\"].mean())\n",
    "print(\"средний объем запасов во втором регионе\", df_1[\"product\"].mean())\n",
    "print(\"средний объем запасов в третьем регионе\", df_2[\"product\"].mean())"
   ]
  },
  {
   "cell_type": "code",
   "execution_count": 6,
   "metadata": {},
   "outputs": [],
   "source": [
    "df_0.drop_duplicates(inplace=True)\n",
    "df_1.drop_duplicates(inplace=True)\n",
    "df_2.drop_duplicates(inplace=True)"
   ]
  },
  {
   "cell_type": "markdown",
   "metadata": {},
   "source": [
    "### Разделение на выборки и масштабирование признаков"
   ]
  },
  {
   "cell_type": "code",
   "execution_count": 7,
   "metadata": {},
   "outputs": [],
   "source": [
    "features_0 = df_0[[\"f0\", \"f1\", \"f2\"]]\n",
    "target_0 = df_0[\"product\"]\n",
    "\n",
    "features_1 = df_1[[\"f0\", \"f1\", \"f2\"]]\n",
    "target_1 = df_1[\"product\"]\n",
    "\n",
    "features_2 = df_2[[\"f0\", \"f1\", \"f2\"]]\n",
    "target_2 = df_2[\"product\"]\n",
    "\n",
    "\n",
    "features_train_0, features_valid_0, target_train_0, target_valid_0 = \\\n",
    "train_test_split(features_0, target_0, test_size=0.25, random_state=12345)\n",
    "\n",
    "features_train_1, features_valid_1, target_train_1, target_valid_1 = \\\n",
    "train_test_split(features_1, target_1, test_size=0.25, random_state=12345)\n",
    "\n",
    "features_train_2, features_valid_2, target_train_2, target_valid_2 = \\\n",
    "train_test_split(features_2, target_2, test_size=0.25, random_state=12345)\n",
    "\n",
    "scaler = StandardScaler()\n",
    "\n",
    "features_train_0 = scaler.fit_transform(features_train_0)\n",
    "features_valid_0 = scaler.transform(features_valid_0)\n",
    "\n",
    "features_train_1 = scaler.fit_transform(features_train_1)\n",
    "features_valid_1 = scaler.transform(features_valid_1)\n",
    "\n",
    "features_train_2 = scaler.fit_transform(features_train_2)\n",
    "features_valid_2 = scaler.transform(features_valid_2)"
   ]
  },
  {
   "cell_type": "markdown",
   "metadata": {},
   "source": [
    "## Обучение и проверка модели"
   ]
  },
  {
   "cell_type": "markdown",
   "metadata": {},
   "source": [
    "### Обучение моделей"
   ]
  },
  {
   "cell_type": "markdown",
   "metadata": {},
   "source": [
    "Для каждого региона обучим свою модель"
   ]
  },
  {
   "cell_type": "code",
   "execution_count": 8,
   "metadata": {},
   "outputs": [
    {
     "name": "stdout",
     "output_type": "stream",
     "text": [
      "Первый регион\n",
      "MSE 1412.2129364399243\n",
      "RMSE 37.5794217150813\n",
      "------------------------------\n",
      "Второй регион\n",
      "MSE 0.7976263360391157\n",
      "RMSE 0.893099286775617\n",
      "------------------------------\n",
      "Третий регион\n",
      "MSE 1602.3775813236196\n",
      "RMSE 40.02970873393434\n",
      "------------------------------\n"
     ]
    }
   ],
   "source": [
    "def find_mse(model, features, target):\n",
    "    predicted = model.predict(features)\n",
    "    mse = mean_squared_error(target, predicted)\n",
    "    print(\"MSE\", mse)\n",
    "    print(\"RMSE\", mse**0.5)\n",
    "    print(\"-\"*30)\n",
    "    return \n",
    "\n",
    "model_0 = LinearRegression()\n",
    "model_1 = LinearRegression()\n",
    "model_2 = LinearRegression()\n",
    "\n",
    "model_0.fit(features_train_0, target_train_0)\n",
    "model_1.fit(features_train_1, target_train_1)\n",
    "model_2.fit(features_train_2, target_train_2)\n",
    "\n",
    "print(\"Первый регион\")\n",
    "find_mse(model_0, features_valid_0, target_valid_0)\n",
    "print(\"Второй регион\")\n",
    "find_mse(model_1, features_valid_1, target_valid_1)\n",
    "print(\"Третий регион\")\n",
    "find_mse(model_2, features_valid_2, target_valid_2)"
   ]
  },
  {
   "cell_type": "code",
   "execution_count": 25,
   "metadata": {},
   "outputs": [],
   "source": [
    "#ячейка ревьюера \n",
    "\n",
    "def predict(df):\n",
    "    features = df[[\"f0\", \"f1\", \"f2\"]]\n",
    "    target = df[\"product\"]\n",
    "\n",
    "    features_train, features_valid, target_train, target_valid = \\\n",
    "    train_test_split(features, target, test_size=0.25, random_state=12345)\n",
    "\n",
    "    scaler = StandardScaler()\n",
    "    features_train = scaler.fit_transform(features_train)\n",
    "    features_valid = scaler.transform(features_valid)\n",
    "    \n",
    "    model = LinearRegression()\n",
    "    model.fit(features_train, target_train)\n",
    "    predicted = model.predict(features_valid)\n",
    "    rmse = mean_squared_error(target_valid, predicted)**0.5    \n",
    "    print(\"RMSE\", rmse)\n",
    "    print(\"Средний запас предсказанного сырья\", predicted.mean())\n",
    "    '''Возвращаем таргет и предсказания с соответсвующими друг другу индексами '''\n",
    "    return target_valid.reset_index(drop = True), pd.Series(predicted) "
   ]
  },
  {
   "cell_type": "code",
   "execution_count": 26,
   "metadata": {},
   "outputs": [
    {
     "name": "stdout",
     "output_type": "stream",
     "text": [
      "RMSE 37.5794217150813\n",
      "Средний запас предсказанного сырья 92.59256778438035\n"
     ]
    }
   ],
   "source": [
    "#ячейка ревьюера \n",
    "\n",
    "target_valid_0, predicted_0 = predict(df_0)"
   ]
  },
  {
   "cell_type": "code",
   "execution_count": 27,
   "metadata": {},
   "outputs": [
    {
     "data": {
      "text/plain": [
       "(0         10.038645\n",
       " 1        114.551489\n",
       " 2        132.603635\n",
       " 3        169.072125\n",
       " 4        122.325180\n",
       "             ...    \n",
       " 24995    170.116726\n",
       " 24996     93.632175\n",
       " 24997    127.352259\n",
       " 24998     99.782700\n",
       " 24999    177.821022\n",
       " Name: product, Length: 25000, dtype: float64,\n",
       " 0         95.894952\n",
       " 1         77.572583\n",
       " 2         77.892640\n",
       " 3         90.175134\n",
       " 4         70.510088\n",
       "             ...    \n",
       " 24995    103.037104\n",
       " 24996     85.403255\n",
       " 24997     61.509833\n",
       " 24998    118.180397\n",
       " 24999    118.169392\n",
       " Length: 25000, dtype: float64)"
      ]
     },
     "execution_count": 27,
     "metadata": {},
     "output_type": "execute_result"
    }
   ],
   "source": [
    "#ячейка ревьюера \n",
    "\n",
    "target_valid_0, predicted_0"
   ]
  },
  {
   "cell_type": "markdown",
   "metadata": {},
   "source": [
    "### Сравнение с константной моделью"
   ]
  },
  {
   "cell_type": "code",
   "execution_count": 9,
   "metadata": {},
   "outputs": [
    {
     "name": "stdout",
     "output_type": "stream",
     "text": [
      "Среднее\n",
      "RMSE_0 = 44.289591053907365\n",
      "RMSE_1 = 51.89905860601883\n",
      "RMSE_2 = 44.90234968510566\n"
     ]
    }
   ],
   "source": [
    "predicted_valid_const_0 = pd.Series(target_train_0.mean(), index = target_valid_0.index)\n",
    "predicted_valid_const_1 = pd.Series(target_train_1.mean(), index = target_valid_1.index)\n",
    "predicted_valid_const_2 = pd.Series(target_train_2.mean(), index = target_valid_2.index)\n",
    "\n",
    "mse_0 = mean_squared_error(target_valid_0, predicted_valid_const_0)\n",
    "mse_1 = mean_squared_error(target_valid_2, predicted_valid_const_1)\n",
    "mse_2 = mean_squared_error(target_valid_2, predicted_valid_const_2)\n",
    "print(\"Среднее\")\n",
    "print(\"RMSE_0 =\", mse_0 ** 0.5)\n",
    "print(\"RMSE_1 =\", mse_1 ** 0.5)\n",
    "print(\"RMSE_2 =\", mse_2 ** 0.5)"
   ]
  },
  {
   "cell_type": "markdown",
   "metadata": {},
   "source": [
    "### Вывод\n",
    "Для первого и третьего региона модели показывают RMSE близкий к константной модели. Для второго региона модель получилась достаточно точная"
   ]
  },
  {
   "cell_type": "markdown",
   "metadata": {},
   "source": [
    "## Подготовка к расчёту прибыли"
   ]
  },
  {
   "cell_type": "code",
   "execution_count": 10,
   "metadata": {},
   "outputs": [
    {
     "data": {
      "text/plain": [
       "111.11111111111111"
      ]
     },
     "execution_count": 10,
     "metadata": {},
     "output_type": "execute_result"
    }
   ],
   "source": [
    "min_product = ((BUDGET/POINTS)/PRICE)/1000\n",
    "min_product  "
   ]
  },
  {
   "cell_type": "code",
   "execution_count": 11,
   "metadata": {},
   "outputs": [],
   "source": [
    "predicted_0 = pd.Series(model_0.predict(features_valid_0))\n",
    "predicted_1 = pd.Series(model_1.predict(features_valid_1))\n",
    "predicted_2 = pd.Series(model_2.predict(features_valid_2))"
   ]
  },
  {
   "cell_type": "markdown",
   "metadata": {},
   "source": [
    "Необходимые запасы для безубыточной разработки месторождений больше, чем средние запасы в во всех регионах. То есть если выбирать скважины наугад, то ничего хорошего не выйдет"
   ]
  },
  {
   "cell_type": "code",
   "execution_count": 12,
   "metadata": {},
   "outputs": [],
   "source": [
    "predicted_valid_0 = model_0.predict(features_valid_0)\n",
    "predicted_valid_1 = model_1.predict(features_valid_1)\n",
    "predicted_valid_2 = model_2.predict(features_valid_2)"
   ]
  },
  {
   "cell_type": "markdown",
   "metadata": {},
   "source": [
    "## Расчёт прибыли и рисков "
   ]
  },
  {
   "cell_type": "markdown",
   "metadata": {},
   "source": [
    "Техникой бутсртеп смоделируем выбор 500 случайных скважин в каждом регионе, выберем по предсказаниям модели 200 скважин с наибольшими запасами и посчитаем прибыль"
   ]
  },
  {
   "cell_type": "code",
   "execution_count": 13,
   "metadata": {},
   "outputs": [],
   "source": [
    "def input(predict, target):\n",
    "    sorted_predict = predict.sort_values(ascending=False)\n",
    "    \n",
    "    return target[sorted_predict.index][:POINTS].sum()*PRICE*1000 - BUDGET"
   ]
  },
  {
   "cell_type": "code",
   "execution_count": 17,
   "metadata": {},
   "outputs": [
    {
     "name": "stdout",
     "output_type": "stream",
     "text": [
      "Средняя прибыть в первом регионе 0.4147362686144614 млрд\n",
      "Средняя прибыть во втором регионе 0.5131721693440103 млрд\n",
      "Средняя прибыть в третьем регионе 0.41019840127401797 млрд\n"
     ]
    }
   ],
   "source": [
    "def bootstrap(predicted, target):\n",
    "    target = target.reset_index(drop=True)\n",
    "    target_sample = target.sample(n=500, random_state=state, replace=True)\n",
    "    predicted_sample = predicted[target_sample.index]\n",
    "    return input(predicted_sample, target_sample)\n",
    "\n",
    "state = np.random.RandomState(12345)\n",
    "\n",
    "profit_0 = []\n",
    "profit_1 = []\n",
    "profit_2 = []\n",
    "for i in range(1000):\n",
    "    profit_0.append(bootstrap(pd.Series(predicted_valid_0), target_valid_0))\n",
    "    profit_1.append(bootstrap(pd.Series(predicted_valid_1), target_valid_1))\n",
    "    profit_2.append(bootstrap(pd.Series(predicted_valid_2), target_valid_2))\n",
    "    \n",
    "profit_0 = pd.Series(profit_0)\n",
    "profit_1 = pd.Series(profit_1)\n",
    "profit_2 = pd.Series(profit_2)\n",
    "\n",
    "print(\"Средняя прибыть в первом регионе\", profit_0.mean()*1e-9, \"млрд\")\n",
    "print(\"Средняя прибыть во втором регионе\", profit_1.mean()*1e-9, \"млрд\")\n",
    "print(\"Средняя прибыть в третьем регионе\", profit_2.mean()*1e-9, \"млрд\")"
   ]
  },
  {
   "cell_type": "code",
   "execution_count": 18,
   "metadata": {},
   "outputs": [
    {
     "data": {
      "text/plain": [
       "'Риск убытков = 50.00% '"
      ]
     },
     "execution_count": 18,
     "metadata": {},
     "output_type": "execute_result"
    }
   ],
   "source": [
    "#ячейка ревьюера\n",
    "'Риск убытков = {:.2%} '.format((pd.Series([-2, -1, 4, 5])<0).mean())"
   ]
  },
  {
   "cell_type": "markdown",
   "metadata": {},
   "source": [
    "Рассмотрим 2.5% квантили для каждого региона, то есть посмотрим до какого значения лежат 2.5% самых низких возможных дохода для каждого регона."
   ]
  },
  {
   "cell_type": "code",
   "execution_count": 19,
   "metadata": {},
   "outputs": [
    {
     "name": "stdout",
     "output_type": "stream",
     "text": [
      "-55587.65240221593 млрд\n",
      "38398.38580173855 млрд\n",
      "-63190.677263433055 млрд\n"
     ]
    }
   ],
   "source": [
    "print(profit_0.quantile(q=0.025)*450e-6, \"млрд\")\n",
    "print(profit_1.quantile(q=0.025)*450e-6, \"млрд\")\n",
    "print(profit_2.quantile(q=0.025)*450e-6, \"млрд\")"
   ]
  },
  {
   "cell_type": "code",
   "execution_count": 20,
   "metadata": {},
   "outputs": [
    {
     "name": "stdout",
     "output_type": "stream",
     "text": [
      "Риск убытков в первом регионе = 7.00% \n",
      "Риск убытков в первом регионе = 0.90% \n",
      "Риск убытков в первом регионе = 8.50% \n"
     ]
    }
   ],
   "source": [
    "print('Риск убытков в первом регионе = {:.2%} '.format((pd.Series(profit_0)<0).mean()))\n",
    "print('Риск убытков в первом регионе = {:.2%} '.format((pd.Series(profit_1)<0).mean()))\n",
    "print('Риск убытков в первом регионе = {:.2%} '.format((pd.Series(profit_2)<0).mean()))"
   ]
  },
  {
   "cell_type": "markdown",
   "metadata": {},
   "source": [
    "## Вывод"
   ]
  },
  {
   "cell_type": "markdown",
   "metadata": {},
   "source": [
    "Было проведено предварительное исследование данных, которое показало, что во всех регионах средние запасы скважин ниже, чем необходимые запасы для безубыточной разработки. Были обучены Линейные модели для каждого региона, по предсказаниям которых из 500 случано выбраных скважин отбирались 200 с наибольшими предсказанными запасами. Были найдены средние значения возможной прибыли для каждого региона и значения, ниже которых с 2.5% вероятностью окажется доход. По этим данным был выбран наиболее прерспективный регион для разработки - второй, как регион с наибольшей средней возможной прибылью"
   ]
  }
 ],
 "metadata": {
  "ExecuteTimeLog": [
   {
    "duration": 53,
    "start_time": "2023-03-07T17:30:57.436Z"
   },
   {
    "duration": 409,
    "start_time": "2023-03-07T17:31:00.157Z"
   },
   {
    "duration": 554,
    "start_time": "2023-03-07T17:31:01.849Z"
   },
   {
    "duration": 76,
    "start_time": "2023-03-07T17:31:08.406Z"
   },
   {
    "duration": 156,
    "start_time": "2023-03-07T17:31:12.710Z"
   },
   {
    "duration": 2038,
    "start_time": "2023-03-07T18:30:27.386Z"
   },
   {
    "duration": 5,
    "start_time": "2023-03-07T18:32:33.774Z"
   },
   {
    "duration": 7,
    "start_time": "2023-03-07T18:33:02.803Z"
   },
   {
    "duration": 51,
    "start_time": "2023-03-07T18:33:32.503Z"
   },
   {
    "duration": 33,
    "start_time": "2023-03-07T18:33:50.089Z"
   },
   {
    "duration": 52,
    "start_time": "2023-03-07T18:34:01.728Z"
   },
   {
    "duration": 58,
    "start_time": "2023-03-07T18:34:34.280Z"
   },
   {
    "duration": 41,
    "start_time": "2023-03-07T18:35:51.510Z"
   },
   {
    "duration": 18,
    "start_time": "2023-03-07T18:37:41.575Z"
   },
   {
    "duration": 34,
    "start_time": "2023-03-07T18:37:50.100Z"
   },
   {
    "duration": 4,
    "start_time": "2023-03-07T18:50:18.203Z"
   },
   {
    "duration": 11,
    "start_time": "2023-03-07T18:50:47.931Z"
   },
   {
    "duration": 33,
    "start_time": "2023-03-07T18:52:32.656Z"
   },
   {
    "duration": 15,
    "start_time": "2023-03-07T18:52:56.964Z"
   },
   {
    "duration": 41,
    "start_time": "2023-03-07T18:53:06.081Z"
   },
   {
    "duration": 15,
    "start_time": "2023-03-07T18:53:15.078Z"
   },
   {
    "duration": 26,
    "start_time": "2023-03-07T18:54:26.144Z"
   },
   {
    "duration": 15,
    "start_time": "2023-03-07T18:54:36.719Z"
   },
   {
    "duration": 626,
    "start_time": "2023-03-07T18:58:40.488Z"
   },
   {
    "duration": 49,
    "start_time": "2023-03-07T19:01:27.086Z"
   },
   {
    "duration": 72,
    "start_time": "2023-03-07T19:05:13.605Z"
   },
   {
    "duration": 40,
    "start_time": "2023-03-07T19:05:18.928Z"
   },
   {
    "duration": 35,
    "start_time": "2023-03-07T19:05:30.752Z"
   },
   {
    "duration": 35,
    "start_time": "2023-03-07T19:05:40.297Z"
   },
   {
    "duration": 35,
    "start_time": "2023-03-07T19:05:58.873Z"
   },
   {
    "duration": 37,
    "start_time": "2023-03-07T19:06:26.078Z"
   },
   {
    "duration": 35,
    "start_time": "2023-03-07T19:06:31.465Z"
   },
   {
    "duration": 8,
    "start_time": "2023-03-07T19:16:35.418Z"
   },
   {
    "duration": 2,
    "start_time": "2023-03-07T19:17:12.783Z"
   },
   {
    "duration": 36,
    "start_time": "2023-03-07T19:18:48.335Z"
   },
   {
    "duration": 14,
    "start_time": "2023-03-07T19:19:52.322Z"
   },
   {
    "duration": 3,
    "start_time": "2023-03-07T19:20:12.386Z"
   },
   {
    "duration": 373,
    "start_time": "2023-03-07T19:20:12.391Z"
   },
   {
    "duration": 35,
    "start_time": "2023-03-07T19:20:12.766Z"
   },
   {
    "duration": 6,
    "start_time": "2023-03-07T19:20:12.802Z"
   },
   {
    "duration": 36,
    "start_time": "2023-03-07T19:20:12.810Z"
   },
   {
    "duration": 35,
    "start_time": "2023-03-07T19:20:12.847Z"
   },
   {
    "duration": 19,
    "start_time": "2023-03-07T19:23:38.156Z"
   },
   {
    "duration": 3,
    "start_time": "2023-03-07T19:23:54.991Z"
   },
   {
    "duration": 23,
    "start_time": "2023-03-07T19:24:15.918Z"
   },
   {
    "duration": 3,
    "start_time": "2023-03-07T19:34:11.798Z"
   },
   {
    "duration": 22,
    "start_time": "2023-03-07T19:34:16.986Z"
   },
   {
    "duration": 46,
    "start_time": "2023-03-07T19:34:37.899Z"
   },
   {
    "duration": 26,
    "start_time": "2023-03-07T19:37:40.392Z"
   },
   {
    "duration": 3,
    "start_time": "2023-03-07T19:38:22.017Z"
   },
   {
    "duration": 21,
    "start_time": "2023-03-07T19:38:46.906Z"
   },
   {
    "duration": 23,
    "start_time": "2023-03-07T19:39:18.789Z"
   },
   {
    "duration": 7,
    "start_time": "2023-03-07T19:40:59.079Z"
   },
   {
    "duration": 23,
    "start_time": "2023-03-07T19:47:08.568Z"
   },
   {
    "duration": 7,
    "start_time": "2023-03-07T19:47:17.675Z"
   },
   {
    "duration": 25,
    "start_time": "2023-03-07T19:47:25.885Z"
   },
   {
    "duration": 4,
    "start_time": "2023-03-07T19:47:56.403Z"
   },
   {
    "duration": 3,
    "start_time": "2023-03-07T19:50:15.045Z"
   },
   {
    "duration": 373,
    "start_time": "2023-03-07T19:50:15.050Z"
   },
   {
    "duration": 40,
    "start_time": "2023-03-07T19:50:15.425Z"
   },
   {
    "duration": 6,
    "start_time": "2023-03-07T19:50:15.466Z"
   },
   {
    "duration": 80,
    "start_time": "2023-03-07T19:50:15.474Z"
   },
   {
    "duration": 84,
    "start_time": "2023-03-07T19:50:15.556Z"
   },
   {
    "duration": 8,
    "start_time": "2023-03-07T19:50:15.643Z"
   },
   {
    "duration": 14,
    "start_time": "2023-03-08T13:09:48.273Z"
   },
   {
    "duration": 4,
    "start_time": "2023-03-08T13:13:45.752Z"
   },
   {
    "duration": 5,
    "start_time": "2023-03-08T13:13:51.758Z"
   },
   {
    "duration": 5,
    "start_time": "2023-03-08T13:13:58.473Z"
   },
   {
    "duration": 5,
    "start_time": "2023-03-08T13:39:56.515Z"
   },
   {
    "duration": 5,
    "start_time": "2023-03-08T13:40:00.388Z"
   },
   {
    "duration": 5,
    "start_time": "2023-03-08T13:40:44.608Z"
   },
   {
    "duration": 5,
    "start_time": "2023-03-08T13:40:53.268Z"
   },
   {
    "duration": 5,
    "start_time": "2023-03-08T13:43:20.909Z"
   },
   {
    "duration": 5,
    "start_time": "2023-03-08T13:43:29.115Z"
   },
   {
    "duration": 5,
    "start_time": "2023-03-08T13:43:56.757Z"
   },
   {
    "duration": 4,
    "start_time": "2023-03-08T13:44:36.150Z"
   },
   {
    "duration": 5,
    "start_time": "2023-03-08T13:44:48.444Z"
   },
   {
    "duration": 5,
    "start_time": "2023-03-08T13:45:26.201Z"
   },
   {
    "duration": 5,
    "start_time": "2023-03-08T13:45:44.334Z"
   },
   {
    "duration": 4,
    "start_time": "2023-03-08T13:45:49.569Z"
   },
   {
    "duration": 12,
    "start_time": "2023-03-09T14:03:30.612Z"
   },
   {
    "duration": 1285,
    "start_time": "2023-03-09T14:03:36.722Z"
   },
   {
    "duration": 983,
    "start_time": "2023-03-09T14:03:38.009Z"
   },
   {
    "duration": 40,
    "start_time": "2023-03-09T14:03:38.993Z"
   },
   {
    "duration": 7,
    "start_time": "2023-03-09T14:03:39.035Z"
   },
   {
    "duration": 98,
    "start_time": "2023-03-09T14:03:39.044Z"
   },
   {
    "duration": 122,
    "start_time": "2023-03-09T14:03:39.144Z"
   },
   {
    "duration": 97,
    "start_time": "2023-03-09T14:03:39.268Z"
   },
   {
    "duration": 29,
    "start_time": "2023-03-09T14:03:39.368Z"
   },
   {
    "duration": 6,
    "start_time": "2023-03-09T14:03:39.399Z"
   },
   {
    "duration": 133,
    "start_time": "2023-03-09T14:04:33.893Z"
   },
   {
    "duration": 3,
    "start_time": "2023-03-09T14:04:39.765Z"
   },
   {
    "duration": 4,
    "start_time": "2023-03-09T14:04:45.187Z"
   },
   {
    "duration": 2458,
    "start_time": "2023-03-09T14:11:15.283Z"
   },
   {
    "duration": 900,
    "start_time": "2023-03-09T14:11:45.289Z"
   },
   {
    "duration": 17,
    "start_time": "2023-03-09T14:11:57.886Z"
   },
   {
    "duration": 49,
    "start_time": "2023-03-09T14:12:19.416Z"
   },
   {
    "duration": 12,
    "start_time": "2023-03-09T14:18:10.393Z"
   },
   {
    "duration": 184,
    "start_time": "2023-03-09T14:19:23.690Z"
   },
   {
    "duration": 13,
    "start_time": "2023-03-09T14:19:26.323Z"
   },
   {
    "duration": 23,
    "start_time": "2023-03-09T14:20:02.960Z"
   },
   {
    "duration": 10,
    "start_time": "2023-03-09T14:20:39.930Z"
   },
   {
    "duration": 95,
    "start_time": "2023-03-09T14:20:45.593Z"
   },
   {
    "duration": 23,
    "start_time": "2023-03-09T14:20:48.960Z"
   },
   {
    "duration": 3,
    "start_time": "2023-03-09T14:21:18.303Z"
   },
   {
    "duration": 496,
    "start_time": "2023-03-09T14:21:21.023Z"
   },
   {
    "duration": 472,
    "start_time": "2023-03-09T14:21:54.186Z"
   },
   {
    "duration": 456,
    "start_time": "2023-03-09T14:24:28.385Z"
   },
   {
    "duration": 13,
    "start_time": "2023-03-09T14:25:16.142Z"
   },
   {
    "duration": 67,
    "start_time": "2023-03-09T14:25:20.100Z"
   },
   {
    "duration": 1408,
    "start_time": "2023-03-09T14:25:22.438Z"
   },
   {
    "duration": 1444,
    "start_time": "2023-03-09T14:25:38.803Z"
   },
   {
    "duration": 1469,
    "start_time": "2023-03-09T14:27:44.227Z"
   },
   {
    "duration": 1315,
    "start_time": "2023-03-09T14:30:40.180Z"
   },
   {
    "duration": 1513,
    "start_time": "2023-03-09T14:34:12.002Z"
   },
   {
    "duration": 1536,
    "start_time": "2023-03-09T14:35:39.783Z"
   },
   {
    "duration": 12,
    "start_time": "2023-03-09T14:48:25.791Z"
   },
   {
    "duration": 3,
    "start_time": "2023-03-09T14:48:43.748Z"
   },
   {
    "duration": 486,
    "start_time": "2023-03-09T14:48:43.765Z"
   },
   {
    "duration": 56,
    "start_time": "2023-03-09T14:48:44.253Z"
   },
   {
    "duration": 6,
    "start_time": "2023-03-09T14:48:44.310Z"
   },
   {
    "duration": 87,
    "start_time": "2023-03-09T14:48:44.318Z"
   },
   {
    "duration": 63,
    "start_time": "2023-03-09T14:48:44.407Z"
   },
   {
    "duration": 108,
    "start_time": "2023-03-09T14:48:44.471Z"
   },
   {
    "duration": 14,
    "start_time": "2023-03-09T14:50:11.731Z"
   },
   {
    "duration": 11,
    "start_time": "2023-03-09T14:50:23.628Z"
   },
   {
    "duration": 48,
    "start_time": "2023-03-09T14:51:01.860Z"
   },
   {
    "duration": 26,
    "start_time": "2023-03-09T14:51:25.764Z"
   },
   {
    "duration": 3,
    "start_time": "2023-03-09T14:51:28.382Z"
   },
   {
    "duration": 1344,
    "start_time": "2023-03-09T14:51:30.902Z"
   },
   {
    "duration": 3,
    "start_time": "2023-03-09T15:00:57.672Z"
   },
   {
    "duration": 1392,
    "start_time": "2023-03-09T15:00:59.085Z"
   },
   {
    "duration": 14,
    "start_time": "2023-03-09T15:05:46.827Z"
   },
   {
    "duration": 1522,
    "start_time": "2023-03-09T15:06:46.027Z"
   },
   {
    "duration": 6,
    "start_time": "2023-03-09T15:06:52.324Z"
   },
   {
    "duration": 15,
    "start_time": "2023-03-09T15:07:09.987Z"
   },
   {
    "duration": 8,
    "start_time": "2023-03-09T15:07:30.185Z"
   },
   {
    "duration": 8,
    "start_time": "2023-03-09T15:08:37.142Z"
   },
   {
    "duration": 1528,
    "start_time": "2023-03-09T15:13:15.760Z"
   },
   {
    "duration": 17,
    "start_time": "2023-03-09T15:13:44.460Z"
   },
   {
    "duration": 17,
    "start_time": "2023-03-09T15:13:47.265Z"
   },
   {
    "duration": 4,
    "start_time": "2023-03-09T15:56:21.793Z"
   },
   {
    "duration": 445,
    "start_time": "2023-03-09T15:56:21.799Z"
   },
   {
    "duration": 53,
    "start_time": "2023-03-09T15:56:22.245Z"
   },
   {
    "duration": 7,
    "start_time": "2023-03-09T15:56:22.300Z"
   },
   {
    "duration": 88,
    "start_time": "2023-03-09T15:56:22.309Z"
   },
   {
    "duration": 79,
    "start_time": "2023-03-09T15:56:22.399Z"
   },
   {
    "duration": 97,
    "start_time": "2023-03-09T15:56:22.479Z"
   },
   {
    "duration": 13,
    "start_time": "2023-03-09T15:56:22.579Z"
   },
   {
    "duration": 95,
    "start_time": "2023-03-09T15:56:22.594Z"
   },
   {
    "duration": 83,
    "start_time": "2023-03-09T15:56:22.691Z"
   },
   {
    "duration": 1451,
    "start_time": "2023-03-09T15:56:22.776Z"
   },
   {
    "duration": 6,
    "start_time": "2023-03-09T15:56:24.229Z"
   },
   {
    "duration": 2069,
    "start_time": "2023-03-10T07:27:07.197Z"
   },
   {
    "duration": 470,
    "start_time": "2023-03-10T07:27:09.278Z"
   },
   {
    "duration": 56,
    "start_time": "2023-03-10T07:27:09.751Z"
   },
   {
    "duration": 7,
    "start_time": "2023-03-10T07:27:09.809Z"
   },
   {
    "duration": 95,
    "start_time": "2023-03-10T07:27:09.819Z"
   },
   {
    "duration": 141,
    "start_time": "2023-03-10T07:27:09.916Z"
   },
   {
    "duration": 90,
    "start_time": "2023-03-10T07:27:10.064Z"
   },
   {
    "duration": 19,
    "start_time": "2023-03-10T07:27:10.156Z"
   },
   {
    "duration": 15,
    "start_time": "2023-03-10T07:27:10.179Z"
   },
   {
    "duration": 7,
    "start_time": "2023-03-10T07:27:10.244Z"
   },
   {
    "duration": 1538,
    "start_time": "2023-03-10T07:27:10.261Z"
   },
   {
    "duration": 7,
    "start_time": "2023-03-10T07:27:11.801Z"
   },
   {
    "duration": 6,
    "start_time": "2023-03-10T07:53:31.921Z"
   },
   {
    "duration": 12,
    "start_time": "2023-03-10T07:58:24.065Z"
   },
   {
    "duration": 10,
    "start_time": "2023-03-10T08:01:42.934Z"
   },
   {
    "duration": 1903,
    "start_time": "2023-03-10T08:09:43.473Z"
   },
   {
    "duration": 479,
    "start_time": "2023-03-10T08:09:45.379Z"
   },
   {
    "duration": 46,
    "start_time": "2023-03-10T08:09:45.866Z"
   },
   {
    "duration": 6,
    "start_time": "2023-03-10T08:09:45.913Z"
   },
   {
    "duration": 95,
    "start_time": "2023-03-10T08:09:45.921Z"
   },
   {
    "duration": 54,
    "start_time": "2023-03-10T08:09:46.018Z"
   },
   {
    "duration": 109,
    "start_time": "2023-03-10T08:09:46.075Z"
   },
   {
    "duration": 68,
    "start_time": "2023-03-10T08:09:46.189Z"
   },
   {
    "duration": 33,
    "start_time": "2023-03-10T08:09:46.261Z"
   },
   {
    "duration": 9,
    "start_time": "2023-03-10T08:09:46.343Z"
   },
   {
    "duration": 20,
    "start_time": "2023-03-10T08:09:46.360Z"
   },
   {
    "duration": 39,
    "start_time": "2023-03-10T08:09:46.444Z"
   },
   {
    "duration": 1694,
    "start_time": "2023-03-10T08:09:46.486Z"
   },
   {
    "duration": 7,
    "start_time": "2023-03-10T08:09:48.186Z"
   },
   {
    "duration": 9,
    "start_time": "2023-03-10T08:09:48.194Z"
   },
   {
    "duration": 1132,
    "start_time": "2023-03-11T19:55:14.993Z"
   },
   {
    "duration": 2,
    "start_time": "2023-03-11T19:55:16.128Z"
   },
   {
    "duration": 693,
    "start_time": "2023-03-11T19:55:16.132Z"
   },
   {
    "duration": 36,
    "start_time": "2023-03-11T19:55:16.827Z"
   },
   {
    "duration": 6,
    "start_time": "2023-03-11T19:55:16.865Z"
   },
   {
    "duration": 141,
    "start_time": "2023-03-11T19:55:16.872Z"
   },
   {
    "duration": 0,
    "start_time": "2023-03-11T19:55:17.015Z"
   },
   {
    "duration": 0,
    "start_time": "2023-03-11T19:55:17.016Z"
   },
   {
    "duration": 0,
    "start_time": "2023-03-11T19:55:17.018Z"
   },
   {
    "duration": 0,
    "start_time": "2023-03-11T19:55:17.019Z"
   },
   {
    "duration": 0,
    "start_time": "2023-03-11T19:55:17.020Z"
   },
   {
    "duration": 0,
    "start_time": "2023-03-11T19:55:17.021Z"
   },
   {
    "duration": 0,
    "start_time": "2023-03-11T19:55:17.022Z"
   },
   {
    "duration": 0,
    "start_time": "2023-03-11T19:55:17.023Z"
   },
   {
    "duration": 0,
    "start_time": "2023-03-11T19:55:17.025Z"
   },
   {
    "duration": 0,
    "start_time": "2023-03-11T19:55:17.026Z"
   },
   {
    "duration": 0,
    "start_time": "2023-03-11T19:55:17.027Z"
   },
   {
    "duration": 3,
    "start_time": "2023-03-11T19:56:18.908Z"
   },
   {
    "duration": 7,
    "start_time": "2023-03-11T19:56:18.913Z"
   },
   {
    "duration": 410,
    "start_time": "2023-03-11T19:56:18.921Z"
   },
   {
    "duration": 36,
    "start_time": "2023-03-11T19:56:19.333Z"
   },
   {
    "duration": 5,
    "start_time": "2023-03-11T19:56:19.371Z"
   },
   {
    "duration": 62,
    "start_time": "2023-03-11T19:56:19.378Z"
   },
   {
    "duration": 0,
    "start_time": "2023-03-11T19:56:19.442Z"
   },
   {
    "duration": 0,
    "start_time": "2023-03-11T19:56:19.443Z"
   },
   {
    "duration": 0,
    "start_time": "2023-03-11T19:56:19.445Z"
   },
   {
    "duration": 0,
    "start_time": "2023-03-11T19:56:19.446Z"
   },
   {
    "duration": 0,
    "start_time": "2023-03-11T19:56:19.447Z"
   },
   {
    "duration": 0,
    "start_time": "2023-03-11T19:56:19.449Z"
   },
   {
    "duration": 0,
    "start_time": "2023-03-11T19:56:19.450Z"
   },
   {
    "duration": 0,
    "start_time": "2023-03-11T19:56:19.451Z"
   },
   {
    "duration": 0,
    "start_time": "2023-03-11T19:56:19.452Z"
   },
   {
    "duration": 0,
    "start_time": "2023-03-11T19:56:19.453Z"
   },
   {
    "duration": 0,
    "start_time": "2023-03-11T19:56:19.455Z"
   },
   {
    "duration": 4,
    "start_time": "2023-03-11T19:56:21.305Z"
   },
   {
    "duration": 8,
    "start_time": "2023-03-11T19:56:21.311Z"
   },
   {
    "duration": 417,
    "start_time": "2023-03-11T19:56:21.320Z"
   },
   {
    "duration": 36,
    "start_time": "2023-03-11T19:56:21.739Z"
   },
   {
    "duration": 23,
    "start_time": "2023-03-11T19:56:21.778Z"
   },
   {
    "duration": 39,
    "start_time": "2023-03-11T19:56:21.802Z"
   },
   {
    "duration": 0,
    "start_time": "2023-03-11T19:56:21.842Z"
   },
   {
    "duration": 0,
    "start_time": "2023-03-11T19:56:21.844Z"
   },
   {
    "duration": 0,
    "start_time": "2023-03-11T19:56:21.845Z"
   },
   {
    "duration": 0,
    "start_time": "2023-03-11T19:56:21.846Z"
   },
   {
    "duration": 0,
    "start_time": "2023-03-11T19:56:21.847Z"
   },
   {
    "duration": 0,
    "start_time": "2023-03-11T19:56:21.848Z"
   },
   {
    "duration": 0,
    "start_time": "2023-03-11T19:56:21.849Z"
   },
   {
    "duration": 0,
    "start_time": "2023-03-11T19:56:21.851Z"
   },
   {
    "duration": 0,
    "start_time": "2023-03-11T19:56:21.852Z"
   },
   {
    "duration": 0,
    "start_time": "2023-03-11T19:56:21.853Z"
   },
   {
    "duration": 0,
    "start_time": "2023-03-11T19:56:21.854Z"
   },
   {
    "duration": 3,
    "start_time": "2023-03-11T20:02:35.550Z"
   },
   {
    "duration": 12,
    "start_time": "2023-03-11T20:02:35.555Z"
   },
   {
    "duration": 393,
    "start_time": "2023-03-11T20:02:35.569Z"
   },
   {
    "duration": 36,
    "start_time": "2023-03-11T20:02:35.964Z"
   },
   {
    "duration": 5,
    "start_time": "2023-03-11T20:02:36.002Z"
   },
   {
    "duration": 64,
    "start_time": "2023-03-11T20:02:36.009Z"
   },
   {
    "duration": 44,
    "start_time": "2023-03-11T20:02:36.075Z"
   },
   {
    "duration": 82,
    "start_time": "2023-03-11T20:02:36.121Z"
   },
   {
    "duration": 17,
    "start_time": "2023-03-11T20:02:36.292Z"
   },
   {
    "duration": 17,
    "start_time": "2023-03-11T20:02:36.312Z"
   },
   {
    "duration": 160,
    "start_time": "2023-03-11T20:02:36.331Z"
   },
   {
    "duration": 25,
    "start_time": "2023-03-11T20:02:36.493Z"
   },
   {
    "duration": 0,
    "start_time": "2023-03-11T20:02:36.520Z"
   },
   {
    "duration": 0,
    "start_time": "2023-03-11T20:02:36.522Z"
   },
   {
    "duration": 0,
    "start_time": "2023-03-11T20:02:36.523Z"
   },
   {
    "duration": 0,
    "start_time": "2023-03-11T20:02:36.525Z"
   },
   {
    "duration": 0,
    "start_time": "2023-03-11T20:02:36.527Z"
   },
   {
    "duration": 1048,
    "start_time": "2023-03-11T20:17:24.332Z"
   },
   {
    "duration": 3,
    "start_time": "2023-03-11T20:17:25.382Z"
   },
   {
    "duration": 397,
    "start_time": "2023-03-11T20:17:25.387Z"
   },
   {
    "duration": 39,
    "start_time": "2023-03-11T20:17:25.786Z"
   },
   {
    "duration": 5,
    "start_time": "2023-03-11T20:17:25.827Z"
   },
   {
    "duration": 86,
    "start_time": "2023-03-11T20:17:25.834Z"
   },
   {
    "duration": 74,
    "start_time": "2023-03-11T20:17:25.922Z"
   },
   {
    "duration": 191,
    "start_time": "2023-03-11T20:17:25.999Z"
   },
   {
    "duration": 12,
    "start_time": "2023-03-11T20:17:26.193Z"
   },
   {
    "duration": 12,
    "start_time": "2023-03-11T20:17:26.207Z"
   },
   {
    "duration": 176,
    "start_time": "2023-03-11T20:17:26.221Z"
   },
   {
    "duration": 136,
    "start_time": "2023-03-11T20:17:26.399Z"
   },
   {
    "duration": 0,
    "start_time": "2023-03-11T20:17:26.536Z"
   },
   {
    "duration": 0,
    "start_time": "2023-03-11T20:17:26.538Z"
   },
   {
    "duration": 0,
    "start_time": "2023-03-11T20:17:26.539Z"
   },
   {
    "duration": 0,
    "start_time": "2023-03-11T20:17:26.540Z"
   },
   {
    "duration": 0,
    "start_time": "2023-03-11T20:17:26.541Z"
   },
   {
    "duration": 12,
    "start_time": "2023-03-11T20:40:59.014Z"
   },
   {
    "duration": 15,
    "start_time": "2023-03-11T20:42:09.006Z"
   },
   {
    "duration": 6,
    "start_time": "2023-03-11T20:42:14.570Z"
   },
   {
    "duration": 6,
    "start_time": "2023-03-11T20:52:34.375Z"
   },
   {
    "duration": 4,
    "start_time": "2023-03-11T20:52:51.109Z"
   },
   {
    "duration": 6,
    "start_time": "2023-03-11T20:53:09.222Z"
   },
   {
    "duration": 6,
    "start_time": "2023-03-11T20:53:23.640Z"
   },
   {
    "duration": 15,
    "start_time": "2023-03-11T20:54:01.909Z"
   },
   {
    "duration": 16,
    "start_time": "2023-03-11T20:54:27.460Z"
   },
   {
    "duration": 22,
    "start_time": "2023-03-11T20:54:44.851Z"
   },
   {
    "duration": 4807,
    "start_time": "2023-03-11T20:55:47.189Z"
   },
   {
    "duration": 4813,
    "start_time": "2023-03-11T20:56:15.092Z"
   },
   {
    "duration": 8,
    "start_time": "2023-03-11T20:56:29.520Z"
   },
   {
    "duration": 5,
    "start_time": "2023-03-11T20:58:49.588Z"
   },
   {
    "duration": 8,
    "start_time": "2023-03-11T20:59:07.919Z"
   },
   {
    "duration": 5,
    "start_time": "2023-03-11T20:59:26.706Z"
   },
   {
    "duration": 4,
    "start_time": "2023-03-11T20:59:50.431Z"
   },
   {
    "duration": 6,
    "start_time": "2023-03-11T20:59:50.437Z"
   },
   {
    "duration": 466,
    "start_time": "2023-03-11T20:59:50.444Z"
   },
   {
    "duration": 37,
    "start_time": "2023-03-11T20:59:50.912Z"
   },
   {
    "duration": 5,
    "start_time": "2023-03-11T20:59:50.951Z"
   },
   {
    "duration": 72,
    "start_time": "2023-03-11T20:59:50.957Z"
   },
   {
    "duration": 5,
    "start_time": "2023-03-11T20:59:51.031Z"
   },
   {
    "duration": 59,
    "start_time": "2023-03-11T20:59:51.037Z"
   },
   {
    "duration": 193,
    "start_time": "2023-03-11T20:59:51.098Z"
   },
   {
    "duration": 6,
    "start_time": "2023-03-11T20:59:51.293Z"
   },
   {
    "duration": 23,
    "start_time": "2023-03-11T20:59:51.301Z"
   },
   {
    "duration": 166,
    "start_time": "2023-03-11T20:59:51.327Z"
   },
   {
    "duration": 96,
    "start_time": "2023-03-11T20:59:51.499Z"
   },
   {
    "duration": 95,
    "start_time": "2023-03-11T20:59:51.599Z"
   },
   {
    "duration": 9,
    "start_time": "2023-03-11T20:59:51.696Z"
   },
   {
    "duration": 14,
    "start_time": "2023-03-11T20:59:51.706Z"
   },
   {
    "duration": 4876,
    "start_time": "2023-03-11T20:59:51.722Z"
   },
   {
    "duration": 6,
    "start_time": "2023-03-11T20:59:56.599Z"
   },
   {
    "duration": 10,
    "start_time": "2023-03-11T20:59:56.606Z"
   },
   {
    "duration": 5,
    "start_time": "2023-03-11T21:00:59.850Z"
   },
   {
    "duration": 7,
    "start_time": "2023-03-11T21:01:10.855Z"
   },
   {
    "duration": 13,
    "start_time": "2023-03-11T21:06:39.478Z"
   },
   {
    "duration": 45,
    "start_time": "2023-03-11T21:07:11.973Z"
   },
   {
    "duration": 142,
    "start_time": "2023-03-11T21:07:50.759Z"
   },
   {
    "duration": 76,
    "start_time": "2023-03-11T21:07:54.404Z"
   },
   {
    "duration": 27,
    "start_time": "2023-03-11T21:08:03.370Z"
   },
   {
    "duration": 1848,
    "start_time": "2023-03-12T09:18:56.060Z"
   },
   {
    "duration": 4,
    "start_time": "2023-03-12T09:18:57.910Z"
   },
   {
    "duration": 465,
    "start_time": "2023-03-12T09:18:57.916Z"
   },
   {
    "duration": 54,
    "start_time": "2023-03-12T09:18:58.384Z"
   },
   {
    "duration": 22,
    "start_time": "2023-03-12T09:18:58.440Z"
   },
   {
    "duration": 202,
    "start_time": "2023-03-12T09:18:58.464Z"
   },
   {
    "duration": 74,
    "start_time": "2023-03-12T09:18:58.668Z"
   },
   {
    "duration": 165,
    "start_time": "2023-03-12T09:18:58.744Z"
   },
   {
    "duration": 89,
    "start_time": "2023-03-12T09:18:58.915Z"
   },
   {
    "duration": 118,
    "start_time": "2023-03-12T09:18:59.008Z"
   },
   {
    "duration": 20,
    "start_time": "2023-03-12T09:18:59.128Z"
   },
   {
    "duration": 165,
    "start_time": "2023-03-12T09:18:59.154Z"
   },
   {
    "duration": 97,
    "start_time": "2023-03-12T09:18:59.326Z"
   },
   {
    "duration": 82,
    "start_time": "2023-03-12T09:18:59.427Z"
   },
   {
    "duration": 105,
    "start_time": "2023-03-12T09:18:59.514Z"
   },
   {
    "duration": 26,
    "start_time": "2023-03-12T09:18:59.621Z"
   },
   {
    "duration": 5362,
    "start_time": "2023-03-12T09:18:59.648Z"
   },
   {
    "duration": 13,
    "start_time": "2023-03-12T09:19:05.012Z"
   },
   {
    "duration": 23,
    "start_time": "2023-03-12T09:19:05.027Z"
   },
   {
    "duration": 36,
    "start_time": "2023-03-12T09:19:05.052Z"
   },
   {
    "duration": 4,
    "start_time": "2023-03-12T09:19:30.716Z"
   },
   {
    "duration": 6,
    "start_time": "2023-03-12T09:19:40.117Z"
   },
   {
    "duration": 3,
    "start_time": "2023-03-12T09:20:01.580Z"
   },
   {
    "duration": 4,
    "start_time": "2023-03-12T09:25:58.129Z"
   },
   {
    "duration": 5,
    "start_time": "2023-03-12T09:37:39.348Z"
   },
   {
    "duration": 34,
    "start_time": "2023-03-12T09:38:20.234Z"
   },
   {
    "duration": 9,
    "start_time": "2023-03-12T09:38:30.415Z"
   }
  ],
  "kernelspec": {
   "display_name": "Python 3 (ipykernel)",
   "language": "python",
   "name": "python3"
  },
  "language_info": {
   "codemirror_mode": {
    "name": "ipython",
    "version": 3
   },
   "file_extension": ".py",
   "mimetype": "text/x-python",
   "name": "python",
   "nbconvert_exporter": "python",
   "pygments_lexer": "ipython3",
   "version": "3.9.13"
  },
  "toc": {
   "base_numbering": 1,
   "nav_menu": {
    "height": "45px",
    "width": "174px"
   },
   "number_sections": true,
   "sideBar": true,
   "skip_h1_title": true,
   "title_cell": "Table of Contents",
   "title_sidebar": "Contents",
   "toc_cell": false,
   "toc_position": {},
   "toc_section_display": true,
   "toc_window_display": true
  }
 },
 "nbformat": 4,
 "nbformat_minor": 2
}
