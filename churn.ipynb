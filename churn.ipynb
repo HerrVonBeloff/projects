{
 "cells": [
  {
   "cell_type": "markdown",
   "metadata": {},
   "source": [
    "# Отток клиентов"
   ]
  },
  {
   "cell_type": "markdown",
   "metadata": {},
   "source": [
    "Из «Бета-Банка» стали уходить клиенты. Каждый месяц. Немного, но заметно. Банковские маркетологи посчитали: сохранять текущих клиентов дешевле, чем привлекать новых. На основе данных о поведении клиентов необходимо спрогнозировать, уйдёт клиент из банка в ближайшее время или нет.\n",
    "\n",
    "Для решения данной задачи построим предсказательную модель. Критерием, по которому будет отбираться лучшая модель, будет *F1*-мера, так же необходимо проверить метрику *AUC-ROC* и максимизировать полноту"
   ]
  },
  {
   "cell_type": "code",
   "execution_count": 1,
   "metadata": {},
   "outputs": [],
   "source": [
    "import pandas as pd\n",
    "from sklearn.model_selection import train_test_split\n",
    "from sklearn.model_selection import GridSearchCV\n",
    "from sklearn.model_selection import RandomizedSearchCV\n",
    "from sklearn.tree import DecisionTreeClassifier\n",
    "from sklearn.ensemble import RandomForestClassifier\n",
    "from sklearn.metrics import f1_score\n",
    "from sklearn.linear_model import LogisticRegression\n",
    "from sklearn.preprocessing import StandardScaler\n",
    "from sklearn.metrics import roc_curve\n",
    "import matplotlib.pyplot as plt\n",
    "from sklearn.metrics import roc_auc_score \n",
    "from sklearn.utils import shuffle\n",
    "from sklearn.metrics import confusion_matrix\n",
    "from sklearn.metrics import recall_score\n",
    "from sklearn.metrics import precision_score"
   ]
  },
  {
   "cell_type": "markdown",
   "metadata": {},
   "source": [
    "## Подготовка данных"
   ]
  },
  {
   "cell_type": "markdown",
   "metadata": {},
   "source": [
    "### Заполнение пропусков"
   ]
  },
  {
   "cell_type": "code",
   "execution_count": 2,
   "metadata": {
    "scrolled": false
   },
   "outputs": [
    {
     "name": "stdout",
     "output_type": "stream",
     "text": [
      "<class 'pandas.core.frame.DataFrame'>\n",
      "RangeIndex: 10000 entries, 0 to 9999\n",
      "Data columns (total 14 columns):\n",
      " #   Column           Non-Null Count  Dtype  \n",
      "---  ------           --------------  -----  \n",
      " 0   RowNumber        10000 non-null  int64  \n",
      " 1   CustomerId       10000 non-null  int64  \n",
      " 2   Surname          10000 non-null  object \n",
      " 3   CreditScore      10000 non-null  int64  \n",
      " 4   Geography        10000 non-null  object \n",
      " 5   Gender           10000 non-null  object \n",
      " 6   Age              10000 non-null  int64  \n",
      " 7   Tenure           9091 non-null   float64\n",
      " 8   Balance          10000 non-null  float64\n",
      " 9   NumOfProducts    10000 non-null  int64  \n",
      " 10  HasCrCard        10000 non-null  int64  \n",
      " 11  IsActiveMember   10000 non-null  int64  \n",
      " 12  EstimatedSalary  10000 non-null  float64\n",
      " 13  Exited           10000 non-null  int64  \n",
      "dtypes: float64(3), int64(8), object(3)\n",
      "memory usage: 1.1+ MB\n"
     ]
    },
    {
     "data": {
      "text/html": [
       "<div>\n",
       "<style scoped>\n",
       "    .dataframe tbody tr th:only-of-type {\n",
       "        vertical-align: middle;\n",
       "    }\n",
       "\n",
       "    .dataframe tbody tr th {\n",
       "        vertical-align: top;\n",
       "    }\n",
       "\n",
       "    .dataframe thead th {\n",
       "        text-align: right;\n",
       "    }\n",
       "</style>\n",
       "<table border=\"1\" class=\"dataframe\">\n",
       "  <thead>\n",
       "    <tr style=\"text-align: right;\">\n",
       "      <th></th>\n",
       "      <th>RowNumber</th>\n",
       "      <th>CustomerId</th>\n",
       "      <th>Surname</th>\n",
       "      <th>CreditScore</th>\n",
       "      <th>Geography</th>\n",
       "      <th>Gender</th>\n",
       "      <th>Age</th>\n",
       "      <th>Tenure</th>\n",
       "      <th>Balance</th>\n",
       "      <th>NumOfProducts</th>\n",
       "      <th>HasCrCard</th>\n",
       "      <th>IsActiveMember</th>\n",
       "      <th>EstimatedSalary</th>\n",
       "      <th>Exited</th>\n",
       "    </tr>\n",
       "  </thead>\n",
       "  <tbody>\n",
       "    <tr>\n",
       "      <th>0</th>\n",
       "      <td>1</td>\n",
       "      <td>15634602</td>\n",
       "      <td>Hargrave</td>\n",
       "      <td>619</td>\n",
       "      <td>France</td>\n",
       "      <td>Female</td>\n",
       "      <td>42</td>\n",
       "      <td>2.0</td>\n",
       "      <td>0.00</td>\n",
       "      <td>1</td>\n",
       "      <td>1</td>\n",
       "      <td>1</td>\n",
       "      <td>101348.88</td>\n",
       "      <td>1</td>\n",
       "    </tr>\n",
       "    <tr>\n",
       "      <th>1</th>\n",
       "      <td>2</td>\n",
       "      <td>15647311</td>\n",
       "      <td>Hill</td>\n",
       "      <td>608</td>\n",
       "      <td>Spain</td>\n",
       "      <td>Female</td>\n",
       "      <td>41</td>\n",
       "      <td>1.0</td>\n",
       "      <td>83807.86</td>\n",
       "      <td>1</td>\n",
       "      <td>0</td>\n",
       "      <td>1</td>\n",
       "      <td>112542.58</td>\n",
       "      <td>0</td>\n",
       "    </tr>\n",
       "    <tr>\n",
       "      <th>2</th>\n",
       "      <td>3</td>\n",
       "      <td>15619304</td>\n",
       "      <td>Onio</td>\n",
       "      <td>502</td>\n",
       "      <td>France</td>\n",
       "      <td>Female</td>\n",
       "      <td>42</td>\n",
       "      <td>8.0</td>\n",
       "      <td>159660.80</td>\n",
       "      <td>3</td>\n",
       "      <td>1</td>\n",
       "      <td>0</td>\n",
       "      <td>113931.57</td>\n",
       "      <td>1</td>\n",
       "    </tr>\n",
       "    <tr>\n",
       "      <th>3</th>\n",
       "      <td>4</td>\n",
       "      <td>15701354</td>\n",
       "      <td>Boni</td>\n",
       "      <td>699</td>\n",
       "      <td>France</td>\n",
       "      <td>Female</td>\n",
       "      <td>39</td>\n",
       "      <td>1.0</td>\n",
       "      <td>0.00</td>\n",
       "      <td>2</td>\n",
       "      <td>0</td>\n",
       "      <td>0</td>\n",
       "      <td>93826.63</td>\n",
       "      <td>0</td>\n",
       "    </tr>\n",
       "    <tr>\n",
       "      <th>4</th>\n",
       "      <td>5</td>\n",
       "      <td>15737888</td>\n",
       "      <td>Mitchell</td>\n",
       "      <td>850</td>\n",
       "      <td>Spain</td>\n",
       "      <td>Female</td>\n",
       "      <td>43</td>\n",
       "      <td>2.0</td>\n",
       "      <td>125510.82</td>\n",
       "      <td>1</td>\n",
       "      <td>1</td>\n",
       "      <td>1</td>\n",
       "      <td>79084.10</td>\n",
       "      <td>0</td>\n",
       "    </tr>\n",
       "  </tbody>\n",
       "</table>\n",
       "</div>"
      ],
      "text/plain": [
       "   RowNumber  CustomerId   Surname  CreditScore Geography  Gender  Age  \\\n",
       "0          1    15634602  Hargrave          619    France  Female   42   \n",
       "1          2    15647311      Hill          608     Spain  Female   41   \n",
       "2          3    15619304      Onio          502    France  Female   42   \n",
       "3          4    15701354      Boni          699    France  Female   39   \n",
       "4          5    15737888  Mitchell          850     Spain  Female   43   \n",
       "\n",
       "   Tenure    Balance  NumOfProducts  HasCrCard  IsActiveMember  \\\n",
       "0     2.0       0.00              1          1               1   \n",
       "1     1.0   83807.86              1          0               1   \n",
       "2     8.0  159660.80              3          1               0   \n",
       "3     1.0       0.00              2          0               0   \n",
       "4     2.0  125510.82              1          1               1   \n",
       "\n",
       "   EstimatedSalary  Exited  \n",
       "0        101348.88       1  \n",
       "1        112542.58       0  \n",
       "2        113931.57       1  \n",
       "3         93826.63       0  \n",
       "4         79084.10       0  "
      ]
     },
     "execution_count": 2,
     "metadata": {},
     "output_type": "execute_result"
    }
   ],
   "source": [
    "data = pd.read_csv(\"datasets/Churn.csv\")\n",
    "data.info()\n",
    "data.head(5)"
   ]
  },
  {
   "cell_type": "markdown",
   "metadata": {},
   "source": [
    "Пропуски есть в столбце `Tenure`, посмотрим на него поближе"
   ]
  },
  {
   "cell_type": "code",
   "execution_count": 3,
   "metadata": {},
   "outputs": [
    {
     "data": {
      "text/plain": [
       "1.0     952\n",
       "2.0     950\n",
       "8.0     933\n",
       "3.0     928\n",
       "5.0     927\n",
       "7.0     925\n",
       "4.0     885\n",
       "9.0     882\n",
       "6.0     881\n",
       "10.0    446\n",
       "0.0     382\n",
       "Name: Tenure, dtype: int64"
      ]
     },
     "execution_count": 3,
     "metadata": {},
     "output_type": "execute_result"
    }
   ],
   "source": [
    "data[\"Tenure\"].value_counts()"
   ]
  },
  {
   "cell_type": "code",
   "execution_count": 4,
   "metadata": {},
   "outputs": [],
   "source": [
    "data.dropna(inplace=True)"
   ]
  },
  {
   "cell_type": "markdown",
   "metadata": {},
   "source": [
    "### Удаление незначимых признаков"
   ]
  },
  {
   "cell_type": "markdown",
   "metadata": {},
   "source": [
    "Если посмотреть на таблицу, можно заметить, что в ней есть лишние столбцы, на них не должна обращать внимание наша модель. Это столбцы - `RowNumber`, `CostomerID` и `Surname`"
   ]
  },
  {
   "cell_type": "code",
   "execution_count": 5,
   "metadata": {},
   "outputs": [],
   "source": [
    "data_new = data.drop([\"RowNumber\", \"CustomerId\", \"Surname\"], axis = 1)"
   ]
  },
  {
   "cell_type": "markdown",
   "metadata": {},
   "source": [
    "### Кодирование OHE"
   ]
  },
  {
   "cell_type": "markdown",
   "metadata": {},
   "source": [
    "В датафрейме остались не численные признаки, небходимо применить прямое кодирование"
   ]
  },
  {
   "cell_type": "code",
   "execution_count": 6,
   "metadata": {},
   "outputs": [],
   "source": [
    "df = pd.get_dummies(data_new, drop_first=True)"
   ]
  },
  {
   "cell_type": "markdown",
   "metadata": {},
   "source": [
    "### Разделение датасета на выборки"
   ]
  },
  {
   "cell_type": "markdown",
   "metadata": {},
   "source": [
    "Тестовой выборки нет, поэтому разделим исходный датафрейм на три выборки - обучающую, тестовую и валидационную"
   ]
  },
  {
   "cell_type": "code",
   "execution_count": 7,
   "metadata": {},
   "outputs": [
    {
     "name": "stdout",
     "output_type": "stream",
     "text": [
      "(5454,)\n",
      "(1819,)\n",
      "(1818,)\n"
     ]
    }
   ],
   "source": [
    "features = df.drop(\"Exited\", axis=1)\n",
    "target = df[\"Exited\"]\n",
    "\n",
    "features_train, features_test, target_train, target_test = \\\n",
    "train_test_split(features, target, test_size=0.4, random_state=12345)\n",
    "\n",
    "features_test, features_valid, target_test, target_valid = \\\n",
    "train_test_split(features_test, target_test, test_size=0.5, random_state=12345)\n",
    "\n",
    "print(target_train.shape)\n",
    "print(target_valid.shape)\n",
    "print(target_test.shape)"
   ]
  },
  {
   "cell_type": "markdown",
   "metadata": {},
   "source": [
    "### Масштабирование признаков"
   ]
  },
  {
   "cell_type": "markdown",
   "metadata": {},
   "source": [
    "Признаки в нашей задаче имеют разную размерность, поэтому их необходимо масштабировать"
   ]
  },
  {
   "cell_type": "code",
   "execution_count": 8,
   "metadata": {},
   "outputs": [],
   "source": [
    "pd.options.mode.chained_assignment = None\n",
    "\n",
    "features_train = pd.DataFrame(features_train, columns = features.columns)\n",
    "features_valid = pd.DataFrame(features_valid, columns = features.columns)\n",
    "features_test = pd.DataFrame(features_test, columns = features.columns)\n",
    "scaler = StandardScaler()\n",
    "numeric = [\"CreditScore\", \"Age\", \"Tenure\", \"Balance\", \"NumOfProducts\", \"EstimatedSalary\"]\n",
    "scaler.fit(features_train[numeric])\n",
    "\n",
    "features_train[numeric] = scaler.transform(features_train[numeric])\n",
    "features_valid[numeric] = scaler.transform(features_valid[numeric])\n",
    "features_test[numeric] = scaler.transform(features_test[numeric])"
   ]
  },
  {
   "cell_type": "markdown",
   "metadata": {},
   "source": [
    "## Исследование задачи"
   ]
  },
  {
   "cell_type": "markdown",
   "metadata": {},
   "source": [
    "### Оценка дисбаланса"
   ]
  },
  {
   "cell_type": "markdown",
   "metadata": {},
   "source": [
    "Рассмотрим дисбаланс в обучающей выборке"
   ]
  },
  {
   "cell_type": "code",
   "execution_count": 9,
   "metadata": {},
   "outputs": [
    {
     "data": {
      "text/plain": [
       "0.20645397873120647"
      ]
     },
     "execution_count": 9,
     "metadata": {},
     "output_type": "execute_result"
    }
   ],
   "source": [
    "target_train.sum()/target_train.count()"
   ]
  },
  {
   "cell_type": "markdown",
   "metadata": {},
   "source": [
    "20% - не то что бы мало, но до 50 ещё далеко"
   ]
  },
  {
   "cell_type": "markdown",
   "metadata": {},
   "source": [
    "### Обучение моделей без учёта дисбаланса"
   ]
  },
  {
   "cell_type": "markdown",
   "metadata": {},
   "source": [
    "#### Решающее дерево"
   ]
  },
  {
   "cell_type": "code",
   "execution_count": 10,
   "metadata": {},
   "outputs": [
    {
     "name": "stdout",
     "output_type": "stream",
     "text": [
      "Wall time: 9.11 s\n"
     ]
    }
   ],
   "source": [
    "%%time\n",
    "\n",
    "grid_for_tree = {\"max_depth\": [i for i in range(2, 20)],\n",
    "           \"max_features\": [\"sqrt\", \"auto\", None],\n",
    "           'min_samples_leaf': [1, 2, 3, 4, 5, 6],\n",
    "           'min_samples_split': [2, 3, 4, 5, 6]}\n",
    "model_grid_for_tree = RandomizedSearchCV(\n",
    "    DecisionTreeClassifier(), param_distributions = grid_for_tree, scoring=\"f1\", n_iter = 150, random_state=12345)\n",
    "model_tree = model_grid_for_tree.fit(features_train, target_train)"
   ]
  },
  {
   "cell_type": "code",
   "execution_count": 11,
   "metadata": {},
   "outputs": [
    {
     "name": "stdout",
     "output_type": "stream",
     "text": [
      "Наилучшие параметры: {'min_samples_split': 4, 'min_samples_leaf': 5, 'max_features': None, 'max_depth': 8}\n",
      "f1-мера на тренировочной выборке: 0.6574320724560468\n",
      "f1-мера на кросс-валидации (?): 0.5512955793859391\n",
      "f1-мера на валидационной выборке: 0.5060658578856153\n"
     ]
    }
   ],
   "source": [
    "print(\"Наилучшие параметры:\", model_tree.best_params_)\n",
    "print(\"f1-мера на тренировочной выборке:\", f1_score(target_train, model_tree.predict(features_train)))\n",
    "print(\"f1-мера на кросс-валидации (?):\", model_tree.best_score_)\n",
    "print(\"f1-мера на валидационной выборке:\", f1_score(target_valid, model_tree.predict(features_valid)))"
   ]
  },
  {
   "cell_type": "markdown",
   "metadata": {},
   "source": [
    "####  Случайный лес"
   ]
  },
  {
   "cell_type": "code",
   "execution_count": 12,
   "metadata": {
    "scrolled": false
   },
   "outputs": [
    {
     "name": "stdout",
     "output_type": "stream",
     "text": [
      "Wall time: 1min\n"
     ]
    }
   ],
   "source": [
    "%%time\n",
    "\n",
    "grid_for_forest = {\"max_depth\": [i for i in range(2, 20)],\n",
    "           \"n_estimators\": [i for i in range(50, 100, 5)],\n",
    "           \"max_features\": [\"log2\", \"sqrt\", None],\n",
    "           'min_samples_leaf': [1,2,3,4,5,6],\n",
    "           'min_samples_split': [2,3,4,5,6]}\n",
    "model_grid_for_forest = RandomizedSearchCV(\n",
    "    RandomForestClassifier(), param_distributions = grid_for_forest, scoring=\"f1\", n_iter = 25, random_state=12345)\n",
    "model_forest = model_grid_for_forest.fit(features_train, target_train)"
   ]
  },
  {
   "cell_type": "code",
   "execution_count": 13,
   "metadata": {
    "scrolled": true
   },
   "outputs": [
    {
     "name": "stdout",
     "output_type": "stream",
     "text": [
      "Наилучшие параметры: {'n_estimators': 75, 'min_samples_split': 2, 'min_samples_leaf': 3, 'max_features': None, 'max_depth': 18}\n",
      "f1-мера на тренировочной выборке: 0.8614487117160915\n",
      "f1-мера на кросс-валидации (?): 0.5832293676639995\n",
      "f1-мера на валидационной выборке: 0.5856905158069884\n"
     ]
    }
   ],
   "source": [
    "print(\"Наилучшие параметры:\", model_forest.best_params_)\n",
    "print(\"f1-мера на тренировочной выборке:\", f1_score(target_train, model_forest.predict(features_train)))\n",
    "print(\"f1-мера на кросс-валидации (?):\", model_forest.best_score_)\n",
    "print(\"f1-мера на валидационной выборке:\", f1_score(target_valid, model_forest.predict(features_valid)))"
   ]
  },
  {
   "cell_type": "markdown",
   "metadata": {},
   "source": [
    "#### Логистическая регрессия"
   ]
  },
  {
   "cell_type": "code",
   "execution_count": 14,
   "metadata": {
    "scrolled": true
   },
   "outputs": [
    {
     "name": "stdout",
     "output_type": "stream",
     "text": [
      "Wall time: 5.69 s\n"
     ]
    }
   ],
   "source": [
    "%%time\n",
    "\n",
    "grid_for_logistic = {\"solver\": [\"lbfgs\", \"liblinear\"],\n",
    "           \"max_iter\": [i for i in range(100, 200, 10)]}\n",
    "model_grid_for_logistic = GridSearchCV(\n",
    "    LogisticRegression(), param_grid = grid_for_logistic, scoring=\"f1\")\n",
    "model_logistic = model_grid_for_logistic.fit(features_train, target_train)"
   ]
  },
  {
   "cell_type": "code",
   "execution_count": 15,
   "metadata": {},
   "outputs": [
    {
     "name": "stdout",
     "output_type": "stream",
     "text": [
      "Наилучшие параметры: {'max_iter': 100, 'solver': 'liblinear'}\n",
      "f1-мера на тренировочной выборке: 0.2962962962962963\n",
      "f1-мера на кросс-валидации (?): 0.2972917814099498\n",
      "f1-мера на валидационной выборке: 0.3175965665236052\n"
     ]
    }
   ],
   "source": [
    "print(\"Наилучшие параметры:\", model_logistic.best_params_)\n",
    "print(\"f1-мера на тренировочной выборке:\", f1_score(target_train, model_logistic.predict(features_train)))\n",
    "print(\"f1-мера на кросс-валидации (?):\", model_logistic.best_score_)\n",
    "print(\"f1-мера на валидационной выборке:\", f1_score(target_valid, model_logistic.predict(features_valid)))"
   ]
  },
  {
   "cell_type": "markdown",
   "metadata": {},
   "source": [
    "### Вывод\n",
    "В целевом признаке положительного класса в 4 раза меньше, чем отрицательного. По итогам построения моделей без избавления от дисбаланса, лучший результат показала модель случайного леса, но отбрасывать остальные модели не будем, посмотрим, как они себя покажут, если сбалансировать целевой признак"
   ]
  },
  {
   "cell_type": "markdown",
   "metadata": {},
   "source": [
    "## Борьба с дисбалансом"
   ]
  },
  {
   "cell_type": "markdown",
   "metadata": {},
   "source": [
    "В предыдущем разделе неплохо показали себя решающее дерево и случаный лес, поэтому попробуем учучшить их качество"
   ]
  },
  {
   "cell_type": "markdown",
   "metadata": {},
   "source": [
    "### С помощью взвешивания классов"
   ]
  },
  {
   "cell_type": "markdown",
   "metadata": {},
   "source": [
    "Создадим модели с лучшими параметрами, полученными в предыдущей части"
   ]
  },
  {
   "cell_type": "markdown",
   "metadata": {},
   "source": [
    "#### Решающее дерево"
   ]
  },
  {
   "cell_type": "code",
   "execution_count": 16,
   "metadata": {},
   "outputs": [
    {
     "name": "stdout",
     "output_type": "stream",
     "text": [
      "f1-мера на тренировочной выборке: 0.6964155084125823\n",
      "f1-мера на валидационной выборке: 0.5252525252525252\n"
     ]
    }
   ],
   "source": [
    "model_tree_b = DecisionTreeClassifier(\n",
    "    max_depth = 9, min_samples_split = 6, min_samples_leaf = 1, max_features = None, class_weight = \"balanced\")\n",
    "\n",
    "model_tree_b.fit(features_train, target_train)\n",
    "\n",
    "print(\"f1-мера на тренировочной выборке:\", f1_score(target_train, model_tree_b.predict(features_train)))\n",
    "print(\"f1-мера на валидационной выборке:\", f1_score(target_valid, model_tree_b.predict(features_valid)))"
   ]
  },
  {
   "cell_type": "markdown",
   "metadata": {},
   "source": [
    "#### Случайный лес"
   ]
  },
  {
   "cell_type": "code",
   "execution_count": 17,
   "metadata": {},
   "outputs": [
    {
     "name": "stdout",
     "output_type": "stream",
     "text": [
      "f1-мера на тренировочной выборке: 0.8320000000000001\n",
      "f1-мера на валидационной выборке: 0.6086956521739131\n"
     ]
    }
   ],
   "source": [
    "model_forest_b = RandomForestClassifier(\n",
    "    n_estimators=95, min_samples_split=5, min_samples_leaf=6, max_features=None, max_depth=14, class_weight=\"balanced\", random_state=12345)\n",
    "\n",
    "model_forest_b.fit(features_train, target_train)\n",
    "\n",
    "print(\"f1-мера на тренировочной выборке:\", f1_score(target_train, model_forest_b.predict(features_train)))\n",
    "print(\"f1-мера на валидационной выборке:\", f1_score(target_valid, model_forest_b.predict(features_valid)))"
   ]
  },
  {
   "cell_type": "markdown",
   "metadata": {},
   "source": [
    "#### Логистическая регрессия"
   ]
  },
  {
   "cell_type": "code",
   "execution_count": 18,
   "metadata": {},
   "outputs": [
    {
     "name": "stdout",
     "output_type": "stream",
     "text": [
      "f1-мера на тренировочной выборке: 0.4927907721884012\n",
      "f1-мера на валидационной выборке: 0.5025432349949135\n"
     ]
    }
   ],
   "source": [
    "model_logistic_b = LogisticRegression(class_weight = \"balanced\")\n",
    "\n",
    "model_logistic_b.fit(features_train, target_train)\n",
    "\n",
    "print(\"f1-мера на тренировочной выборке:\", f1_score(target_train, model_logistic_b.predict(features_train)))\n",
    "print(\"f1-мера на валидационной выборке:\", f1_score(target_valid, model_logistic_b.predict(features_valid)))"
   ]
  },
  {
   "cell_type": "markdown",
   "metadata": {},
   "source": [
    "### Upsampling"
   ]
  },
  {
   "cell_type": "markdown",
   "metadata": {},
   "source": [
    "Расширим класс, который в дефиците"
   ]
  },
  {
   "cell_type": "code",
   "execution_count": 19,
   "metadata": {},
   "outputs": [
    {
     "data": {
      "text/plain": [
       "0.509963768115942"
      ]
     },
     "execution_count": 19,
     "metadata": {},
     "output_type": "execute_result"
    }
   ],
   "source": [
    "def upsample(features, target, repeat):\n",
    "    features_zeros = features[target == 0]\n",
    "    features_ones = features[target == 1]\n",
    "    target_zeros = target[target == 0]\n",
    "    target_ones = target[target == 1]\n",
    "\n",
    "    features_upsampled = pd.concat([features_zeros] + [features_ones] * 4)\n",
    "    target_upsampled = pd.concat([target_zeros] + [target_ones] * 4)\n",
    "    \n",
    "    return shuffle(features_upsampled, target_upsampled, random_state = 12345)\n",
    "\n",
    "\n",
    "features_upsampled, target_upsampled = upsample(features_train, target_train, 10)\n",
    "\n",
    "target_upsampled.sum()/target_upsampled.count()"
   ]
  },
  {
   "cell_type": "markdown",
   "metadata": {},
   "source": [
    "теперь классов почти 50/50"
   ]
  },
  {
   "cell_type": "markdown",
   "metadata": {},
   "source": [
    "#### Решающее дерево"
   ]
  },
  {
   "cell_type": "code",
   "execution_count": 20,
   "metadata": {},
   "outputs": [
    {
     "name": "stdout",
     "output_type": "stream",
     "text": [
      "f1-мера на тренировочной выборке: 0.7008862629246676\n",
      "f1-мера на валидационной выборке: 0.5266742338251986\n"
     ]
    }
   ],
   "source": [
    "model_tree_up = DecisionTreeClassifier(\n",
    "    max_depth = 9, min_samples_split = 6, min_samples_leaf = 1, max_features = None, random_state=1)\n",
    "\n",
    "model_tree_up.fit(features_upsampled, target_upsampled)\n",
    "\n",
    "print(\"f1-мера на тренировочной выборке:\", f1_score(target_train, model_tree_up.predict(features_train)))\n",
    "print(\"f1-мера на валидационной выборке:\", f1_score(target_valid, model_tree_up.predict(features_valid)))"
   ]
  },
  {
   "cell_type": "markdown",
   "metadata": {},
   "source": [
    "#### Случайный лес"
   ]
  },
  {
   "cell_type": "code",
   "execution_count": 21,
   "metadata": {
    "scrolled": true
   },
   "outputs": [
    {
     "name": "stdout",
     "output_type": "stream",
     "text": [
      "f1-мера на тренировочной выборке: 0.8857827476038338\n",
      "f1-мера на валидационной выборке: 0.5825977301387137\n"
     ]
    }
   ],
   "source": [
    "model_forest_up = RandomForestClassifier(\n",
    "    n_estimators=95, min_samples_split=5, min_samples_leaf=6, max_features=None, max_depth=14, random_state=12345)\n",
    "\n",
    "model_forest_up.fit(features_upsampled, target_upsampled)\n",
    "\n",
    "print(\"f1-мера на тренировочной выборке:\", f1_score(target_train, model_forest_up.predict(features_train)))\n",
    "print(\"f1-мера на валидационной выборке:\", f1_score(target_valid, model_forest_up.predict(features_valid)))"
   ]
  },
  {
   "cell_type": "markdown",
   "metadata": {},
   "source": [
    "#### Логистическая регрессия"
   ]
  },
  {
   "cell_type": "code",
   "execution_count": 22,
   "metadata": {},
   "outputs": [
    {
     "name": "stdout",
     "output_type": "stream",
     "text": [
      "f1-мера на тренировочной выборке: 0.49185463659147877\n",
      "f1-мера на валидационной выборке: 0.49653808110781406\n"
     ]
    }
   ],
   "source": [
    "model_logistic_up = LogisticRegression()\n",
    "\n",
    "model_logistic_up.fit(features_upsampled, target_upsampled)\n",
    "\n",
    "print(\"f1-мера на тренировочной выборке:\", f1_score(target_train, model_logistic_up.predict(features_train)))\n",
    "print(\"f1-мера на валидационной выборке:\", f1_score(target_valid, model_logistic_up.predict(features_valid)))"
   ]
  },
  {
   "cell_type": "markdown",
   "metadata": {},
   "source": [
    "### Вывод\n",
    "Лучший рельтат показала модель случайного леса в обоих случаях балансировки. Чтобы выбрать, сравним полноту обеих моделей - ключевую метрику для нашей задачи"
   ]
  },
  {
   "cell_type": "code",
   "execution_count": 23,
   "metadata": {},
   "outputs": [
    {
     "name": "stdout",
     "output_type": "stream",
     "text": [
      "Взвешивание: 0.6286472148541115\n",
      "Увеличение: 0.649867374005305\n"
     ]
    }
   ],
   "source": [
    "print(\"Взвешивание:\", recall_score(target_test, model_forest_b.predict(features_test)))\n",
    "print(\"Увеличение:\", recall_score(target_test, model_forest_up.predict(features_test)))"
   ]
  },
  {
   "cell_type": "markdown",
   "metadata": {},
   "source": [
    "## Тестирование модели"
   ]
  },
  {
   "cell_type": "markdown",
   "metadata": {},
   "source": [
    "### Тестирование лучшей модели"
   ]
  },
  {
   "cell_type": "markdown",
   "metadata": {},
   "source": [
    "Лучший результат показала модель случайного леса искусственно расширеной выборкой"
   ]
  },
  {
   "cell_type": "code",
   "execution_count": 24,
   "metadata": {
    "scrolled": true
   },
   "outputs": [
    {
     "name": "stdout",
     "output_type": "stream",
     "text": [
      "f1-мера на тестовой выборке: 0.6049382716049383\n"
     ]
    }
   ],
   "source": [
    "model = model_forest_up\n",
    "print(\"f1-мера на тестовой выборке:\", f1_score(target_test, model.predict(features_test)))"
   ]
  },
  {
   "cell_type": "markdown",
   "metadata": {},
   "source": [
    "### Исследование лучшей модели"
   ]
  },
  {
   "cell_type": "markdown",
   "metadata": {},
   "source": [
    "Построим матрицу ошибок"
   ]
  },
  {
   "cell_type": "code",
   "execution_count": 25,
   "metadata": {},
   "outputs": [
    {
     "data": {
      "text/plain": [
       "array([[1253,  188],\n",
       "       [ 132,  245]], dtype=int64)"
      ]
     },
     "execution_count": 25,
     "metadata": {},
     "output_type": "execute_result"
    }
   ],
   "source": [
    "confusion_matrix(target_test, model.predict(features_test)) "
   ]
  },
  {
   "cell_type": "markdown",
   "metadata": {},
   "source": [
    "Построим *ROC* кривую и посчитаем площадь под ней"
   ]
  },
  {
   "cell_type": "code",
   "execution_count": 26,
   "metadata": {},
   "outputs": [
    {
     "data": {
      "image/png": "[encoded data removed]",
      "text/plain": [
       "<Figure size 640x480 with 1 Axes>"
      ]
     },
     "metadata": {},
     "output_type": "display_data"
    },
    {
     "name": "stdout",
     "output_type": "stream",
     "text": [
      "AUC-ROC: 0.8549939060838243\n"
     ]
    }
   ],
   "source": [
    "probabilities_valid = model.predict_proba(features_valid)\n",
    "probabilities_one_valid = probabilities_valid[:, 1]\n",
    "\n",
    "fpr, tpr, thresholds = roc_curve(target_valid, probabilities_one_valid)# < напишите код здесь >\n",
    "\n",
    "plt.figure()\n",
    "\n",
    "plt.plot(fpr, tpr)\n",
    "plt.plot([0, 1], [0, 1], linestyle='--')\n",
    "plt.xlim([0.0, 1.0])\n",
    "plt.ylim([0.0, 1.0])\n",
    "plt.xlabel('False Positive Rate')\n",
    "plt.ylabel('True Positive Rate')\n",
    "plt.title('ROC-кривая')\n",
    "plt.show()\n",
    "\n",
    "print(\"AUC-ROC:\", roc_auc_score(target_valid, probabilities_one_valid))"
   ]
  },
  {
   "cell_type": "markdown",
   "metadata": {},
   "source": [
    "Посчитаем точность и полноту"
   ]
  },
  {
   "cell_type": "code",
   "execution_count": 27,
   "metadata": {},
   "outputs": [
    {
     "name": "stdout",
     "output_type": "stream",
     "text": [
      "Точность: 0.5658198614318707\n",
      "Полнота: 0.649867374005305\n"
     ]
    }
   ],
   "source": [
    "print(\"Точность:\", precision_score(target_test, model.predict(features_test)))\n",
    "print(\"Полнота:\", recall_score(target_test, model.predict(features_test)))"
   ]
  },
  {
   "cell_type": "markdown",
   "metadata": {},
   "source": [
    "## Общий вывод"
   ]
  },
  {
   "cell_type": "markdown",
   "metadata": {},
   "source": [
    "В результате проведённой работы была построена модель, которая прогнозирует уход клиентов из банка. Было проведено сравнение трёх моделей, в результате которого была выбрана модель случайного леса. Для достижения баланса классов в обучающей выборке было проведено увеличение положительного класса. В результате удалось достичь значений f1 = 0.60, auc-roc = 0.85 и recall = 0.65"
   ]
  }
 ],
 "metadata": {
  "kernelspec": {
   "display_name": "Python 3 (ipykernel)",
   "language": "python",
   "name": "python3"
  },
  "language_info": {
   "codemirror_mode": {
    "name": "ipython",
    "version": 3
   },
   "file_extension": ".py",
   "mimetype": "text/x-python",
   "name": "python",
   "nbconvert_exporter": "python",
   "pygments_lexer": "ipython3",
   "version": "3.9.13"
  },
  "toc": {
   "base_numbering": 1,
   "nav_menu": {
    "height": "255px",
    "width": "290px"
   },
   "number_sections": true,
   "sideBar": true,
   "skip_h1_title": true,
   "title_cell": "Содержание",
   "title_sidebar": "Contents",
   "toc_cell": true,
   "toc_position": {
    "height": "calc(100% - 180px)",
    "left": "10px",
    "top": "150px",
    "width": "299.825px"
   },
   "toc_section_display": true,
   "toc_window_display": true
  }
 },
 "nbformat": 4,
 "nbformat_minor": 2
}
