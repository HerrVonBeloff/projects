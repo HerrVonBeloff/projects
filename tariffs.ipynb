{
 "cells": [
  {
   "cell_type": "markdown",
   "metadata": {},
   "source": [
    "# Рекомендация тарифов"
   ]
  },
  {
   "cell_type": "markdown",
   "metadata": {},
   "source": [
    "В вашем распоряжении данные о поведении клиентов, которые уже перешли на эти тарифы (из проекта курса «Статистический анализ данных»). Нужно построить модель для задачи классификации, которая выберет подходящий тариф. Предобработка данных не понадобится — вы её уже сделали.\n",
    "\n",
    "Постройте модель с максимально большим значением *accuracy*. Чтобы сдать проект успешно, нужно довести долю правильных ответов по крайней мере до 0.75. Проверьте *accuracy* на тестовой выборке самостоятельно."
   ]
  },
  {
   "cell_type": "markdown",
   "metadata": {},
   "source": [
    "### Описание целей и задач"
   ]
  },
  {
   "cell_type": "markdown",
   "metadata": {},
   "source": [
    "Необходимо проверить предсказательную способность разных моделей, чтобы построить рекомендательную систему тарифов на основе данных клиентов (количества звонков, общей продолжительности звонков, количесва сообщений и использованных ГБ трафика). Лучшая модель и будет лежеть в основе такой системы"
   ]
  },
  {
   "cell_type": "markdown",
   "metadata": {},
   "source": [
    "## Откройте и изучите файл"
   ]
  },
  {
   "cell_type": "code",
   "execution_count": 1,
   "metadata": {},
   "outputs": [],
   "source": [
    "import pandas as pd\n",
    "from sklearn.model_selection import train_test_split\n",
    "from sklearn.tree import DecisionTreeClassifier\n",
    "from sklearn.ensemble import RandomForestClassifier\n",
    "from sklearn.linear_model import LogisticRegression\n",
    "from sklearn.dummy import DummyClassifier\n",
    "from sklearn.metrics import confusion_matrix\n",
    "import seaborn as sb\n",
    "import matplotlib.pyplot as plt"
   ]
  },
  {
   "cell_type": "code",
   "execution_count": 2,
   "metadata": {},
   "outputs": [
    {
     "name": "stdout",
     "output_type": "stream",
     "text": [
      "(3214, 5)\n"
     ]
    },
    {
     "data": {
      "text/html": [
       "<div>\n",
       "<style scoped>\n",
       "    .dataframe tbody tr th:only-of-type {\n",
       "        vertical-align: middle;\n",
       "    }\n",
       "\n",
       "    .dataframe tbody tr th {\n",
       "        vertical-align: top;\n",
       "    }\n",
       "\n",
       "    .dataframe thead th {\n",
       "        text-align: right;\n",
       "    }\n",
       "</style>\n",
       "<table border=\"1\" class=\"dataframe\">\n",
       "  <thead>\n",
       "    <tr style=\"text-align: right;\">\n",
       "      <th></th>\n",
       "      <th>calls</th>\n",
       "      <th>minutes</th>\n",
       "      <th>messages</th>\n",
       "      <th>mb_used</th>\n",
       "      <th>is_ultra</th>\n",
       "    </tr>\n",
       "  </thead>\n",
       "  <tbody>\n",
       "    <tr>\n",
       "      <th>0</th>\n",
       "      <td>40.0</td>\n",
       "      <td>311.90</td>\n",
       "      <td>83.0</td>\n",
       "      <td>19915.42</td>\n",
       "      <td>0</td>\n",
       "    </tr>\n",
       "    <tr>\n",
       "      <th>1</th>\n",
       "      <td>85.0</td>\n",
       "      <td>516.75</td>\n",
       "      <td>56.0</td>\n",
       "      <td>22696.96</td>\n",
       "      <td>0</td>\n",
       "    </tr>\n",
       "    <tr>\n",
       "      <th>2</th>\n",
       "      <td>77.0</td>\n",
       "      <td>467.66</td>\n",
       "      <td>86.0</td>\n",
       "      <td>21060.45</td>\n",
       "      <td>0</td>\n",
       "    </tr>\n",
       "    <tr>\n",
       "      <th>3</th>\n",
       "      <td>106.0</td>\n",
       "      <td>745.53</td>\n",
       "      <td>81.0</td>\n",
       "      <td>8437.39</td>\n",
       "      <td>1</td>\n",
       "    </tr>\n",
       "    <tr>\n",
       "      <th>4</th>\n",
       "      <td>66.0</td>\n",
       "      <td>418.74</td>\n",
       "      <td>1.0</td>\n",
       "      <td>14502.75</td>\n",
       "      <td>0</td>\n",
       "    </tr>\n",
       "  </tbody>\n",
       "</table>\n",
       "</div>"
      ],
      "text/plain": [
       "   calls  minutes  messages   mb_used  is_ultra\n",
       "0   40.0   311.90      83.0  19915.42         0\n",
       "1   85.0   516.75      56.0  22696.96         0\n",
       "2   77.0   467.66      86.0  21060.45         0\n",
       "3  106.0   745.53      81.0   8437.39         1\n",
       "4   66.0   418.74       1.0  14502.75         0"
      ]
     },
     "execution_count": 2,
     "metadata": {},
     "output_type": "execute_result"
    }
   ],
   "source": [
    "df = pd.read_csv(\"datasets/users_behavior.csv\")\n",
    "print(df.shape)\n",
    "df.head(5)"
   ]
  },
  {
   "cell_type": "code",
   "execution_count": 3,
   "metadata": {},
   "outputs": [
    {
     "data": {
      "text/plain": [
       "0.30647168637212197"
      ]
     },
     "execution_count": 3,
     "metadata": {},
     "output_type": "execute_result"
    }
   ],
   "source": [
    "len(df[df[\"is_ultra\"]==1])/len(df)"
   ]
  },
  {
   "cell_type": "markdown",
   "metadata": {},
   "source": [
    "Количество пользователей, использующих тариф Ультра, в датасете - 30%. Неравномерность в данных может плохо сказаться на предсказательной способности моделей"
   ]
  },
  {
   "cell_type": "markdown",
   "metadata": {},
   "source": [
    "## Разбейте данные на выборки"
   ]
  },
  {
   "cell_type": "markdown",
   "metadata": {},
   "source": [
    "Изначально определимся с целевым признаком. В нашем случае это `is_ultra`"
   ]
  },
  {
   "cell_type": "code",
   "execution_count": 4,
   "metadata": {},
   "outputs": [],
   "source": [
    "df_target = df[\"is_ultra\"]\n",
    "df_features = df.drop(\"is_ultra\", axis=1)"
   ]
  },
  {
   "cell_type": "markdown",
   "metadata": {},
   "source": [
    "Так как тестовая выборка изначально не дана, то разделим исходный датасет на три выборки - обучающую, валидационную и тестовую в пропорции 60-20-60"
   ]
  },
  {
   "cell_type": "code",
   "execution_count": 5,
   "metadata": {},
   "outputs": [],
   "source": [
    "train_target, test_target, train_features, test_features = train_test_split(\n",
    "    df_target, df_features, test_size=0.4, random_state=1)"
   ]
  },
  {
   "cell_type": "code",
   "execution_count": 6,
   "metadata": {},
   "outputs": [],
   "source": [
    "valid_target, test_target, valid_features, test_features = train_test_split(\n",
    "    test_target, test_features, test_size=0.5, random_state=1)"
   ]
  },
  {
   "cell_type": "code",
   "execution_count": 7,
   "metadata": {},
   "outputs": [
    {
     "name": "stdout",
     "output_type": "stream",
     "text": [
      "Размер обучающей выборки: (1928,)\n",
      "Размер валидационной выборки: (643,)\n",
      "Размер тестовой выборки: (643,)\n"
     ]
    }
   ],
   "source": [
    "print(\"Размер обучающей выборки:\", train_target.shape)\n",
    "print(\"Размер валидационной выборки:\", valid_target.shape)\n",
    "print(\"Размер тестовой выборки:\", test_target.shape)"
   ]
  },
  {
   "cell_type": "code",
   "execution_count": 8,
   "metadata": {},
   "outputs": [
    {
     "name": "stdout",
     "output_type": "stream",
     "text": [
      "0.2966804979253112\n",
      "0.3359253499222395\n",
      "0.30637636080870917\n"
     ]
    }
   ],
   "source": [
    "print(train_target.mean())\n",
    "print(valid_target.mean())\n",
    "print(test_target.mean())"
   ]
  },
  {
   "cell_type": "markdown",
   "metadata": {},
   "source": [
    "## Исследуйте модели"
   ]
  },
  {
   "cell_type": "markdown",
   "metadata": {},
   "source": [
    "### Дерево решений"
   ]
  },
  {
   "cell_type": "code",
   "execution_count": 9,
   "metadata": {},
   "outputs": [
    {
     "name": "stdout",
     "output_type": "stream",
     "text": [
      "1 0.71850699844479\n",
      "2 0.7558320373250389\n",
      "3 0.7713841368584758\n",
      "4 0.7682737169517885\n",
      "--------------------\n",
      "Лучший accuracy: 0.7713841368584758\n",
      "При глубине дерева: 3\n"
     ]
    }
   ],
   "source": [
    "max = 0\n",
    "for depth in range(1,5):\n",
    "    model_tree = DecisionTreeClassifier(random_state=1, max_depth=depth) # Создаём модель\n",
    "    model_tree.fit(train_features, train_target)                         # Обучаем на обучающей выборке\n",
    "    result = model_tree.score(valid_features, valid_target)                   # Находим accuracy модели\n",
    "    if result > max:\n",
    "        max = result\n",
    "        best_depth = depth\n",
    "        best_model_tree = model_tree\n",
    "    print(depth, result)\n",
    "print(\"-\"*20)\n",
    "print(\"Лучший accuracy:\", max)\n",
    "print(\"При глубине дерева:\", best_depth) "
   ]
  },
  {
   "cell_type": "markdown",
   "metadata": {},
   "source": [
    "### Случайный лес"
   ]
  },
  {
   "cell_type": "code",
   "execution_count": 10,
   "metadata": {},
   "outputs": [
    {
     "name": "stdout",
     "output_type": "stream",
     "text": [
      "sqrt\n",
      "1 0.7325038880248833\n",
      "2 0.7542768273716952\n",
      "3 0.7465007776049767\n",
      "4 0.7713841368584758\n",
      "5 0.7807153965785381\n",
      "6 0.7776049766718507\n",
      "7 0.7791601866251944\n",
      "8 0.7776049766718507\n",
      "9 0.7838258164852255\n",
      "10 0.7807153965785381\n",
      "11 0.7822706065318819\n",
      "None\n",
      "1 0.7293934681181959\n",
      "2 0.7542768273716952\n",
      "3 0.7527216174183515\n",
      "4 0.7744945567651633\n",
      "5 0.7698289269051322\n",
      "6 0.7807153965785381\n",
      "7 0.7807153965785381\n",
      "8 0.776049766718507\n",
      "9 0.7900466562986003\n",
      "10 0.7900466562986003\n",
      "11 0.7853810264385692\n",
      "--------------------\n",
      "Лучший accuracy: 0.7900466562986003\n",
      "При количестве деревьев: 9 и максимальном количестве признаков None\n"
     ]
    }
   ],
   "source": [
    "max = 0\n",
    "for max_f in [\"sqrt\", None]:\n",
    "    print(max_f)\n",
    "    for est in range(1,12):\n",
    "        model_forest = RandomForestClassifier(random_state=1, n_estimators=est, max_features = max_f)\n",
    "        model_forest.fit(train_features, train_target)\n",
    "        result = model_forest.score(valid_features, valid_target)\n",
    "        if result > max:\n",
    "            max = result\n",
    "            best_estimators = est\n",
    "            best_model_forest = model_forest\n",
    "            best_max_f = max_f\n",
    "        print(est, result)\n",
    "print(\"-\"*20)\n",
    "print(\"Лучший accuracy:\", max)\n",
    "print(\"При количестве деревьев:\", best_estimators, \"и максимальном количестве признаков\", best_max_f)"
   ]
  },
  {
   "cell_type": "markdown",
   "metadata": {},
   "source": [
    "### Логистическая регрессия"
   ]
  },
  {
   "cell_type": "code",
   "execution_count": 11,
   "metadata": {},
   "outputs": [
    {
     "data": {
      "text/plain": [
       "0.7200622083981337"
      ]
     },
     "execution_count": 11,
     "metadata": {},
     "output_type": "execute_result"
    }
   ],
   "source": [
    "model_regression = LogisticRegression(random_state=1, solver='lbfgs', max_iter=1000)\n",
    "model_regression.fit(train_features, train_target)\n",
    "model_regression.score(valid_features, valid_target)"
   ]
  },
  {
   "cell_type": "markdown",
   "metadata": {},
   "source": [
    "На валидационной выборке лучшие результаты показали модели решающего дерева и случайного леса, логистическая регрессия показала самый худший результат. Особенности построения модели на наших данных - неравномерность деления целевого параметра (70 на 30) и малое количесво параметров (4 штуки). Эти особенности неизбежно будут влиять на точность предсказания"
   ]
  },
  {
   "cell_type": "markdown",
   "metadata": {},
   "source": [
    "## Проверьте модель на тестовой выборке"
   ]
  },
  {
   "cell_type": "markdown",
   "metadata": {},
   "source": [
    "### Проверка на очевидность"
   ]
  },
  {
   "cell_type": "markdown",
   "metadata": {},
   "source": [
    "Лучший результат на валидационной выборке показала модель случайного леса, поэтому примем именно её"
   ]
  },
  {
   "cell_type": "code",
   "execution_count": 12,
   "metadata": {},
   "outputs": [],
   "source": [
    "model = best_model_forest"
   ]
  },
  {
   "cell_type": "code",
   "execution_count": 13,
   "metadata": {
    "scrolled": true
   },
   "outputs": [
    {
     "name": "stdout",
     "output_type": "stream",
     "text": [
      "Accuracy модели случайного леса на тестовой выборке: 0.7776049766718507\n"
     ]
    }
   ],
   "source": [
    "print(\"Accuracy модели случайного леса на тестовой выборке:\", model.score(test_features, test_target))"
   ]
  },
  {
   "cell_type": "markdown",
   "metadata": {},
   "source": [
    "## (бонус) Проверьте модели на адекватность"
   ]
  },
  {
   "cell_type": "markdown",
   "metadata": {},
   "source": [
    "Из прерыдущих уроков ивестно: \n",
    "- в тариф \"Смарт\" включены 500 минут разговора, 50 сообщений и 15 ГБ трафика\n",
    "- в тариф \"Ультра\" включены 3000 минут разговора, 1000 сообщений, 30 ГБ трафика и более мягкие цены за превышение этих лимитов по сравнению со \"Смартом\"\n",
    "Сконструируем двух клиентов так, чтобы один не превышал лимитов \"Смарта\", а другой немного превышал \"Ультру\""
   ]
  },
  {
   "cell_type": "code",
   "execution_count": 14,
   "metadata": {},
   "outputs": [
    {
     "name": "stdout",
     "output_type": "stream",
     "text": [
      "[0 1]\n"
     ]
    }
   ],
   "source": [
    "check = pd.DataFrame(\n",
    "[[10, 400, 40, 13000],        # Клиент, которому не нужен \"Ультра\"\n",
    " [100, 3100, 1100, 35000]],   # Клиент, который не может без \"Ультра\"\n",
    " columns=df_features.columns)\n",
    "\n",
    "print(model.predict(check))"
   ]
  },
  {
   "cell_type": "markdown",
   "metadata": {},
   "source": [
    "Всё сходится со здравым смыслом - \"Ультра\" будет полезна только второму клиенту"
   ]
  },
  {
   "cell_type": "markdown",
   "metadata": {},
   "source": [
    "### Сравнение с Dummy моделью"
   ]
  },
  {
   "cell_type": "code",
   "execution_count": 15,
   "metadata": {},
   "outputs": [
    {
     "data": {
      "text/plain": [
       "0.6640746500777605"
      ]
     },
     "execution_count": 15,
     "metadata": {},
     "output_type": "execute_result"
    }
   ],
   "source": [
    "dummy_model = DummyClassifier()\n",
    "dummy_model.fit(train_features, train_target)\n",
    "dummy_model.score(valid_features, valid_target)"
   ]
  },
  {
   "cell_type": "markdown",
   "metadata": {},
   "source": [
    "Эту проверку наша модель тоже прошла, показала результат лучше, чем простейшая"
   ]
  },
  {
   "cell_type": "markdown",
   "metadata": {},
   "source": [
    "### Сonfusion_matrix"
   ]
  },
  {
   "cell_type": "markdown",
   "metadata": {},
   "source": [
    "Посмотрим, в какую сторону модель ошибалась больше"
   ]
  },
  {
   "cell_type": "code",
   "execution_count": 16,
   "metadata": {
    "scrolled": false
   },
   "outputs": [
    {
     "data": {
      "image/png": "[encoded data removed]",
      "text/plain": [
       "<Figure size 640x480 with 2 Axes>"
      ]
     },
     "metadata": {},
     "output_type": "display_data"
    }
   ],
   "source": [
    "y_true = test_target\n",
    "y_pred = model.predict(test_features)\n",
    "sb.heatmap(confusion_matrix(y_true, y_pred), annot=True)\n",
    "\n",
    "plt.title( \"confusion_matrix\" )\n",
    "plt.show()"
   ]
  },
  {
   "cell_type": "markdown",
   "metadata": {},
   "source": [
    "Из этой матрицы видно, что ложноотрицательных (должно быть 1, а предсказала 0) больше, чем ложноположительных (должно быть 0, а пресказала 1), то есть модель скорее пропустит нужного клиента, чем предложит тариф \"Ультра\" человеку, которому он не нужен)"
   ]
  },
  {
   "cell_type": "markdown",
   "metadata": {},
   "source": [
    "## Общий вывод"
   ]
  },
  {
   "cell_type": "markdown",
   "metadata": {},
   "source": [
    "В исходном датасете наблюдается дисбаланс в целевом параметре (70 на 30), это влияет на точность предсказаний. \n",
    "\n",
    "Были рассмотрены три типа моделей - решающее дерево, случайный лес и логистическая регрессия. При проверке на валидационной выборке была определена лучшая модель - случайный лес с числом деревьев 9 показал accuracy 79%. При проверке на тестовой выборке модель показала accuracy 78%. \n",
    "\n",
    "Также была проведена проверка полученной модели - сравнений с dummy моделью и получение очевидных ожидаемых результатов. Обе проверки модель прошла успешно"
   ]
  }
 ],
 "metadata": {
  "kernelspec": {
   "display_name": "Python 3 (ipykernel)",
   "language": "python",
   "name": "python3"
  },
  "language_info": {
   "codemirror_mode": {
    "name": "ipython",
    "version": 3
   },
   "file_extension": ".py",
   "mimetype": "text/x-python",
   "name": "python",
   "nbconvert_exporter": "python",
   "pygments_lexer": "ipython3",
   "version": "3.9.13"
  },
  "toc": {
   "base_numbering": 1,
   "nav_menu": {},
   "number_sections": true,
   "sideBar": true,
   "skip_h1_title": true,
   "title_cell": "Table of Contents",
   "title_sidebar": "Contents",
   "toc_cell": false,
   "toc_position": {},
   "toc_section_display": true,
   "toc_window_display": false
  }
 },
 "nbformat": 4,
 "nbformat_minor": 2
}
