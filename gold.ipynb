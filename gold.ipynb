{
 "cells": [
  {
   "cell_type": "markdown",
   "metadata": {
    "toc": true
   },
   "source": [
    "<h1>Содержание<span class=\"tocSkip\"></span></h1>\n",
    "<div class=\"toc\"><ul class=\"toc-item\"><li><span><a href=\"#Подготовка-данных\" data-toc-modified-id=\"Подготовка-данных-1\"><span class=\"toc-item-num\">1&nbsp;&nbsp;</span>Подготовка данных</a></span><ul class=\"toc-item\"><li><span><a href=\"#Просмтор-данных\" data-toc-modified-id=\"Просмтор-данных-1.1\"><span class=\"toc-item-num\">1.1&nbsp;&nbsp;</span>Просмтор данных</a></span></li><li><span><a href=\"#Добавление-в-тестовую-выборку-таргет-столбцов\" data-toc-modified-id=\"Добавление-в-тестовую-выборку-таргет-столбцов-1.2\"><span class=\"toc-item-num\">1.2&nbsp;&nbsp;</span>Добавление в тестовую выборку таргет столбцов</a></span></li><li><span><a href=\"#Проверка-расчёта-recovery\" data-toc-modified-id=\"Проверка-расчёта-recovery-1.3\"><span class=\"toc-item-num\">1.3&nbsp;&nbsp;</span>Проверка расчёта recovery</a></span></li><li><span><a href=\"#Удаление-пропусков\" data-toc-modified-id=\"Удаление-пропусков-1.4\"><span class=\"toc-item-num\">1.4&nbsp;&nbsp;</span>Удаление пропусков</a></span></li><li><span><a href=\"#Вывод\" data-toc-modified-id=\"Вывод-1.5\"><span class=\"toc-item-num\">1.5&nbsp;&nbsp;</span>Вывод</a></span></li></ul></li><li><span><a href=\"#Анализ-данных\" data-toc-modified-id=\"Анализ-данных-2\"><span class=\"toc-item-num\">2&nbsp;&nbsp;</span>Анализ данных</a></span><ul class=\"toc-item\"><li><span><a href=\"#Исследование-концентраций-металлов\" data-toc-modified-id=\"Исследование-концентраций-металлов-2.1\"><span class=\"toc-item-num\">2.1&nbsp;&nbsp;</span>Исследование концентраций металлов</a></span></li><li><span><a href=\"#Анализ-распределения-размеров-гранул-сырья\" data-toc-modified-id=\"Анализ-распределения-размеров-гранул-сырья-2.2\"><span class=\"toc-item-num\">2.2&nbsp;&nbsp;</span>Анализ распределения размеров гранул сырья</a></span></li><li><span><a href=\"#Исследование-суммарной-концентрации-веществ\" data-toc-modified-id=\"Исследование-суммарной-концентрации-веществ-2.3\"><span class=\"toc-item-num\">2.3&nbsp;&nbsp;</span>Исследование суммарной концентрации веществ</a></span></li></ul></li><li><span><a href=\"#Модель\" data-toc-modified-id=\"Модель-3\"><span class=\"toc-item-num\">3&nbsp;&nbsp;</span>Модель</a></span><ul class=\"toc-item\"><li><span><a href=\"#Разделение-выборок\" data-toc-modified-id=\"Разделение-выборок-3.1\"><span class=\"toc-item-num\">3.1&nbsp;&nbsp;</span>Разделение выборок</a></span></li><li><span><a href=\"#Приведение-к-одной-размерности\" data-toc-modified-id=\"Приведение-к-одной-размерности-3.2\"><span class=\"toc-item-num\">3.2&nbsp;&nbsp;</span>Приведение к одной размерности</a></span></li><li><span><a href=\"#Масштабирование-признаков\" data-toc-modified-id=\"Масштабирование-признаков-3.3\"><span class=\"toc-item-num\">3.3&nbsp;&nbsp;</span>Масштабирование признаков</a></span></li><li><span><a href=\"#Обучение-модели\" data-toc-modified-id=\"Обучение-модели-3.4\"><span class=\"toc-item-num\">3.4&nbsp;&nbsp;</span>Обучение модели</a></span><ul class=\"toc-item\"><li><span><a href=\"#Dummy-модель\" data-toc-modified-id=\"Dummy-модель-3.4.1\"><span class=\"toc-item-num\">3.4.1&nbsp;&nbsp;</span>Dummy модель</a></span></li><li><span><a href=\"#Линейная-регрессия\" data-toc-modified-id=\"Линейная-регрессия-3.4.2\"><span class=\"toc-item-num\">3.4.2&nbsp;&nbsp;</span>Линейная регрессия</a></span></li><li><span><a href=\"#Случайный-лес\" data-toc-modified-id=\"Случайный-лес-3.4.3\"><span class=\"toc-item-num\">3.4.3&nbsp;&nbsp;</span>Случайный лес</a></span></li></ul></li><li><span><a href=\"#Проверка-на-тестовой-выборке\" data-toc-modified-id=\"Проверка-на-тестовой-выборке-3.5\"><span class=\"toc-item-num\">3.5&nbsp;&nbsp;</span>Проверка на тестовой выборке</a></span></li></ul></li><li><span><a href=\"#Вывод\" data-toc-modified-id=\"Вывод-4\"><span class=\"toc-item-num\">4&nbsp;&nbsp;</span>Вывод</a></span></li><li><span><a href=\"#Чек-лист-готовности-проекта\" data-toc-modified-id=\"Чек-лист-готовности-проекта-5\"><span class=\"toc-item-num\">5&nbsp;&nbsp;</span>Чек-лист готовности проекта</a></span></li></ul></div>"
   ]
  },
  {
   "cell_type": "markdown",
   "metadata": {},
   "source": [
    "# Восстановление золота из руды"
   ]
  },
  {
   "cell_type": "markdown",
   "metadata": {},
   "source": [
    "Подготовьте прототип модели машинного обучения для «Цифры». Компания разрабатывает решения для эффективной работы промышленных предприятий.\n",
    "\n",
    "Модель должна предсказать коэффициент восстановления золота из золотосодержащей руды. Используйте данные с параметрами добычи и очистки. \n",
    "\n",
    "Модель поможет оптимизировать производство, чтобы не запускать предприятие с убыточными характеристиками.\n",
    "\n",
    "Вам нужно:\n",
    "\n",
    "1. Подготовить данные;\n",
    "2. Провести исследовательский анализ данных;\n",
    "3. Построить и обучить модель.\n",
    "\n",
    "Чтобы выполнить проект, обращайтесь к библиотекам *pandas*, *matplotlib* и *sklearn.* Вам поможет их документация."
   ]
  },
  {
   "cell_type": "code",
   "execution_count": 1,
   "metadata": {},
   "outputs": [],
   "source": [
    "import pandas as pd\n",
    "from sklearn.metrics import mean_absolute_error\n",
    "import matplotlib.pyplot as plt\n",
    "from sklearn.linear_model import LinearRegression\n",
    "from sklearn.model_selection import cross_val_score, RandomizedSearchCV\n",
    "from sklearn.dummy import DummyRegressor\n",
    "from sklearn.metrics import mean_absolute_percentage_error, make_scorer\n",
    "from sklearn.preprocessing import StandardScaler\n",
    "from sklearn.ensemble import RandomForestRegressor\n",
    "import seaborn as sns"
   ]
  },
  {
   "cell_type": "code",
   "execution_count": 2,
   "metadata": {},
   "outputs": [],
   "source": [
    "df_train = pd.read_csv(\"datasets/gold_recovery_train_new.csv\")\n",
    "df_test = pd.read_csv(\"datasets/gold_recovery_test_new.csv\")\n",
    "df_full = pd.read_csv(\"datasets/gold_recovery_full_new.csv\")"
   ]
  },
  {
   "cell_type": "markdown",
   "metadata": {},
   "source": [
    "## Подготовка данных"
   ]
  },
  {
   "cell_type": "markdown",
   "metadata": {},
   "source": [
    "### Просмтор данных"
   ]
  },
  {
   "cell_type": "code",
   "execution_count": 3,
   "metadata": {
    "scrolled": true
   },
   "outputs": [
    {
     "name": "stdout",
     "output_type": "stream",
     "text": [
      "<class 'pandas.core.frame.DataFrame'>\n",
      "RangeIndex: 19439 entries, 0 to 19438\n",
      "Data columns (total 87 columns):\n",
      " #   Column                                              Non-Null Count  Dtype  \n",
      "---  ------                                              --------------  -----  \n",
      " 0   date                                                19439 non-null  object \n",
      " 1   final.output.concentrate_ag                         19438 non-null  float64\n",
      " 2   final.output.concentrate_pb                         19438 non-null  float64\n",
      " 3   final.output.concentrate_sol                        19228 non-null  float64\n",
      " 4   final.output.concentrate_au                         19439 non-null  float64\n",
      " 5   final.output.recovery                               19439 non-null  float64\n",
      " 6   final.output.tail_ag                                19438 non-null  float64\n",
      " 7   final.output.tail_pb                                19338 non-null  float64\n",
      " 8   final.output.tail_sol                               19433 non-null  float64\n",
      " 9   final.output.tail_au                                19439 non-null  float64\n",
      " 10  primary_cleaner.input.sulfate                       19415 non-null  float64\n",
      " 11  primary_cleaner.input.depressant                    19402 non-null  float64\n",
      " 12  primary_cleaner.input.feed_size                     19439 non-null  float64\n",
      " 13  primary_cleaner.input.xanthate                      19335 non-null  float64\n",
      " 14  primary_cleaner.output.concentrate_ag               19439 non-null  float64\n",
      " 15  primary_cleaner.output.concentrate_pb               19323 non-null  float64\n",
      " 16  primary_cleaner.output.concentrate_sol              19069 non-null  float64\n",
      " 17  primary_cleaner.output.concentrate_au               19439 non-null  float64\n",
      " 18  primary_cleaner.output.tail_ag                      19435 non-null  float64\n",
      " 19  primary_cleaner.output.tail_pb                      19418 non-null  float64\n",
      " 20  primary_cleaner.output.tail_sol                     19377 non-null  float64\n",
      " 21  primary_cleaner.output.tail_au                      19439 non-null  float64\n",
      " 22  primary_cleaner.state.floatbank8_a_air              19435 non-null  float64\n",
      " 23  primary_cleaner.state.floatbank8_a_level            19438 non-null  float64\n",
      " 24  primary_cleaner.state.floatbank8_b_air              19435 non-null  float64\n",
      " 25  primary_cleaner.state.floatbank8_b_level            19438 non-null  float64\n",
      " 26  primary_cleaner.state.floatbank8_c_air              19437 non-null  float64\n",
      " 27  primary_cleaner.state.floatbank8_c_level            19438 non-null  float64\n",
      " 28  primary_cleaner.state.floatbank8_d_air              19436 non-null  float64\n",
      " 29  primary_cleaner.state.floatbank8_d_level            19438 non-null  float64\n",
      " 30  rougher.calculation.sulfate_to_au_concentrate       19437 non-null  float64\n",
      " 31  rougher.calculation.floatbank10_sulfate_to_au_feed  19437 non-null  float64\n",
      " 32  rougher.calculation.floatbank11_sulfate_to_au_feed  19437 non-null  float64\n",
      " 33  rougher.calculation.au_pb_ratio                     19439 non-null  float64\n",
      " 34  rougher.input.feed_ag                               19439 non-null  float64\n",
      " 35  rougher.input.feed_pb                               19339 non-null  float64\n",
      " 36  rougher.input.feed_rate                             19428 non-null  float64\n",
      " 37  rougher.input.feed_size                             19294 non-null  float64\n",
      " 38  rougher.input.feed_sol                              19340 non-null  float64\n",
      " 39  rougher.input.feed_au                               19439 non-null  float64\n",
      " 40  rougher.input.floatbank10_sulfate                   19405 non-null  float64\n",
      " 41  rougher.input.floatbank10_xanthate                  19431 non-null  float64\n",
      " 42  rougher.input.floatbank11_sulfate                   19395 non-null  float64\n",
      " 43  rougher.input.floatbank11_xanthate                  18986 non-null  float64\n",
      " 44  rougher.output.concentrate_ag                       19439 non-null  float64\n",
      " 45  rougher.output.concentrate_pb                       19439 non-null  float64\n",
      " 46  rougher.output.concentrate_sol                      19416 non-null  float64\n",
      " 47  rougher.output.concentrate_au                       19439 non-null  float64\n",
      " 48  rougher.output.recovery                             19439 non-null  float64\n",
      " 49  rougher.output.tail_ag                              19438 non-null  float64\n",
      " 50  rougher.output.tail_pb                              19439 non-null  float64\n",
      " 51  rougher.output.tail_sol                             19439 non-null  float64\n",
      " 52  rougher.output.tail_au                              19439 non-null  float64\n",
      " 53  rougher.state.floatbank10_a_air                     19438 non-null  float64\n",
      " 54  rougher.state.floatbank10_a_level                   19438 non-null  float64\n",
      " 55  rougher.state.floatbank10_b_air                     19438 non-null  float64\n",
      " 56  rougher.state.floatbank10_b_level                   19438 non-null  float64\n",
      " 57  rougher.state.floatbank10_c_air                     19438 non-null  float64\n",
      " 58  rougher.state.floatbank10_c_level                   19438 non-null  float64\n",
      " 59  rougher.state.floatbank10_d_air                     19439 non-null  float64\n",
      " 60  rougher.state.floatbank10_d_level                   19439 non-null  float64\n",
      " 61  rougher.state.floatbank10_e_air                     19003 non-null  float64\n",
      " 62  rougher.state.floatbank10_e_level                   19439 non-null  float64\n",
      " 63  rougher.state.floatbank10_f_air                     19439 non-null  float64\n",
      " 64  rougher.state.floatbank10_f_level                   19439 non-null  float64\n",
      " 65  secondary_cleaner.output.tail_ag                    19437 non-null  float64\n",
      " 66  secondary_cleaner.output.tail_pb                    19427 non-null  float64\n",
      " 67  secondary_cleaner.output.tail_sol                   17691 non-null  float64\n",
      " 68  secondary_cleaner.output.tail_au                    19439 non-null  float64\n",
      " 69  secondary_cleaner.state.floatbank2_a_air            19219 non-null  float64\n",
      " 70  secondary_cleaner.state.floatbank2_a_level          19438 non-null  float64\n",
      " 71  secondary_cleaner.state.floatbank2_b_air            19416 non-null  float64\n",
      " 72  secondary_cleaner.state.floatbank2_b_level          19438 non-null  float64\n",
      " 73  secondary_cleaner.state.floatbank3_a_air            19426 non-null  float64\n",
      " 74  secondary_cleaner.state.floatbank3_a_level          19438 non-null  float64\n",
      " 75  secondary_cleaner.state.floatbank3_b_air            19438 non-null  float64\n",
      " 76  secondary_cleaner.state.floatbank3_b_level          19438 non-null  float64\n",
      " 77  secondary_cleaner.state.floatbank4_a_air            19433 non-null  float64\n",
      " 78  secondary_cleaner.state.floatbank4_a_level          19438 non-null  float64\n",
      " 79  secondary_cleaner.state.floatbank4_b_air            19438 non-null  float64\n",
      " 80  secondary_cleaner.state.floatbank4_b_level          19438 non-null  float64\n",
      " 81  secondary_cleaner.state.floatbank5_a_air            19438 non-null  float64\n",
      " 82  secondary_cleaner.state.floatbank5_a_level          19438 non-null  float64\n",
      " 83  secondary_cleaner.state.floatbank5_b_air            19438 non-null  float64\n",
      " 84  secondary_cleaner.state.floatbank5_b_level          19438 non-null  float64\n",
      " 85  secondary_cleaner.state.floatbank6_a_air            19437 non-null  float64\n",
      " 86  secondary_cleaner.state.floatbank6_a_level          19438 non-null  float64\n",
      "dtypes: float64(86), object(1)\n",
      "memory usage: 12.9+ MB\n"
     ]
    }
   ],
   "source": [
    "df_full.info()"
   ]
  },
  {
   "cell_type": "markdown",
   "metadata": {},
   "source": [
    "В полном датасете содержатся пропуски, так как тестовая и обучающая выборки составлены из полной, то и в них будут пропуски"
   ]
  },
  {
   "cell_type": "markdown",
   "metadata": {},
   "source": [
    "### Добавление в тестовую выборку таргет столбцов\n",
    "Посмотрим, какие столбцы отсутсвуют в тестовой выборке"
   ]
  },
  {
   "cell_type": "code",
   "execution_count": 4,
   "metadata": {
    "scrolled": true
   },
   "outputs": [
    {
     "data": {
      "text/plain": [
       "['final.output.concentrate_ag',\n",
       " 'final.output.concentrate_pb',\n",
       " 'final.output.concentrate_sol',\n",
       " 'final.output.concentrate_au',\n",
       " 'final.output.recovery',\n",
       " 'final.output.tail_ag',\n",
       " 'final.output.tail_pb',\n",
       " 'final.output.tail_sol',\n",
       " 'final.output.tail_au',\n",
       " 'primary_cleaner.output.concentrate_ag',\n",
       " 'primary_cleaner.output.concentrate_pb',\n",
       " 'primary_cleaner.output.concentrate_sol',\n",
       " 'primary_cleaner.output.concentrate_au',\n",
       " 'primary_cleaner.output.tail_ag',\n",
       " 'primary_cleaner.output.tail_pb',\n",
       " 'primary_cleaner.output.tail_sol',\n",
       " 'primary_cleaner.output.tail_au',\n",
       " 'rougher.calculation.sulfate_to_au_concentrate',\n",
       " 'rougher.calculation.floatbank10_sulfate_to_au_feed',\n",
       " 'rougher.calculation.floatbank11_sulfate_to_au_feed',\n",
       " 'rougher.calculation.au_pb_ratio',\n",
       " 'rougher.output.concentrate_ag',\n",
       " 'rougher.output.concentrate_pb',\n",
       " 'rougher.output.concentrate_sol',\n",
       " 'rougher.output.concentrate_au',\n",
       " 'rougher.output.recovery',\n",
       " 'rougher.output.tail_ag',\n",
       " 'rougher.output.tail_pb',\n",
       " 'rougher.output.tail_sol',\n",
       " 'rougher.output.tail_au',\n",
       " 'secondary_cleaner.output.tail_ag',\n",
       " 'secondary_cleaner.output.tail_pb',\n",
       " 'secondary_cleaner.output.tail_sol',\n",
       " 'secondary_cleaner.output.tail_au']"
      ]
     },
     "execution_count": 4,
     "metadata": {},
     "output_type": "execute_result"
    }
   ],
   "source": [
    "lack = []\n",
    "for column in list(df_full.columns):\n",
    "    if column not in list(df_test.columns):\n",
    "        lack.append(column)\n",
    "lack"
   ]
  },
  {
   "cell_type": "markdown",
   "metadata": {},
   "source": [
    "Видно, что в тестовой выборке отсутсвуют \"онлайн\"-признаки, то есть те, которые замеряются в процессе переработки руды. Присутсвуют только признаки, которые заранее задаются до начала переработки"
   ]
  },
  {
   "cell_type": "code",
   "execution_count": 5,
   "metadata": {
    "scrolled": true
   },
   "outputs": [
    {
     "data": {
      "text/plain": [
       "Index(['date', 'primary_cleaner.input.sulfate',\n",
       "       'primary_cleaner.input.depressant', 'primary_cleaner.input.feed_size',\n",
       "       'primary_cleaner.input.xanthate',\n",
       "       'primary_cleaner.state.floatbank8_a_air',\n",
       "       'primary_cleaner.state.floatbank8_a_level',\n",
       "       'primary_cleaner.state.floatbank8_b_air',\n",
       "       'primary_cleaner.state.floatbank8_b_level',\n",
       "       'primary_cleaner.state.floatbank8_c_air',\n",
       "       'primary_cleaner.state.floatbank8_c_level',\n",
       "       'primary_cleaner.state.floatbank8_d_air',\n",
       "       'primary_cleaner.state.floatbank8_d_level', 'rougher.input.feed_ag',\n",
       "       'rougher.input.feed_pb', 'rougher.input.feed_rate',\n",
       "       'rougher.input.feed_size', 'rougher.input.feed_sol',\n",
       "       'rougher.input.feed_au', 'rougher.input.floatbank10_sulfate',\n",
       "       'rougher.input.floatbank10_xanthate',\n",
       "       'rougher.input.floatbank11_sulfate',\n",
       "       'rougher.input.floatbank11_xanthate', 'rougher.state.floatbank10_a_air',\n",
       "       'rougher.state.floatbank10_a_level', 'rougher.state.floatbank10_b_air',\n",
       "       'rougher.state.floatbank10_b_level', 'rougher.state.floatbank10_c_air',\n",
       "       'rougher.state.floatbank10_c_level', 'rougher.state.floatbank10_d_air',\n",
       "       'rougher.state.floatbank10_d_level', 'rougher.state.floatbank10_e_air',\n",
       "       'rougher.state.floatbank10_e_level', 'rougher.state.floatbank10_f_air',\n",
       "       'rougher.state.floatbank10_f_level',\n",
       "       'secondary_cleaner.state.floatbank2_a_air',\n",
       "       'secondary_cleaner.state.floatbank2_a_level',\n",
       "       'secondary_cleaner.state.floatbank2_b_air',\n",
       "       'secondary_cleaner.state.floatbank2_b_level',\n",
       "       'secondary_cleaner.state.floatbank3_a_air',\n",
       "       'secondary_cleaner.state.floatbank3_a_level',\n",
       "       'secondary_cleaner.state.floatbank3_b_air',\n",
       "       'secondary_cleaner.state.floatbank3_b_level',\n",
       "       'secondary_cleaner.state.floatbank4_a_air',\n",
       "       'secondary_cleaner.state.floatbank4_a_level',\n",
       "       'secondary_cleaner.state.floatbank4_b_air',\n",
       "       'secondary_cleaner.state.floatbank4_b_level',\n",
       "       'secondary_cleaner.state.floatbank5_a_air',\n",
       "       'secondary_cleaner.state.floatbank5_a_level',\n",
       "       'secondary_cleaner.state.floatbank5_b_air',\n",
       "       'secondary_cleaner.state.floatbank5_b_level',\n",
       "       'secondary_cleaner.state.floatbank6_a_air',\n",
       "       'secondary_cleaner.state.floatbank6_a_level'],\n",
       "      dtype='object')"
      ]
     },
     "execution_count": 5,
     "metadata": {},
     "output_type": "execute_result"
    }
   ],
   "source": [
    "df_test.columns"
   ]
  },
  {
   "cell_type": "markdown",
   "metadata": {},
   "source": [
    "В тестовой выборке нет столбцов с данными, необходимыми для валидации предсказанных результатов"
   ]
  },
  {
   "cell_type": "code",
   "execution_count": 6,
   "metadata": {
    "scrolled": true
   },
   "outputs": [],
   "source": [
    "for date in df_test[\"date\"]:\n",
    "    for column in [\"final.output.recovery\", \n",
    "                   'rougher.output.recovery']:\n",
    "        df_test.loc[df_test[\"date\"]==date, column] =\\\n",
    "        float(df_full.loc[df_full[\"date\"]==date, column])"
   ]
  },
  {
   "cell_type": "markdown",
   "metadata": {},
   "source": [
    "### Проверка расчёта recovery\n",
    "Расситаем recovery по формуле и проверим, насколько она отличается от уже имеющегося в датасете"
   ]
  },
  {
   "cell_type": "code",
   "execution_count": 7,
   "metadata": {},
   "outputs": [
    {
     "name": "stdout",
     "output_type": "stream",
     "text": [
      "МАЕ финальной recovery 9.648696507901679e-15\n",
      "МАЕ черновой recovery 1.1131451184435918e-14\n"
     ]
    }
   ],
   "source": [
    "def final_recovery(df):\n",
    "    return 100*(df[\"final.output.concentrate_au\"]*(\n",
    "    df[\"rougher.input.feed_au\"]-(df[\"final.output.tail_au\"]))\n",
    "                         )/(df[\"rougher.input.feed_au\"]*(\n",
    "    df[\"final.output.concentrate_au\"]-(df[\"final.output.tail_au\"]))\n",
    "                         )\n",
    "\n",
    "def rougher_recovery(df):\n",
    "    return 100*(df[\"rougher.output.concentrate_au\"]*(\n",
    "    df[\"rougher.input.feed_au\"]-(df[\"rougher.output.tail_au\"]))\n",
    "                         )/(df[\"rougher.input.feed_au\"]*(\n",
    "    df[\"rougher.output.concentrate_au\"]-(df[\"rougher.output.tail_au\"]))\n",
    "                         )\n",
    "\n",
    "my_final_recovery = df_train.apply(final_recovery, axis=1)\n",
    "my_rougher_recovery = df_train.apply(rougher_recovery, axis=1)\n",
    "\n",
    "print(\"МАЕ финальной recovery\",\n",
    "      mean_absolute_error(my_final_recovery, df_train[\"final.output.recovery\"]))\n",
    "print(\"МАЕ черновой recovery\",\n",
    "      mean_absolute_error(my_rougher_recovery, df_train[\"rougher.output.recovery\"]))"
   ]
  },
  {
   "cell_type": "markdown",
   "metadata": {},
   "source": [
    "Достаточно мало, чтобы считать, что данное изначально recovery не соответсвует дейсвительности"
   ]
  },
  {
   "cell_type": "markdown",
   "metadata": {},
   "source": [
    "### Удаление пропусков"
   ]
  },
  {
   "cell_type": "code",
   "execution_count": 8,
   "metadata": {},
   "outputs": [],
   "source": [
    "df_full.fillna(inplace=True, method = \"ffill\")\n",
    "df_test.fillna(inplace=True, method = \"ffill\")\n",
    "df_train.fillna(inplace=True, method = \"ffill\")"
   ]
  },
  {
   "cell_type": "markdown",
   "metadata": {},
   "source": [
    "### Вывод\n",
    "по итогам подготовки данных были удалены пропуски, добавлены таргетные столбцы в тестовый датасет и проверена правильность расчёта recovery, которая показала, что recovery указана верно"
   ]
  },
  {
   "cell_type": "markdown",
   "metadata": {},
   "source": [
    "## Анализ данных"
   ]
  },
  {
   "cell_type": "markdown",
   "metadata": {},
   "source": [
    "### Исследование концентраций металлов"
   ]
  },
  {
   "cell_type": "code",
   "execution_count": 9,
   "metadata": {
    "scrolled": false
   },
   "outputs": [
    {
     "data": {
      "image/png": "[encoded data removed]",
      "text/plain": [
       "<Figure size 864x576 with 1 Axes>"
      ]
     },
     "metadata": {
      "needs_background": "light"
     },
     "output_type": "display_data"
    }
   ],
   "source": [
    "import numpy as np\n",
    "import matplotlib.pyplot as plt\n",
    " \n",
    "barWidth = 0.25\n",
    "fig = plt.subplots(figsize =(12, 8))\n",
    " \n",
    "au = [df_full [\"rougher.input.feed_au\"].mean(),\n",
    "      df_full[\"rougher.output.concentrate_au\"].mean(), \n",
    "      df_full[\"primary_cleaner.output.concentrate_au\"].mean(), \n",
    "      df_full[\"final.output.concentrate_au\"].mean()]\n",
    "ag = [df_full [\"rougher.input.feed_ag\"].mean(),\n",
    "      df_full[\"rougher.output.concentrate_ag\"].mean(), \n",
    "      df_full[\"primary_cleaner.output.concentrate_ag\"].mean(), \n",
    "      df_full[\"final.output.concentrate_ag\"].mean()]\n",
    "pb = [df_full [\"rougher.input.feed_pb\"].mean(),\n",
    "      df_full[\"rougher.output.concentrate_pb\"].mean(), \n",
    "      df_full[\"primary_cleaner.output.concentrate_pb\"].mean(), \n",
    "      df_full[\"final.output.concentrate_pb\"].mean()]\n",
    " \n",
    "br1 = np.arange(len(au))\n",
    "br2 = [x + barWidth for x in br1]\n",
    "br3 = [x + barWidth for x in br2]\n",
    " \n",
    "plt.bar(br1, au, color ='gold', width = barWidth, label ='AU')\n",
    "plt.bar(br2, ag, color ='silver', width = barWidth, label ='AG')\n",
    "plt.bar(br3, pb, color ='grey', width = barWidth, label ='PB')\n",
    "plt.grid()\n",
    "plt.legend()\n",
    "plt.xticks([r + barWidth for r in range(len(au))],\n",
    "        [\"До обработки\",'Флотация', 'Первичная очистка', 'Финал'])\n",
    "plt.title(\"Изменение концентрации металлов на разных стадиях\", fontsize = 20)\n",
    "plt.xlabel(\"Этап\", fontsize = 15)\n",
    "plt.ylabel(\"Концентрация\",  fontsize = 15)\n",
    "plt.show()"
   ]
  },
  {
   "cell_type": "markdown",
   "metadata": {},
   "source": [
    "Из графика видно, что концентрация золота от этапа к этапу постоянно увеличивается, а относительная концентрация других металлов уменьшается. Всё таки конечная цель - золото, так что данные соответсвуют здравому смыслу"
   ]
  },
  {
   "cell_type": "markdown",
   "metadata": {},
   "source": [
    "### Анализ распределения размеров гранул сырья"
   ]
  },
  {
   "cell_type": "code",
   "execution_count": 10,
   "metadata": {},
   "outputs": [
    {
     "data": {
      "image/png": "[encoded data removed]",
      "text/plain": [
       "<Figure size 864x432 with 1 Axes>"
      ]
     },
     "metadata": {},
     "output_type": "display_data"
    }
   ],
   "source": [
    "sns.set(rc={'figure.figsize':(12,6)})\n",
    "sns.kdeplot(data=df_train, x=\"rougher.input.feed_size\")\n",
    "sns.kdeplot(data=df_test, x=\"rougher.input.feed_size\")\n",
    "plt.show()"
   ]
  },
  {
   "cell_type": "markdown",
   "metadata": {},
   "source": [
    "распределение размеров гранул сырья на тестовой и тренировочной выборке примерно одинаков. Пик значений - 50 (наверно, миллиметров)"
   ]
  },
  {
   "cell_type": "markdown",
   "metadata": {},
   "source": [
    "### Исследование суммарной концентрации веществ"
   ]
  },
  {
   "cell_type": "code",
   "execution_count": 11,
   "metadata": {},
   "outputs": [
    {
     "data": {
      "image/png": "[encoded data removed]",
      "text/plain": [
       "<Figure size 864x432 with 1 Axes>"
      ]
     },
     "metadata": {},
     "output_type": "display_data"
    }
   ],
   "source": [
    "sum_final = df_full[\"final.output.concentrate_ag\"]+\\\n",
    "            df_full[\"final.output.concentrate_au\"]+\\\n",
    "            df_full[\"final.output.concentrate_pb\"]+\\\n",
    "            df_full[\"final.output.concentrate_sol\"]\n",
    "sum_raw = df_full[\"rougher.input.feed_au\"]+\\\n",
    "          df_full[\"rougher.input.feed_ag\"]+\\\n",
    "          df_full[\"rougher.input.feed_pb\"]+\\\n",
    "          df_full[\"rougher.input.feed_sol\"]\n",
    "sum_draft = df_full[\"rougher.output.concentrate_au\"]+\\\n",
    "            df_full[\"rougher.output.concentrate_ag\"]+\\\n",
    "            df_full[\"rougher.output.concentrate_pb\"]+\\\n",
    "            df_full[\"rougher.output.concentrate_sol\"]\n",
    "\n",
    "\n",
    "sum_raw.hist(label=\"Сырьё\", alpha=0.5, figsize=(12,6), bins=100, color=\"black\")\n",
    "sum_draft.hist(label=\"Черновой концентрат\", alpha=0.5, figsize=(12,6), bins=100, color=\"grey\")\n",
    "sum_final.hist(label=\"Финальный концентрат\", alpha=0.5, figsize=(12,6), bins=100, color=\"gold\") \n",
    "plt.legend()\n",
    "plt.show()"
   ]
  },
  {
   "cell_type": "markdown",
   "metadata": {},
   "source": [
    "У чернового концентрата средняя суммарная концентрация веществ больше, чем у сырья, то есть избавились от лишней породы. У финального концентрата среднее примерно такое же, как и у чернового, но распределение более узкое, то есть на выходе мы получаем более однородную массу, со схожими концентрациями"
   ]
  },
  {
   "cell_type": "markdown",
   "metadata": {},
   "source": [
    "На гистограмме суммарных концентраций видны аномалии, так что в тренировочной выборке от них нужно избавиться"
   ]
  },
  {
   "cell_type": "code",
   "execution_count": 12,
   "metadata": {},
   "outputs": [],
   "source": [
    "l1 = len(df_train)"
   ]
  },
  {
   "cell_type": "code",
   "execution_count": 13,
   "metadata": {},
   "outputs": [],
   "source": [
    "df_train = df_train[df_train[\"final.output.concentrate_ag\"]+\\\n",
    "                    df_train[\"final.output.concentrate_au\"]+\\\n",
    "                    df_train[\"final.output.concentrate_pb\"]+\\\n",
    "                    df_train[\"final.output.concentrate_sol\"]>20]\n",
    "df_train = df_train[df_train[\"rougher.input.feed_au\"]+\\\n",
    "                    df_train[\"rougher.input.feed_ag\"]+\\\n",
    "                    df_train[\"rougher.input.feed_pb\"]+\\\n",
    "                    df_train[\"rougher.input.feed_sol\"]>20]\n",
    "df_train = df_train[df_train[\"rougher.output.concentrate_au\"]+\\\n",
    "                    df_train[\"rougher.output.concentrate_ag\"]+\\\n",
    "                    df_train[\"rougher.output.concentrate_pb\"]+\\\n",
    "                    df_train[\"rougher.output.concentrate_sol\"]>20]"
   ]
  },
  {
   "cell_type": "code",
   "execution_count": 14,
   "metadata": {},
   "outputs": [
    {
     "data": {
      "text/plain": [
       "0.9711640398614743"
      ]
     },
     "execution_count": 14,
     "metadata": {},
     "output_type": "execute_result"
    }
   ],
   "source": [
    "len(df_train)/l1"
   ]
  },
  {
   "cell_type": "markdown",
   "metadata": {},
   "source": [
    "оказалось 3% выбросов"
   ]
  },
  {
   "cell_type": "markdown",
   "metadata": {},
   "source": [
    "## Модель"
   ]
  },
  {
   "cell_type": "markdown",
   "metadata": {},
   "source": [
    "### Разделение выборок"
   ]
  },
  {
   "cell_type": "code",
   "execution_count": 15,
   "metadata": {},
   "outputs": [],
   "source": [
    "target_train = df_train[[\"final.output.recovery\", 'rougher.output.recovery']]\n",
    "target_test = df_test[[\"final.output.recovery\", 'rougher.output.recovery']]\n",
    "features_train = df_train.drop([\"final.output.recovery\", 'rougher.output.recovery', \"date\"], axis=1)\n",
    "features_test = df_test.drop([\"final.output.recovery\", 'rougher.output.recovery', \"date\"], axis=1)"
   ]
  },
  {
   "cell_type": "markdown",
   "metadata": {},
   "source": [
    "### Приведение к одной размерности\n",
    "Тренировочные и тестовые признаки содердат разное количество столбцов, удалим из тренировочной лишние столбцы"
   ]
  },
  {
   "cell_type": "code",
   "execution_count": 16,
   "metadata": {},
   "outputs": [],
   "source": [
    "lack.remove('final.output.recovery')\n",
    "lack.remove('rougher.output.recovery')\n",
    "features_train = features_train.drop(lack, axis=1)"
   ]
  },
  {
   "cell_type": "code",
   "execution_count": 17,
   "metadata": {},
   "outputs": [
    {
     "data": {
      "text/plain": [
       "<AxesSubplot:>"
      ]
     },
     "execution_count": 17,
     "metadata": {},
     "output_type": "execute_result"
    },
    {
     "data": {
      "image/png": "[encoded data removed]",
      "text/plain": [
       "<Figure size 864x432 with 2 Axes>"
      ]
     },
     "metadata": {},
     "output_type": "display_data"
    }
   ],
   "source": [
    "sns.heatmap(features_train.corr(), vmin = -1, vmax = +1, annot = False, cmap = 'YlGnBu', square=True)"
   ]
  },
  {
   "cell_type": "markdown",
   "metadata": {},
   "source": [
    "Многие признаки сильно между собой коррелируют, поэтому линейная регрессия будет давать большую ошибку"
   ]
  },
  {
   "cell_type": "markdown",
   "metadata": {},
   "source": [
    "### Масштабирование признаков"
   ]
  },
  {
   "cell_type": "code",
   "execution_count": 18,
   "metadata": {},
   "outputs": [
    {
     "data": {
      "text/plain": [
       "array([[ 1.96345317,  1.81991058,  1.22593502, ..., -0.41851975,\n",
       "         1.22949364,  0.19186115],\n",
       "       [ 2.08054651,  1.81823557,  1.22593502, ..., -0.42174057,\n",
       "         0.93512591,  0.18887407],\n",
       "       [ 2.07716729,  1.19451202,  0.74989818, ..., -0.41313376,\n",
       "         0.93074726,  0.16706985],\n",
       "       ...,\n",
       "       [ 0.95191366,  2.11672703,  1.20970612, ..., -0.41859737,\n",
       "        -1.86510153,  0.24397517],\n",
       "       [ 1.17024702,  1.9521766 ,  1.20970612, ..., -0.4159538 ,\n",
       "        -1.85975497,  0.17978321],\n",
       "       [ 1.21767294,  1.82072105,  1.20970612, ..., -0.42625744,\n",
       "        -1.86395024,  0.16320438]])"
      ]
     },
     "execution_count": 18,
     "metadata": {},
     "output_type": "execute_result"
    }
   ],
   "source": [
    "scaler = StandardScaler()\n",
    "scaler.fit_transform(features_train)\n",
    "scaler.transform(features_test)"
   ]
  },
  {
   "cell_type": "markdown",
   "metadata": {},
   "source": [
    "### Обучение модели"
   ]
  },
  {
   "cell_type": "code",
   "execution_count": 19,
   "metadata": {},
   "outputs": [],
   "source": [
    "# def sMAPE_error(model, X, y):\n",
    "#     pred = pd.DataFrame(model.predict(X), columns = y.columns)\n",
    "#     return 0.75*mean_absolute_percentage_error(pred['final.output.recovery'], y['final.output.recovery']) +\\\n",
    "#            0.25*mean_absolute_percentage_error(pred['rougher.output.recovery'], y['rougher.output.recovery'])\n",
    "\n",
    "def smape_unweighted(y_true, y_pred):\n",
    "    error = abs(y_true - y_pred)\n",
    "    scale = (abs(y_true) + abs(y_pred)) / 2 + 1e-10\n",
    "    result = (100*error / scale).mean()\n",
    "    return result\n",
    "\n",
    "\n",
    "def smape_weighted_error(model, X, y_true):\n",
    "    y_true.reset_index(drop=True, inplace=True)\n",
    "    y_pred = pd.DataFrame(model.predict(X), columns=y_true.columns, index = y_true.index)\n",
    "    rougher = smape_unweighted(y_true[\"rougher.output.recovery\"], y_pred[\"rougher.output.recovery\"])\n",
    "    final = smape_unweighted(y_true[\"final.output.recovery\"], y_pred[\"final.output.recovery\"])\n",
    "    return 0.25 * rougher + 0.75 * final"
   ]
  },
  {
   "cell_type": "markdown",
   "metadata": {},
   "source": [
    "#### Dummy модель"
   ]
  },
  {
   "cell_type": "code",
   "execution_count": 20,
   "metadata": {},
   "outputs": [
    {
     "data": {
      "text/plain": [
       "9.683011923104008"
      ]
     },
     "execution_count": 20,
     "metadata": {},
     "output_type": "execute_result"
    }
   ],
   "source": [
    "dummy = DummyRegressor(strategy=\"mean\")\n",
    "cross_val_score(dummy, features_train, target_train, cv=5, scoring=smape_weighted_error).mean()"
   ]
  },
  {
   "cell_type": "markdown",
   "metadata": {},
   "source": [
    "#### Линейная регрессия"
   ]
  },
  {
   "cell_type": "code",
   "execution_count": 21,
   "metadata": {},
   "outputs": [
    {
     "data": {
      "text/plain": [
       "9.957734217214718"
      ]
     },
     "execution_count": 21,
     "metadata": {},
     "output_type": "execute_result"
    }
   ],
   "source": [
    "linear = LinearRegression()\n",
    "cross_val_score(linear, features_train, target_train, cv=5, scoring=smape_weighted_error).mean()"
   ]
  },
  {
   "cell_type": "markdown",
   "metadata": {},
   "source": [
    "#### Случайный лес"
   ]
  },
  {
   "cell_type": "code",
   "execution_count": 22,
   "metadata": {},
   "outputs": [
    {
     "name": "stdout",
     "output_type": "stream",
     "text": [
      "{'n_estimators': 50, 'min_samples_split': 6, 'min_samples_leaf': 1, 'max_depth': 20}\n",
      "2.6628157606181118\n",
      "CPU times: user 7min 14s, sys: 951 ms, total: 7min 15s\n",
      "Wall time: 7min 15s\n"
     ]
    }
   ],
   "source": [
    "%%time\n",
    "for_forest = {\"n_estimators\": [i for i in range(50, 150, 25)],\n",
    "              \"max_depth\": [i for i in range(10, 50, 10)],\n",
    "              \"min_samples_split\": [2, 4, 6],\n",
    "              \"min_samples_leaf\": [1, 3, 5]}\n",
    "model_forest = RandomizedSearchCV(RandomForestRegressor(max_features = \"sqrt\"), for_forest, \n",
    "                            n_iter=20, scoring = smape_weighted_error, cv=4)\n",
    "forest = model_forest.fit(features_train, target_train) \n",
    "print(forest.best_params_)\n",
    "print(smape_weighted_error(forest, features_train, target_train))"
   ]
  },
  {
   "cell_type": "markdown",
   "metadata": {},
   "source": [
    "### Проверка на тестовой выборке"
   ]
  },
  {
   "cell_type": "code",
   "execution_count": 24,
   "metadata": {},
   "outputs": [
    {
     "data": {
      "text/plain": [
       "9.308282755133707"
      ]
     },
     "execution_count": 24,
     "metadata": {},
     "output_type": "execute_result"
    }
   ],
   "source": [
    "smape_weighted_error(forest, features_test, target_test)"
   ]
  },
  {
   "cell_type": "markdown",
   "metadata": {},
   "source": [
    "## Вывод"
   ]
  },
  {
   "cell_type": "markdown",
   "metadata": {},
   "source": [
    "Было проведено исследование предоставленных данных, которое показало, как изменяется концентрация металлов в процессе обработки золотой руды. Были проверены две модели - линейная регрессиия и случайный лес. Лучший результат показала модель случайного леса, поэтому она и была выбрана к качестве финальной."
   ]
  }
 ],
 "metadata": {
  "ExecuteTimeLog": [
   {
    "duration": 59,
    "start_time": "2023-03-13T22:01:47.155Z"
   },
   {
    "duration": 452,
    "start_time": "2023-03-13T22:01:49.935Z"
   },
   {
    "duration": 53,
    "start_time": "2023-03-13T22:01:52.303Z"
   },
   {
    "duration": 3259,
    "start_time": "2023-03-13T22:02:22.472Z"
   },
   {
    "duration": 43,
    "start_time": "2023-03-13T22:02:26.813Z"
   },
   {
    "duration": 416,
    "start_time": "2023-03-14T14:16:14.235Z"
   },
   {
    "duration": 3281,
    "start_time": "2023-03-14T14:16:15.598Z"
   },
   {
    "duration": 21,
    "start_time": "2023-03-14T14:16:20.518Z"
   },
   {
    "duration": 90,
    "start_time": "2023-03-14T14:20:54.903Z"
   },
   {
    "duration": 53,
    "start_time": "2023-03-14T14:21:06.636Z"
   },
   {
    "duration": 28,
    "start_time": "2023-03-14T14:30:38.058Z"
   },
   {
    "duration": 13,
    "start_time": "2023-03-14T14:34:14.525Z"
   },
   {
    "duration": 8,
    "start_time": "2023-03-14T14:34:41.297Z"
   },
   {
    "duration": 25,
    "start_time": "2023-03-14T14:34:47.532Z"
   },
   {
    "duration": 1492,
    "start_time": "2023-03-14T14:45:43.230Z"
   },
   {
    "duration": 23,
    "start_time": "2023-03-14T14:45:54.430Z"
   },
   {
    "duration": 9,
    "start_time": "2023-03-14T14:46:00.767Z"
   },
   {
    "duration": 8,
    "start_time": "2023-03-14T14:47:37.021Z"
   },
   {
    "duration": 9,
    "start_time": "2023-03-14T14:47:54.038Z"
   },
   {
    "duration": 7,
    "start_time": "2023-03-14T14:51:37.384Z"
   },
   {
    "duration": 15,
    "start_time": "2023-03-14T14:52:01.966Z"
   },
   {
    "duration": 10,
    "start_time": "2023-03-14T14:52:18.633Z"
   },
   {
    "duration": 12,
    "start_time": "2023-03-14T14:53:44.549Z"
   },
   {
    "duration": 5,
    "start_time": "2023-03-14T14:53:52.439Z"
   },
   {
    "duration": 5,
    "start_time": "2023-03-14T14:53:58.704Z"
   },
   {
    "duration": 3,
    "start_time": "2023-03-14T14:54:21.104Z"
   },
   {
    "duration": 6,
    "start_time": "2023-03-14T14:54:26.381Z"
   },
   {
    "duration": 8,
    "start_time": "2023-03-14T14:57:38.523Z"
   },
   {
    "duration": 746,
    "start_time": "2023-03-14T14:57:41.682Z"
   },
   {
    "duration": 59,
    "start_time": "2023-03-14T14:59:54.540Z"
   },
   {
    "duration": 87,
    "start_time": "2023-03-14T14:59:59.490Z"
   },
   {
    "duration": 44,
    "start_time": "2023-03-14T15:00:17.119Z"
   },
   {
    "duration": 8,
    "start_time": "2023-03-14T15:00:41.481Z"
   },
   {
    "duration": 10,
    "start_time": "2023-03-14T15:00:56.169Z"
   },
   {
    "duration": 27,
    "start_time": "2023-03-14T15:03:36.900Z"
   },
   {
    "duration": 46,
    "start_time": "2023-03-14T15:04:41.541Z"
   },
   {
    "duration": 9,
    "start_time": "2023-03-14T15:04:55.912Z"
   },
   {
    "duration": 8,
    "start_time": "2023-03-14T15:04:59.425Z"
   },
   {
    "duration": 80,
    "start_time": "2023-03-14T15:05:04.801Z"
   },
   {
    "duration": 26,
    "start_time": "2023-03-14T15:06:55.729Z"
   },
   {
    "duration": 15,
    "start_time": "2023-03-14T15:07:07.533Z"
   },
   {
    "duration": 17,
    "start_time": "2023-03-14T15:07:16.908Z"
   },
   {
    "duration": 8,
    "start_time": "2023-03-14T15:08:52.269Z"
   },
   {
    "duration": 32,
    "start_time": "2023-03-14T15:08:57.531Z"
   },
   {
    "duration": 27,
    "start_time": "2023-03-14T15:09:05.067Z"
   },
   {
    "duration": 43,
    "start_time": "2023-03-14T15:09:49.716Z"
   },
   {
    "duration": 7,
    "start_time": "2023-03-14T15:11:50.331Z"
   },
   {
    "duration": 400,
    "start_time": "2023-03-14T15:12:23.526Z"
   },
   {
    "duration": 792,
    "start_time": "2023-03-14T15:12:25.068Z"
   },
   {
    "duration": 18,
    "start_time": "2023-03-14T15:12:27.484Z"
   },
   {
    "duration": 8816,
    "start_time": "2023-03-14T15:12:32.507Z"
   },
   {
    "duration": 3,
    "start_time": "2023-03-14T15:12:57.629Z"
   },
   {
    "duration": 871,
    "start_time": "2023-03-14T15:13:20.614Z"
   },
   {
    "duration": 1535,
    "start_time": "2023-03-14T15:16:32.403Z"
   },
   {
    "duration": 114276,
    "start_time": "2023-03-14T15:16:55.198Z"
   },
   {
    "duration": 503,
    "start_time": "2023-03-14T15:22:00.829Z"
   },
   {
    "duration": 900,
    "start_time": "2023-03-14T15:22:03.274Z"
   },
   {
    "duration": 12,
    "start_time": "2023-03-14T15:22:07.510Z"
   },
   {
    "duration": 4,
    "start_time": "2023-03-14T15:22:09.811Z"
   },
   {
    "duration": 983,
    "start_time": "2023-03-14T15:22:11.931Z"
   },
   {
    "duration": 847,
    "start_time": "2023-03-14T15:23:01.768Z"
   },
   {
    "duration": 859,
    "start_time": "2023-03-14T15:23:44.572Z"
   },
   {
    "duration": 82,
    "start_time": "2023-03-14T15:24:36.607Z"
   },
   {
    "duration": 373,
    "start_time": "2023-03-14T15:24:39.700Z"
   },
   {
    "duration": 933,
    "start_time": "2023-03-14T15:24:41.133Z"
   },
   {
    "duration": 3,
    "start_time": "2023-03-14T15:24:44.606Z"
   },
   {
    "duration": 822,
    "start_time": "2023-03-14T15:24:46.194Z"
   },
   {
    "duration": 9,
    "start_time": "2023-03-14T15:31:37.868Z"
   },
   {
    "duration": 11299,
    "start_time": "2023-03-14T15:31:58.032Z"
   },
   {
    "duration": 10684,
    "start_time": "2023-03-14T15:32:37.295Z"
   },
   {
    "duration": 7657,
    "start_time": "2023-03-14T15:34:00.418Z"
   },
   {
    "duration": 7010,
    "start_time": "2023-03-14T15:37:04.615Z"
   },
   {
    "duration": 9,
    "start_time": "2023-03-14T15:39:06.318Z"
   },
   {
    "duration": 97,
    "start_time": "2023-03-14T15:39:23.687Z"
   },
   {
    "duration": 4,
    "start_time": "2023-03-14T15:39:27.093Z"
   },
   {
    "duration": 34,
    "start_time": "2023-03-14T15:39:31.773Z"
   },
   {
    "duration": 6,
    "start_time": "2023-03-14T15:39:46.605Z"
   },
   {
    "duration": 45333,
    "start_time": "2023-03-14T15:40:44.190Z"
   },
   {
    "duration": 711,
    "start_time": "2023-03-14T15:41:31.901Z"
   },
   {
    "duration": 115573,
    "start_time": "2023-03-14T15:42:03.818Z"
   },
   {
    "duration": 24,
    "start_time": "2023-03-14T15:44:15.265Z"
   },
   {
    "duration": 432440,
    "start_time": "2023-03-14T19:23:39.687Z"
   },
   {
    "duration": 64,
    "start_time": "2023-03-14T19:30:58.925Z"
   },
   {
    "duration": 23,
    "start_time": "2023-03-14T19:34:36.357Z"
   },
   {
    "duration": 115395,
    "start_time": "2023-03-14T19:36:11.312Z"
   },
   {
    "duration": 14,
    "start_time": "2023-03-14T19:43:17.872Z"
   },
   {
    "duration": 35,
    "start_time": "2023-03-14T19:45:48.929Z"
   },
   {
    "duration": 6,
    "start_time": "2023-03-14T19:47:30.018Z"
   },
   {
    "duration": 10,
    "start_time": "2023-03-14T19:48:00.503Z"
   },
   {
    "duration": 13,
    "start_time": "2023-03-14T19:48:07.275Z"
   },
   {
    "duration": 15,
    "start_time": "2023-03-14T19:58:05.685Z"
   },
   {
    "duration": 23,
    "start_time": "2023-03-14T19:58:21.055Z"
   },
   {
    "duration": 13,
    "start_time": "2023-03-14T19:58:30.599Z"
   },
   {
    "duration": 121,
    "start_time": "2023-03-14T19:58:38.402Z"
   },
   {
    "duration": 3,
    "start_time": "2023-03-14T19:58:42.506Z"
   },
   {
    "duration": 775,
    "start_time": "2023-03-14T19:58:43.488Z"
   },
   {
    "duration": 29,
    "start_time": "2023-03-14T19:58:44.265Z"
   },
   {
    "duration": 28,
    "start_time": "2023-03-14T19:58:44.859Z"
   },
   {
    "duration": 21,
    "start_time": "2023-03-14T19:58:45.806Z"
   },
   {
    "duration": 9,
    "start_time": "2023-03-14T19:58:51.133Z"
   },
   {
    "duration": 9,
    "start_time": "2023-03-14T19:58:52.149Z"
   },
   {
    "duration": 114266,
    "start_time": "2023-03-14T19:58:54.124Z"
   },
   {
    "duration": 14,
    "start_time": "2023-03-14T20:01:16.372Z"
   },
   {
    "duration": 731,
    "start_time": "2023-03-14T20:01:49.894Z"
   },
   {
    "duration": 13162,
    "start_time": "2023-03-14T20:01:57.675Z"
   },
   {
    "duration": 12,
    "start_time": "2023-03-14T20:02:17.995Z"
   },
   {
    "duration": 12777,
    "start_time": "2023-03-14T20:02:54.282Z"
   },
   {
    "duration": 12,
    "start_time": "2023-03-14T20:03:08.793Z"
   },
   {
    "duration": 7,
    "start_time": "2023-03-14T20:03:35.513Z"
   },
   {
    "duration": 6,
    "start_time": "2023-03-14T20:03:50.482Z"
   },
   {
    "duration": 8,
    "start_time": "2023-03-14T20:03:55.768Z"
   },
   {
    "duration": 3646,
    "start_time": "2023-03-14T20:05:45.215Z"
   },
   {
    "duration": 12,
    "start_time": "2023-03-14T20:05:50.073Z"
   },
   {
    "duration": 12111,
    "start_time": "2023-03-14T20:06:03.071Z"
   },
   {
    "duration": 16,
    "start_time": "2023-03-14T20:06:34.629Z"
   },
   {
    "duration": 15546,
    "start_time": "2023-03-14T20:06:58.917Z"
   },
   {
    "duration": 12116,
    "start_time": "2023-03-14T20:08:25.174Z"
   },
   {
    "duration": 15,
    "start_time": "2023-03-14T20:08:38.937Z"
   },
   {
    "duration": 6,
    "start_time": "2023-03-14T20:14:00.133Z"
   },
   {
    "duration": 13,
    "start_time": "2023-03-14T20:15:02.183Z"
   },
   {
    "duration": 7,
    "start_time": "2023-03-14T20:15:33.114Z"
   },
   {
    "duration": 6,
    "start_time": "2023-03-14T20:15:55.116Z"
   },
   {
    "duration": 12,
    "start_time": "2023-03-14T20:15:57.615Z"
   },
   {
    "duration": 99,
    "start_time": "2023-03-14T20:17:29.901Z"
   },
   {
    "duration": 4,
    "start_time": "2023-03-14T20:18:27.868Z"
   },
   {
    "duration": 6,
    "start_time": "2023-03-14T20:18:31.383Z"
   },
   {
    "duration": 9,
    "start_time": "2023-03-14T20:18:58.684Z"
   },
   {
    "duration": 12,
    "start_time": "2023-03-14T20:19:04.666Z"
   },
   {
    "duration": 9,
    "start_time": "2023-03-14T20:19:11.430Z"
   },
   {
    "duration": 6,
    "start_time": "2023-03-14T20:19:30.826Z"
   },
   {
    "duration": 7,
    "start_time": "2023-03-14T20:19:47.366Z"
   },
   {
    "duration": 11,
    "start_time": "2023-03-14T20:19:49.620Z"
   },
   {
    "duration": 10276,
    "start_time": "2023-03-14T20:20:18.834Z"
   },
   {
    "duration": 11,
    "start_time": "2023-03-14T20:20:29.112Z"
   },
   {
    "duration": 6,
    "start_time": "2023-03-14T20:21:01.137Z"
   },
   {
    "duration": 2,
    "start_time": "2023-03-14T20:21:12.115Z"
   },
   {
    "duration": 694,
    "start_time": "2023-03-14T20:21:12.779Z"
   },
   {
    "duration": 15,
    "start_time": "2023-03-14T20:21:13.476Z"
   },
   {
    "duration": 11,
    "start_time": "2023-03-14T20:21:16.165Z"
   },
   {
    "duration": 4,
    "start_time": "2023-03-14T20:21:16.918Z"
   },
   {
    "duration": 17,
    "start_time": "2023-03-14T20:21:17.951Z"
   },
   {
    "duration": 326137,
    "start_time": "2023-03-14T20:27:53.914Z"
   },
   {
    "duration": 27,
    "start_time": "2023-03-14T20:34:48.061Z"
   },
   {
    "duration": 21294,
    "start_time": "2023-03-14T20:34:56.033Z"
   },
   {
    "duration": 18,
    "start_time": "2023-03-14T20:35:27.664Z"
   },
   {
    "duration": 729,
    "start_time": "2023-03-14T20:35:45.669Z"
   },
   {
    "duration": 16,
    "start_time": "2023-03-14T20:35:47.220Z"
   },
   {
    "duration": 20618,
    "start_time": "2023-03-14T20:35:50.903Z"
   },
   {
    "duration": 12,
    "start_time": "2023-03-14T20:36:14.391Z"
   },
   {
    "duration": 27,
    "start_time": "2023-03-14T20:37:48.473Z"
   },
   {
    "duration": 42,
    "start_time": "2023-03-14T20:38:33.564Z"
   },
   {
    "duration": 1512,
    "start_time": "2023-03-14T20:39:11.404Z"
   },
   {
    "duration": 6,
    "start_time": "2023-03-14T20:39:40.029Z"
   },
   {
    "duration": 80,
    "start_time": "2023-03-14T20:44:45.258Z"
   },
   {
    "duration": 107,
    "start_time": "2023-03-14T20:45:10.719Z"
   },
   {
    "duration": 133,
    "start_time": "2023-03-14T20:45:30.004Z"
   },
   {
    "duration": 12,
    "start_time": "2023-03-14T20:46:14.660Z"
   },
   {
    "duration": 5,
    "start_time": "2023-03-14T20:46:29.024Z"
   },
   {
    "duration": 5,
    "start_time": "2023-03-14T20:47:23.304Z"
   },
   {
    "duration": 5,
    "start_time": "2023-03-14T20:47:46.166Z"
   },
   {
    "duration": 9,
    "start_time": "2023-03-14T20:48:09.538Z"
   },
   {
    "duration": 135,
    "start_time": "2023-03-14T20:56:02.584Z"
   },
   {
    "duration": 79,
    "start_time": "2023-03-14T20:56:09.309Z"
   },
   {
    "duration": 93,
    "start_time": "2023-03-14T20:56:15.932Z"
   },
   {
    "duration": 9,
    "start_time": "2023-03-14T20:56:41.126Z"
   },
   {
    "duration": 7,
    "start_time": "2023-03-14T20:56:43.482Z"
   },
   {
    "duration": 1535,
    "start_time": "2023-03-14T21:01:11.012Z"
   },
   {
    "duration": 8,
    "start_time": "2023-03-14T21:01:27.460Z"
   },
   {
    "duration": 5,
    "start_time": "2023-03-14T21:01:29.599Z"
   },
   {
    "duration": 5,
    "start_time": "2023-03-14T21:02:14.089Z"
   },
   {
    "duration": 5,
    "start_time": "2023-03-14T21:02:19.634Z"
   },
   {
    "duration": 7,
    "start_time": "2023-03-14T21:03:30.934Z"
   },
   {
    "duration": 5,
    "start_time": "2023-03-14T21:03:35.928Z"
   },
   {
    "duration": 822,
    "start_time": "2023-03-14T21:05:02.295Z"
   },
   {
    "duration": 5,
    "start_time": "2023-03-14T21:05:56.115Z"
   },
   {
    "duration": 9,
    "start_time": "2023-03-14T21:07:00.139Z"
   },
   {
    "duration": 6,
    "start_time": "2023-03-14T21:07:32.766Z"
   },
   {
    "duration": 9,
    "start_time": "2023-03-14T21:07:34.868Z"
   },
   {
    "duration": 6,
    "start_time": "2023-03-14T21:07:45.795Z"
   },
   {
    "duration": 11,
    "start_time": "2023-03-14T21:07:47.839Z"
   },
   {
    "duration": 5,
    "start_time": "2023-03-14T21:07:51.368Z"
   },
   {
    "duration": 4,
    "start_time": "2023-03-14T21:09:07.969Z"
   },
   {
    "duration": 5,
    "start_time": "2023-03-14T21:10:32.506Z"
   },
   {
    "duration": 4,
    "start_time": "2023-03-14T21:30:50.466Z"
   },
   {
    "duration": 5,
    "start_time": "2023-03-14T21:31:00.701Z"
   },
   {
    "duration": 43,
    "start_time": "2023-03-14T21:33:57.829Z"
   },
   {
    "duration": 3,
    "start_time": "2023-03-14T21:34:18.589Z"
   },
   {
    "duration": 5,
    "start_time": "2023-03-14T21:34:32.028Z"
   },
   {
    "duration": 4,
    "start_time": "2023-03-14T21:39:42.173Z"
   },
   {
    "duration": 4,
    "start_time": "2023-03-14T21:39:49.799Z"
   },
   {
    "duration": 1024,
    "start_time": "2023-03-15T19:59:09.974Z"
   },
   {
    "duration": 2171,
    "start_time": "2023-03-15T19:59:11.000Z"
   },
   {
    "duration": 24,
    "start_time": "2023-03-15T19:59:13.172Z"
   },
   {
    "duration": 41,
    "start_time": "2023-03-15T19:59:13.198Z"
   },
   {
    "duration": 10,
    "start_time": "2023-03-15T19:59:13.242Z"
   },
   {
    "duration": 7,
    "start_time": "2023-03-15T19:59:13.254Z"
   },
   {
    "duration": 399,
    "start_time": "2023-03-15T19:59:13.263Z"
   },
   {
    "duration": 0,
    "start_time": "2023-03-15T19:59:13.663Z"
   },
   {
    "duration": 0,
    "start_time": "2023-03-15T19:59:13.665Z"
   },
   {
    "duration": 315,
    "start_time": "2023-03-15T20:01:11.199Z"
   },
   {
    "duration": 6,
    "start_time": "2023-03-15T20:02:14.405Z"
   },
   {
    "duration": 10,
    "start_time": "2023-03-15T20:02:26.818Z"
   },
   {
    "duration": 1065,
    "start_time": "2023-03-15T20:05:47.016Z"
   },
   {
    "duration": 2335,
    "start_time": "2023-03-15T20:06:16.651Z"
   },
   {
    "duration": 274,
    "start_time": "2023-03-15T20:06:40.561Z"
   },
   {
    "duration": 221,
    "start_time": "2023-03-15T20:07:25.878Z"
   },
   {
    "duration": 507,
    "start_time": "2023-03-15T20:07:38.660Z"
   },
   {
    "duration": 245,
    "start_time": "2023-03-15T20:07:43.764Z"
   },
   {
    "duration": 220,
    "start_time": "2023-03-15T20:08:40.043Z"
   },
   {
    "duration": 185,
    "start_time": "2023-03-15T20:09:50.149Z"
   },
   {
    "duration": 1168,
    "start_time": "2023-03-15T20:10:45.237Z"
   },
   {
    "duration": 801,
    "start_time": "2023-03-15T20:10:46.407Z"
   },
   {
    "duration": 40,
    "start_time": "2023-03-15T20:10:47.210Z"
   },
   {
    "duration": 11,
    "start_time": "2023-03-15T20:10:47.252Z"
   },
   {
    "duration": 15,
    "start_time": "2023-03-15T20:10:47.264Z"
   },
   {
    "duration": 17,
    "start_time": "2023-03-15T20:10:47.281Z"
   },
   {
    "duration": 53,
    "start_time": "2023-03-15T20:10:47.300Z"
   },
   {
    "duration": 320,
    "start_time": "2023-03-15T20:10:47.356Z"
   },
   {
    "duration": 0,
    "start_time": "2023-03-15T20:10:47.678Z"
   },
   {
    "duration": 0,
    "start_time": "2023-03-15T20:10:47.679Z"
   },
   {
    "duration": 1128,
    "start_time": "2023-03-15T20:11:40.783Z"
   },
   {
    "duration": 831,
    "start_time": "2023-03-15T20:11:41.913Z"
   },
   {
    "duration": 20,
    "start_time": "2023-03-15T20:11:42.746Z"
   },
   {
    "duration": 10,
    "start_time": "2023-03-15T20:11:42.769Z"
   },
   {
    "duration": 9,
    "start_time": "2023-03-15T20:11:42.781Z"
   },
   {
    "duration": 7,
    "start_time": "2023-03-15T20:11:42.791Z"
   },
   {
    "duration": 19345,
    "start_time": "2023-03-15T20:11:42.800Z"
   },
   {
    "duration": 8,
    "start_time": "2023-03-15T20:12:02.146Z"
   },
   {
    "duration": 27,
    "start_time": "2023-03-15T20:12:02.155Z"
   },
   {
    "duration": 55,
    "start_time": "2023-03-15T20:12:02.184Z"
   },
   {
    "duration": 1079,
    "start_time": "2023-03-15T20:13:04.508Z"
   },
   {
    "duration": 764,
    "start_time": "2023-03-15T20:13:05.589Z"
   },
   {
    "duration": 20,
    "start_time": "2023-03-15T20:13:06.355Z"
   },
   {
    "duration": 9,
    "start_time": "2023-03-15T20:13:06.376Z"
   },
   {
    "duration": 9,
    "start_time": "2023-03-15T20:13:06.387Z"
   },
   {
    "duration": 26,
    "start_time": "2023-03-15T20:13:06.398Z"
   },
   {
    "duration": 21983,
    "start_time": "2023-03-15T20:13:06.426Z"
   },
   {
    "duration": 13,
    "start_time": "2023-03-15T20:13:28.410Z"
   },
   {
    "duration": 9,
    "start_time": "2023-03-15T20:13:28.425Z"
   },
   {
    "duration": 49,
    "start_time": "2023-03-15T20:13:28.440Z"
   },
   {
    "duration": 513,
    "start_time": "2023-03-15T20:26:28.853Z"
   },
   {
    "duration": 4,
    "start_time": "2023-03-15T20:26:36.311Z"
   },
   {
    "duration": 116,
    "start_time": "2023-03-15T20:27:39.138Z"
   },
   {
    "duration": 10,
    "start_time": "2023-03-15T20:27:48.306Z"
   },
   {
    "duration": 449,
    "start_time": "2023-03-15T20:27:51.001Z"
   },
   {
    "duration": 76,
    "start_time": "2023-03-15T20:41:03.606Z"
   },
   {
    "duration": 17,
    "start_time": "2023-03-15T20:41:36.622Z"
   },
   {
    "duration": 11,
    "start_time": "2023-03-15T20:41:46.161Z"
   },
   {
    "duration": 10,
    "start_time": "2023-03-15T20:41:53.556Z"
   },
   {
    "duration": 1247,
    "start_time": "2023-03-15T20:42:05.458Z"
   },
   {
    "duration": 1210,
    "start_time": "2023-03-15T20:42:52.437Z"
   },
   {
    "duration": 75,
    "start_time": "2023-03-15T20:43:44.437Z"
   },
   {
    "duration": 117,
    "start_time": "2023-03-15T20:44:20.734Z"
   },
   {
    "duration": 117,
    "start_time": "2023-03-15T20:45:25.785Z"
   },
   {
    "duration": 10,
    "start_time": "2023-03-15T20:46:07.057Z"
   },
   {
    "duration": 81,
    "start_time": "2023-03-15T20:46:29.737Z"
   },
   {
    "duration": 108,
    "start_time": "2023-03-15T20:46:53.169Z"
   },
   {
    "duration": 4,
    "start_time": "2023-03-15T20:47:04.437Z"
   },
   {
    "duration": 112,
    "start_time": "2023-03-15T20:47:08.971Z"
   },
   {
    "duration": 187,
    "start_time": "2023-03-15T20:47:59.581Z"
   },
   {
    "duration": 145,
    "start_time": "2023-03-15T20:51:12.037Z"
   },
   {
    "duration": 319,
    "start_time": "2023-03-15T20:53:24.137Z"
   },
   {
    "duration": 167,
    "start_time": "2023-03-15T20:53:40.400Z"
   },
   {
    "duration": 138,
    "start_time": "2023-03-15T20:53:50.873Z"
   },
   {
    "duration": 145,
    "start_time": "2023-03-15T20:53:58.238Z"
   },
   {
    "duration": 143,
    "start_time": "2023-03-15T20:54:03.213Z"
   },
   {
    "duration": 153,
    "start_time": "2023-03-15T20:54:08.996Z"
   },
   {
    "duration": 163,
    "start_time": "2023-03-15T20:55:20.196Z"
   },
   {
    "duration": 146,
    "start_time": "2023-03-15T20:55:40.857Z"
   },
   {
    "duration": 149,
    "start_time": "2023-03-15T20:56:02.620Z"
   },
   {
    "duration": 152,
    "start_time": "2023-03-15T20:56:08.623Z"
   },
   {
    "duration": 166,
    "start_time": "2023-03-15T20:56:18.424Z"
   },
   {
    "duration": 141,
    "start_time": "2023-03-15T21:14:41.637Z"
   },
   {
    "duration": 1742,
    "start_time": "2023-03-16T16:30:07.692Z"
   },
   {
    "duration": 3226,
    "start_time": "2023-03-16T16:30:09.437Z"
   },
   {
    "duration": 25,
    "start_time": "2023-03-16T16:30:12.665Z"
   },
   {
    "duration": 9,
    "start_time": "2023-03-16T16:30:12.692Z"
   },
   {
    "duration": 4,
    "start_time": "2023-03-16T16:30:12.704Z"
   },
   {
    "duration": 25243,
    "start_time": "2023-03-16T16:30:12.710Z"
   },
   {
    "duration": 17,
    "start_time": "2023-03-16T16:30:37.954Z"
   },
   {
    "duration": 12,
    "start_time": "2023-03-16T16:30:37.973Z"
   },
   {
    "duration": 50,
    "start_time": "2023-03-16T16:30:37.988Z"
   },
   {
    "duration": 233,
    "start_time": "2023-03-16T16:30:38.049Z"
   },
   {
    "duration": 379,
    "start_time": "2023-03-16T16:30:53.786Z"
   },
   {
    "duration": 4,
    "start_time": "2023-03-16T16:31:36.020Z"
   },
   {
    "duration": 195,
    "start_time": "2023-03-16T16:32:51.464Z"
   },
   {
    "duration": 241,
    "start_time": "2023-03-16T16:33:01.475Z"
   },
   {
    "duration": 267,
    "start_time": "2023-03-16T16:33:36.281Z"
   },
   {
    "duration": 110,
    "start_time": "2023-03-16T16:44:30.086Z"
   },
   {
    "duration": 206,
    "start_time": "2023-03-16T16:44:36.785Z"
   },
   {
    "duration": 221,
    "start_time": "2023-03-16T16:45:05.602Z"
   },
   {
    "duration": 162,
    "start_time": "2023-03-16T16:45:38.869Z"
   },
   {
    "duration": 184,
    "start_time": "2023-03-16T16:46:11.365Z"
   },
   {
    "duration": 173,
    "start_time": "2023-03-16T16:46:18.600Z"
   },
   {
    "duration": 189,
    "start_time": "2023-03-16T16:46:24.460Z"
   },
   {
    "duration": 95,
    "start_time": "2023-03-16T16:46:36.995Z"
   },
   {
    "duration": 234,
    "start_time": "2023-03-16T16:46:45.775Z"
   },
   {
    "duration": 167,
    "start_time": "2023-03-16T16:46:50.267Z"
   },
   {
    "duration": 197,
    "start_time": "2023-03-16T16:52:40.806Z"
   },
   {
    "duration": 3,
    "start_time": "2023-03-16T16:57:46.015Z"
   },
   {
    "duration": 3,
    "start_time": "2023-03-16T16:57:53.368Z"
   },
   {
    "duration": 24,
    "start_time": "2023-03-16T16:58:37.411Z"
   },
   {
    "duration": 144,
    "start_time": "2023-03-16T16:58:51.870Z"
   },
   {
    "duration": 284,
    "start_time": "2023-03-16T16:58:59.886Z"
   },
   {
    "duration": 292,
    "start_time": "2023-03-16T16:59:25.099Z"
   },
   {
    "duration": 386,
    "start_time": "2023-03-16T16:59:50.006Z"
   },
   {
    "duration": 443,
    "start_time": "2023-03-16T17:03:36.977Z"
   },
   {
    "duration": 463,
    "start_time": "2023-03-16T17:03:44.834Z"
   },
   {
    "duration": 434,
    "start_time": "2023-03-16T17:04:00.700Z"
   },
   {
    "duration": 40,
    "start_time": "2023-03-16T17:04:13.861Z"
   },
   {
    "duration": 530,
    "start_time": "2023-03-16T17:04:19.296Z"
   },
   {
    "duration": 433,
    "start_time": "2023-03-16T17:04:25.575Z"
   },
   {
    "duration": 478,
    "start_time": "2023-03-16T17:04:31.134Z"
   },
   {
    "duration": 490,
    "start_time": "2023-03-16T17:04:39.231Z"
   },
   {
    "duration": 702,
    "start_time": "2023-03-16T17:05:21.386Z"
   },
   {
    "duration": 628,
    "start_time": "2023-03-16T17:07:08.491Z"
   },
   {
    "duration": 612,
    "start_time": "2023-03-16T17:07:15.710Z"
   },
   {
    "duration": 505,
    "start_time": "2023-03-16T17:07:25.558Z"
   },
   {
    "duration": 1389,
    "start_time": "2023-03-16T17:28:57.292Z"
   },
   {
    "duration": 3113,
    "start_time": "2023-03-16T17:28:58.682Z"
   },
   {
    "duration": 84,
    "start_time": "2023-03-16T17:29:01.797Z"
   },
   {
    "duration": 11,
    "start_time": "2023-03-16T17:29:01.883Z"
   },
   {
    "duration": 77,
    "start_time": "2023-03-16T17:29:01.897Z"
   },
   {
    "duration": 25054,
    "start_time": "2023-03-16T17:29:01.976Z"
   },
   {
    "duration": 28,
    "start_time": "2023-03-16T17:29:27.033Z"
   },
   {
    "duration": 15,
    "start_time": "2023-03-16T17:29:27.062Z"
   },
   {
    "duration": 38,
    "start_time": "2023-03-16T17:29:27.081Z"
   },
   {
    "duration": 253,
    "start_time": "2023-03-16T17:29:27.120Z"
   },
   {
    "duration": 499,
    "start_time": "2023-03-16T17:29:27.386Z"
   },
   {
    "duration": 1557,
    "start_time": "2023-03-16T17:30:56.489Z"
   },
   {
    "duration": 816,
    "start_time": "2023-03-16T17:30:58.052Z"
   },
   {
    "duration": 25,
    "start_time": "2023-03-16T17:30:58.873Z"
   },
   {
    "duration": 9,
    "start_time": "2023-03-16T17:30:58.900Z"
   },
   {
    "duration": 19,
    "start_time": "2023-03-16T17:30:58.912Z"
   },
   {
    "duration": 27412,
    "start_time": "2023-03-16T17:30:58.933Z"
   },
   {
    "duration": 15,
    "start_time": "2023-03-16T17:31:26.346Z"
   },
   {
    "duration": 12,
    "start_time": "2023-03-16T17:31:26.362Z"
   },
   {
    "duration": 46,
    "start_time": "2023-03-16T17:31:26.376Z"
   },
   {
    "duration": 222,
    "start_time": "2023-03-16T17:31:26.424Z"
   },
   {
    "duration": 546,
    "start_time": "2023-03-16T17:31:26.647Z"
   },
   {
    "duration": 203691,
    "start_time": "2023-03-16T17:31:27.194Z"
   },
   {
    "duration": 4,
    "start_time": "2023-03-16T17:35:12.323Z"
   },
   {
    "duration": 172,
    "start_time": "2023-03-16T17:38:57.642Z"
   },
   {
    "duration": 22,
    "start_time": "2023-03-16T17:40:01.685Z"
   },
   {
    "duration": 252,
    "start_time": "2023-03-16T17:40:06.529Z"
   },
   {
    "duration": 182,
    "start_time": "2023-03-16T18:04:39.707Z"
   },
   {
    "duration": 177,
    "start_time": "2023-03-16T18:04:50.486Z"
   },
   {
    "duration": 203,
    "start_time": "2023-03-16T18:05:14.825Z"
   },
   {
    "duration": 275,
    "start_time": "2023-03-16T18:05:31.094Z"
   },
   {
    "duration": 298,
    "start_time": "2023-03-16T18:05:40.807Z"
   },
   {
    "duration": 239,
    "start_time": "2023-03-16T18:06:08.238Z"
   },
   {
    "duration": 212,
    "start_time": "2023-03-16T18:06:13.382Z"
   },
   {
    "duration": 219,
    "start_time": "2023-03-16T18:06:24.987Z"
   },
   {
    "duration": 271,
    "start_time": "2023-03-16T18:06:27.758Z"
   },
   {
    "duration": 216,
    "start_time": "2023-03-16T18:08:05.303Z"
   },
   {
    "duration": 240,
    "start_time": "2023-03-16T18:08:41.821Z"
   },
   {
    "duration": 256,
    "start_time": "2023-03-16T18:08:55.230Z"
   },
   {
    "duration": 301,
    "start_time": "2023-03-16T18:09:04.404Z"
   },
   {
    "duration": 215,
    "start_time": "2023-03-16T18:09:14.194Z"
   },
   {
    "duration": 286,
    "start_time": "2023-03-16T18:09:28.926Z"
   },
   {
    "duration": 224,
    "start_time": "2023-03-16T18:09:40.793Z"
   },
   {
    "duration": 282,
    "start_time": "2023-03-16T18:09:53.479Z"
   },
   {
    "duration": 406,
    "start_time": "2023-03-16T18:10:02.669Z"
   },
   {
    "duration": 679,
    "start_time": "2023-03-16T18:10:17.794Z"
   },
   {
    "duration": 667,
    "start_time": "2023-03-16T18:10:40.686Z"
   },
   {
    "duration": 687,
    "start_time": "2023-03-16T18:11:05.114Z"
   },
   {
    "duration": 788,
    "start_time": "2023-03-16T18:11:16.912Z"
   },
   {
    "duration": 2680,
    "start_time": "2023-03-16T18:11:24.637Z"
   },
   {
    "duration": 689,
    "start_time": "2023-03-16T18:11:41.696Z"
   },
   {
    "duration": 15,
    "start_time": "2023-03-16T18:24:27.274Z"
   },
   {
    "duration": 43,
    "start_time": "2023-03-16T18:44:30.334Z"
   },
   {
    "duration": 37,
    "start_time": "2023-03-16T18:44:35.840Z"
   },
   {
    "duration": 1721,
    "start_time": "2023-03-16T18:47:06.906Z"
   },
   {
    "duration": 17,
    "start_time": "2023-03-16T18:47:30.022Z"
   },
   {
    "duration": 511,
    "start_time": "2023-03-16T18:47:40.802Z"
   },
   {
    "duration": 398,
    "start_time": "2023-03-16T18:47:44.911Z"
   },
   {
    "duration": 421,
    "start_time": "2023-03-16T18:52:01.905Z"
   },
   {
    "duration": 403,
    "start_time": "2023-03-16T18:52:10.994Z"
   },
   {
    "duration": 894,
    "start_time": "2023-03-16T18:52:47.275Z"
   },
   {
    "duration": 709,
    "start_time": "2023-03-16T18:54:14.025Z"
   },
   {
    "duration": 4,
    "start_time": "2023-03-16T18:58:24.410Z"
   },
   {
    "duration": 20,
    "start_time": "2023-03-16T18:58:55.077Z"
   },
   {
    "duration": 678,
    "start_time": "2023-03-16T18:59:11.805Z"
   },
   {
    "duration": 1673,
    "start_time": "2023-03-16T18:59:44.466Z"
   },
   {
    "duration": 1008,
    "start_time": "2023-03-16T18:59:46.159Z"
   },
   {
    "duration": 26,
    "start_time": "2023-03-16T18:59:47.173Z"
   },
   {
    "duration": 10,
    "start_time": "2023-03-16T18:59:47.204Z"
   },
   {
    "duration": 9,
    "start_time": "2023-03-16T18:59:47.216Z"
   },
   {
    "duration": 52112,
    "start_time": "2023-03-16T18:59:47.227Z"
   },
   {
    "duration": 956,
    "start_time": "2023-03-16T19:00:39.341Z"
   },
   {
    "duration": 78,
    "start_time": "2023-03-16T19:00:40.299Z"
   },
   {
    "duration": 274,
    "start_time": "2023-03-16T19:00:40.390Z"
   },
   {
    "duration": 704,
    "start_time": "2023-03-16T19:00:40.673Z"
   },
   {
    "duration": 926,
    "start_time": "2023-03-16T19:00:41.383Z"
   },
   {
    "duration": 166,
    "start_time": "2023-03-16T19:00:42.313Z"
   },
   {
    "duration": 1604,
    "start_time": "2023-03-16T19:02:08.064Z"
   },
   {
    "duration": 900,
    "start_time": "2023-03-16T19:02:09.689Z"
   },
   {
    "duration": 24,
    "start_time": "2023-03-16T19:02:10.609Z"
   },
   {
    "duration": 20,
    "start_time": "2023-03-16T19:02:10.634Z"
   },
   {
    "duration": 7,
    "start_time": "2023-03-16T19:02:10.670Z"
   },
   {
    "duration": 67844,
    "start_time": "2023-03-16T19:02:10.692Z"
   },
   {
    "duration": 844,
    "start_time": "2023-03-16T19:03:18.538Z"
   },
   {
    "duration": 31,
    "start_time": "2023-03-16T19:03:19.387Z"
   },
   {
    "duration": 278,
    "start_time": "2023-03-16T19:03:19.419Z"
   },
   {
    "duration": 524,
    "start_time": "2023-03-16T19:03:19.698Z"
   },
   {
    "duration": 777,
    "start_time": "2023-03-16T19:03:20.223Z"
   },
   {
    "duration": 137,
    "start_time": "2023-03-16T19:03:21.002Z"
   },
   {
    "duration": 1521,
    "start_time": "2023-03-16T19:03:58.900Z"
   },
   {
    "duration": 907,
    "start_time": "2023-03-16T19:04:00.423Z"
   },
   {
    "duration": 35,
    "start_time": "2023-03-16T19:04:01.332Z"
   },
   {
    "duration": 31,
    "start_time": "2023-03-16T19:04:01.376Z"
   },
   {
    "duration": 52,
    "start_time": "2023-03-16T19:04:01.409Z"
   },
   {
    "duration": 67115,
    "start_time": "2023-03-16T19:04:01.462Z"
   },
   {
    "duration": 1187,
    "start_time": "2023-03-16T19:05:08.594Z"
   },
   {
    "duration": 33,
    "start_time": "2023-03-16T19:05:09.786Z"
   },
   {
    "duration": 289,
    "start_time": "2023-03-16T19:05:09.823Z"
   },
   {
    "duration": 563,
    "start_time": "2023-03-16T19:05:10.114Z"
   },
   {
    "duration": 850,
    "start_time": "2023-03-16T19:05:10.682Z"
   },
   {
    "duration": 5,
    "start_time": "2023-03-16T19:05:11.534Z"
   },
   {
    "duration": 27,
    "start_time": "2023-03-16T19:06:29.258Z"
   },
   {
    "duration": 22,
    "start_time": "2023-03-16T19:09:18.646Z"
   },
   {
    "duration": 35,
    "start_time": "2023-03-16T19:11:46.587Z"
   },
   {
    "duration": 144,
    "start_time": "2023-03-16T19:12:01.668Z"
   },
   {
    "duration": 6,
    "start_time": "2023-03-16T19:12:05.100Z"
   },
   {
    "duration": 1466,
    "start_time": "2023-03-16T19:12:34.411Z"
   },
   {
    "duration": 254,
    "start_time": "2023-03-16T19:16:37.892Z"
   },
   {
    "duration": 12,
    "start_time": "2023-03-16T19:18:37.888Z"
   },
   {
    "duration": 7,
    "start_time": "2023-03-16T19:19:19.578Z"
   },
   {
    "duration": 7171,
    "start_time": "2023-03-16T19:19:24.886Z"
   },
   {
    "duration": 41,
    "start_time": "2023-03-16T19:21:13.032Z"
   },
   {
    "duration": 8127,
    "start_time": "2023-03-16T19:22:23.069Z"
   },
   {
    "duration": 14,
    "start_time": "2023-03-16T19:23:34.296Z"
   },
   {
    "duration": 8870,
    "start_time": "2023-03-16T19:25:48.995Z"
   },
   {
    "duration": 6560,
    "start_time": "2023-03-16T19:27:35.281Z"
   },
   {
    "duration": 7215,
    "start_time": "2023-03-16T19:28:42.866Z"
   },
   {
    "duration": 15828,
    "start_time": "2023-03-16T19:28:59.970Z"
   },
   {
    "duration": 24,
    "start_time": "2023-03-16T19:39:37.482Z"
   },
   {
    "duration": 7214,
    "start_time": "2023-03-16T19:40:41.207Z"
   },
   {
    "duration": 3927,
    "start_time": "2023-03-16T19:41:03.578Z"
   },
   {
    "duration": 9,
    "start_time": "2023-03-16T19:41:38.600Z"
   },
   {
    "duration": 26,
    "start_time": "2023-03-16T19:41:56.275Z"
   },
   {
    "duration": 7,
    "start_time": "2023-03-16T19:42:02.782Z"
   },
   {
    "duration": 105,
    "start_time": "2023-03-16T19:42:57.872Z"
   },
   {
    "duration": 11,
    "start_time": "2023-03-16T19:45:39.641Z"
   },
   {
    "duration": 11,
    "start_time": "2023-03-16T19:45:46.023Z"
   },
   {
    "duration": 5563,
    "start_time": "2023-03-16T19:46:18.706Z"
   },
   {
    "duration": 8378,
    "start_time": "2023-03-16T19:46:46.233Z"
   },
   {
    "duration": 40,
    "start_time": "2023-03-16T19:46:57.525Z"
   },
   {
    "duration": 8939,
    "start_time": "2023-03-16T19:50:51.663Z"
   },
   {
    "duration": 7458,
    "start_time": "2023-03-16T19:51:06.768Z"
   },
   {
    "duration": 75,
    "start_time": "2023-03-16T19:51:19.694Z"
   },
   {
    "duration": 1788,
    "start_time": "2023-03-16T19:52:44.470Z"
   },
   {
    "duration": 1125,
    "start_time": "2023-03-16T19:52:46.260Z"
   },
   {
    "duration": 40,
    "start_time": "2023-03-16T19:52:47.386Z"
   },
   {
    "duration": 10,
    "start_time": "2023-03-16T19:52:47.428Z"
   },
   {
    "duration": 21,
    "start_time": "2023-03-16T19:52:47.440Z"
   },
   {
    "duration": 77888,
    "start_time": "2023-03-16T19:52:47.471Z"
   },
   {
    "duration": 1209,
    "start_time": "2023-03-16T19:54:05.376Z"
   },
   {
    "duration": 89,
    "start_time": "2023-03-16T19:54:06.604Z"
   },
   {
    "duration": 350,
    "start_time": "2023-03-16T19:54:06.711Z"
   },
   {
    "duration": 569,
    "start_time": "2023-03-16T19:54:07.076Z"
   },
   {
    "duration": 883,
    "start_time": "2023-03-16T19:54:07.650Z"
   },
   {
    "duration": 23,
    "start_time": "2023-03-16T19:54:08.538Z"
   },
   {
    "duration": 5777,
    "start_time": "2023-03-16T19:54:08.566Z"
   },
   {
    "duration": 155,
    "start_time": "2023-03-16T19:54:14.356Z"
   },
   {
    "duration": 4559,
    "start_time": "2023-03-16T19:58:47.528Z"
   },
   {
    "duration": 5936,
    "start_time": "2023-03-16T19:59:05.701Z"
   },
   {
    "duration": 7099,
    "start_time": "2023-03-16T19:59:39.116Z"
   },
   {
    "duration": 358,
    "start_time": "2023-03-16T20:00:46.309Z"
   },
   {
    "duration": 126,
    "start_time": "2023-03-16T20:01:11.379Z"
   },
   {
    "duration": 5,
    "start_time": "2023-03-16T20:01:53.507Z"
   },
   {
    "duration": 48,
    "start_time": "2023-03-16T20:02:02.490Z"
   },
   {
    "duration": 40,
    "start_time": "2023-03-16T20:02:13.957Z"
   },
   {
    "duration": 10,
    "start_time": "2023-03-16T20:02:42.413Z"
   },
   {
    "duration": 143,
    "start_time": "2023-03-16T20:02:54.028Z"
   },
   {
    "duration": 11,
    "start_time": "2023-03-16T20:03:29.901Z"
   },
   {
    "duration": 108,
    "start_time": "2023-03-16T20:03:36.317Z"
   },
   {
    "duration": 8886,
    "start_time": "2023-03-16T20:03:52.511Z"
   },
   {
    "duration": 52,
    "start_time": "2023-03-16T20:04:35.755Z"
   },
   {
    "duration": 92,
    "start_time": "2023-03-16T20:06:14.115Z"
   },
   {
    "duration": 84,
    "start_time": "2023-03-16T20:06:19.989Z"
   },
   {
    "duration": 47,
    "start_time": "2023-03-17T19:57:10.154Z"
   },
   {
    "duration": 1459,
    "start_time": "2023-03-17T19:57:45.437Z"
   },
   {
    "duration": 1999,
    "start_time": "2023-03-17T19:57:46.899Z"
   },
   {
    "duration": 21,
    "start_time": "2023-03-17T19:57:48.901Z"
   },
   {
    "duration": 7,
    "start_time": "2023-03-17T19:57:48.924Z"
   },
   {
    "duration": 5,
    "start_time": "2023-03-17T19:57:48.933Z"
   },
   {
    "duration": 53272,
    "start_time": "2023-03-17T19:57:48.939Z"
   },
   {
    "duration": 734,
    "start_time": "2023-03-17T19:58:42.214Z"
   },
   {
    "duration": 39,
    "start_time": "2023-03-17T19:58:42.950Z"
   },
   {
    "duration": 206,
    "start_time": "2023-03-17T19:58:42.990Z"
   },
   {
    "duration": 513,
    "start_time": "2023-03-17T19:58:43.198Z"
   },
   {
    "duration": 707,
    "start_time": "2023-03-17T19:58:43.713Z"
   },
   {
    "duration": 13,
    "start_time": "2023-03-17T19:58:44.421Z"
   },
   {
    "duration": 26,
    "start_time": "2023-03-17T19:58:44.435Z"
   },
   {
    "duration": 159,
    "start_time": "2023-03-17T19:58:44.464Z"
   },
   {
    "duration": 53,
    "start_time": "2023-03-17T19:58:44.626Z"
   },
   {
    "duration": 103,
    "start_time": "2023-03-17T19:59:37.923Z"
   },
   {
    "duration": 552,
    "start_time": "2023-03-17T20:00:17.730Z"
   },
   {
    "duration": 10,
    "start_time": "2023-03-17T20:00:26.698Z"
   },
   {
    "duration": 3,
    "start_time": "2023-03-17T20:00:45.134Z"
   },
   {
    "duration": 5,
    "start_time": "2023-03-17T20:00:47.675Z"
   },
   {
    "duration": 39,
    "start_time": "2023-03-17T20:00:51.057Z"
   },
   {
    "duration": 15,
    "start_time": "2023-03-17T20:01:08.404Z"
   },
   {
    "duration": 14,
    "start_time": "2023-03-17T20:01:59.526Z"
   },
   {
    "duration": 17,
    "start_time": "2023-03-17T20:02:28.999Z"
   },
   {
    "duration": 5,
    "start_time": "2023-03-17T20:03:26.910Z"
   },
   {
    "duration": 9,
    "start_time": "2023-03-17T20:06:47.625Z"
   },
   {
    "duration": 3,
    "start_time": "2023-03-17T20:07:07.773Z"
   },
   {
    "duration": 5,
    "start_time": "2023-03-17T20:07:15.480Z"
   },
   {
    "duration": 6,
    "start_time": "2023-03-17T20:07:22.263Z"
   },
   {
    "duration": 92,
    "start_time": "2023-03-17T20:07:25.798Z"
   },
   {
    "duration": 23,
    "start_time": "2023-03-17T20:07:30.267Z"
   },
   {
    "duration": 110,
    "start_time": "2023-03-17T20:19:18.781Z"
   },
   {
    "duration": 72,
    "start_time": "2023-03-17T20:21:02.079Z"
   },
   {
    "duration": 20,
    "start_time": "2023-03-17T20:21:05.651Z"
   },
   {
    "duration": 4,
    "start_time": "2023-03-17T20:31:46.622Z"
   },
   {
    "duration": 4,
    "start_time": "2023-03-17T20:35:36.846Z"
   },
   {
    "duration": 72,
    "start_time": "2023-03-17T20:36:03.463Z"
   },
   {
    "duration": 14,
    "start_time": "2023-03-17T20:36:06.697Z"
   },
   {
    "duration": 67,
    "start_time": "2023-03-17T20:36:24.729Z"
   },
   {
    "duration": 15,
    "start_time": "2023-03-17T20:38:08.457Z"
   },
   {
    "duration": 98,
    "start_time": "2023-03-17T20:38:32.798Z"
   },
   {
    "duration": 3,
    "start_time": "2023-03-17T20:41:43.555Z"
   },
   {
    "duration": 1302,
    "start_time": "2023-03-17T21:11:22.654Z"
   },
   {
    "duration": 1238,
    "start_time": "2023-03-17T21:13:44.194Z"
   },
   {
    "duration": 64,
    "start_time": "2023-03-17T21:18:40.405Z"
   },
   {
    "duration": 72,
    "start_time": "2023-03-17T21:20:35.205Z"
   },
   {
    "duration": 542,
    "start_time": "2023-03-17T21:21:07.095Z"
   },
   {
    "duration": 9,
    "start_time": "2023-03-17T21:23:06.358Z"
   },
   {
    "duration": 1989,
    "start_time": "2023-03-17T21:23:19.071Z"
   },
   {
    "duration": 5,
    "start_time": "2023-03-17T21:24:07.358Z"
   },
   {
    "duration": 35,
    "start_time": "2023-03-17T21:24:09.505Z"
   },
   {
    "duration": 3,
    "start_time": "2023-03-17T21:24:27.939Z"
   },
   {
    "duration": 5,
    "start_time": "2023-03-17T21:24:31.455Z"
   },
   {
    "duration": 13,
    "start_time": "2023-03-17T21:24:32.966Z"
   },
   {
    "duration": 6,
    "start_time": "2023-03-17T21:24:40.216Z"
   },
   {
    "duration": 1208,
    "start_time": "2023-03-17T21:24:45.018Z"
   },
   {
    "duration": 73,
    "start_time": "2023-03-17T21:25:55.726Z"
   },
   {
    "duration": 3,
    "start_time": "2023-03-17T21:26:09.442Z"
   },
   {
    "duration": 1435,
    "start_time": "2023-03-17T21:26:12.154Z"
   },
   {
    "duration": 3,
    "start_time": "2023-03-17T21:28:02.154Z"
   },
   {
    "duration": 1519,
    "start_time": "2023-03-17T21:28:04.199Z"
   },
   {
    "duration": 4,
    "start_time": "2023-03-17T21:29:26.802Z"
   },
   {
    "duration": 2117,
    "start_time": "2023-03-17T21:29:28.783Z"
   },
   {
    "duration": 222,
    "start_time": "2023-03-17T21:30:49.475Z"
   },
   {
    "duration": 97,
    "start_time": "2023-03-17T21:32:02.405Z"
   },
   {
    "duration": 1703,
    "start_time": "2023-03-17T21:32:22.656Z"
   },
   {
    "duration": 105,
    "start_time": "2023-03-17T21:33:03.786Z"
   },
   {
    "duration": 1531,
    "start_time": "2023-03-17T21:33:08.264Z"
   },
   {
    "duration": 70,
    "start_time": "2023-03-17T21:34:19.425Z"
   },
   {
    "duration": 4,
    "start_time": "2023-03-17T21:34:24.239Z"
   },
   {
    "duration": 2342,
    "start_time": "2023-03-17T21:34:28.246Z"
   },
   {
    "duration": 10,
    "start_time": "2023-03-17T21:35:01.206Z"
   },
   {
    "duration": 544,
    "start_time": "2023-03-17T21:35:15.306Z"
   },
   {
    "duration": 13,
    "start_time": "2023-03-17T21:36:21.978Z"
   },
   {
    "duration": 10,
    "start_time": "2023-03-17T21:36:33.812Z"
   },
   {
    "duration": 498,
    "start_time": "2023-03-17T21:41:06.246Z"
   },
   {
    "duration": 111,
    "start_time": "2023-03-17T21:41:27.186Z"
   },
   {
    "duration": 84,
    "start_time": "2023-03-17T21:42:05.127Z"
   },
   {
    "duration": 70,
    "start_time": "2023-03-17T21:42:09.869Z"
   },
   {
    "duration": 73,
    "start_time": "2023-03-17T21:42:16.239Z"
   },
   {
    "duration": 428,
    "start_time": "2023-03-17T21:42:28.342Z"
   },
   {
    "duration": 540,
    "start_time": "2023-03-17T21:43:01.018Z"
   },
   {
    "duration": 13,
    "start_time": "2023-03-17T21:46:01.531Z"
   },
   {
    "duration": 12,
    "start_time": "2023-03-17T21:46:11.066Z"
   },
   {
    "duration": 74,
    "start_time": "2023-03-17T21:47:39.846Z"
   },
   {
    "duration": 128726,
    "start_time": "2023-03-17T21:47:56.458Z"
   },
   {
    "duration": 546,
    "start_time": "2023-03-17T21:51:02.076Z"
   },
   {
    "duration": 0,
    "start_time": "2023-03-17T21:53:55.274Z"
   },
   {
    "duration": 436,
    "start_time": "2023-03-17T21:54:28.016Z"
   },
   {
    "duration": 550,
    "start_time": "2023-03-17T21:55:27.754Z"
   },
   {
    "duration": 501,
    "start_time": "2023-03-17T21:55:51.159Z"
   },
   {
    "duration": 43,
    "start_time": "2023-03-17T21:56:15.956Z"
   },
   {
    "duration": 19,
    "start_time": "2023-03-17T21:56:24.771Z"
   },
   {
    "duration": 316,
    "start_time": "2023-03-17T21:56:48.091Z"
   },
   {
    "duration": 16,
    "start_time": "2023-03-17T21:57:21.047Z"
   },
   {
    "duration": 12,
    "start_time": "2023-03-17T21:57:32.941Z"
   },
   {
    "duration": 334,
    "start_time": "2023-03-17T21:59:54.206Z"
   },
   {
    "duration": 15,
    "start_time": "2023-03-17T22:00:10.336Z"
   },
   {
    "duration": 11,
    "start_time": "2023-03-17T22:00:18.034Z"
   },
   {
    "duration": 9,
    "start_time": "2023-03-17T22:02:46.071Z"
   },
   {
    "duration": 11,
    "start_time": "2023-03-17T22:02:55.010Z"
   },
   {
    "duration": 19,
    "start_time": "2023-03-17T22:03:03.827Z"
   },
   {
    "duration": 3,
    "start_time": "2023-03-17T22:03:39.222Z"
   },
   {
    "duration": 5,
    "start_time": "2023-03-17T22:03:42.294Z"
   },
   {
    "duration": 77,
    "start_time": "2023-03-17T22:03:55.423Z"
   },
   {
    "duration": 103,
    "start_time": "2023-03-17T22:05:16.987Z"
   },
   {
    "duration": 16,
    "start_time": "2023-03-17T22:05:20.633Z"
   },
   {
    "duration": 58,
    "start_time": "2023-03-17T22:06:25.233Z"
   },
   {
    "duration": 1431,
    "start_time": "2023-03-17T22:07:00.662Z"
   },
   {
    "duration": 1402,
    "start_time": "2023-03-17T22:09:11.588Z"
   },
   {
    "duration": 3,
    "start_time": "2023-03-17T22:09:43.399Z"
   },
   {
    "duration": 1348,
    "start_time": "2023-03-17T22:10:31.928Z"
   },
   {
    "duration": 794,
    "start_time": "2023-03-17T22:10:33.278Z"
   },
   {
    "duration": 24,
    "start_time": "2023-03-17T22:10:34.074Z"
   },
   {
    "duration": 7,
    "start_time": "2023-03-17T22:10:34.100Z"
   },
   {
    "duration": 5,
    "start_time": "2023-03-17T22:10:34.109Z"
   },
   {
    "duration": 52623,
    "start_time": "2023-03-17T22:10:34.116Z"
   },
   {
    "duration": 668,
    "start_time": "2023-03-17T22:11:26.740Z"
   },
   {
    "duration": 31,
    "start_time": "2023-03-17T22:11:27.410Z"
   },
   {
    "duration": 221,
    "start_time": "2023-03-17T22:11:27.443Z"
   },
   {
    "duration": 500,
    "start_time": "2023-03-17T22:11:27.666Z"
   },
   {
    "duration": 684,
    "start_time": "2023-03-17T22:11:28.168Z"
   },
   {
    "duration": 12,
    "start_time": "2023-03-17T22:11:28.854Z"
   },
   {
    "duration": 10,
    "start_time": "2023-03-17T22:11:28.868Z"
   },
   {
    "duration": 6,
    "start_time": "2023-03-17T22:11:28.889Z"
   },
   {
    "duration": 96,
    "start_time": "2023-03-17T22:11:28.897Z"
   },
   {
    "duration": 136,
    "start_time": "2023-03-17T22:11:28.994Z"
   },
   {
    "duration": 257,
    "start_time": "2023-03-17T22:11:29.132Z"
   },
   {
    "duration": 1708,
    "start_time": "2023-03-17T22:11:29.391Z"
   },
   {
    "duration": 1867,
    "start_time": "2023-03-18T16:26:15.322Z"
   },
   {
    "duration": 3,
    "start_time": "2023-03-18T16:26:27.512Z"
   },
   {
    "duration": 10,
    "start_time": "2023-03-18T16:26:36.905Z"
   },
   {
    "duration": 9,
    "start_time": "2023-03-18T16:26:40.751Z"
   },
   {
    "duration": 2431,
    "start_time": "2023-03-18T16:26:40.764Z"
   },
   {
    "duration": 23,
    "start_time": "2023-03-18T16:26:43.196Z"
   },
   {
    "duration": 8,
    "start_time": "2023-03-18T16:26:43.220Z"
   },
   {
    "duration": 17,
    "start_time": "2023-03-18T16:26:43.231Z"
   },
   {
    "duration": 61666,
    "start_time": "2023-03-18T16:26:43.251Z"
   },
   {
    "duration": 807,
    "start_time": "2023-03-18T16:27:44.919Z"
   },
   {
    "duration": 49,
    "start_time": "2023-03-18T16:27:45.728Z"
   },
   {
    "duration": 225,
    "start_time": "2023-03-18T16:27:45.779Z"
   },
   {
    "duration": 568,
    "start_time": "2023-03-18T16:27:46.006Z"
   },
   {
    "duration": 757,
    "start_time": "2023-03-18T16:27:46.575Z"
   },
   {
    "duration": 19,
    "start_time": "2023-03-18T16:27:47.334Z"
   },
   {
    "duration": 2,
    "start_time": "2023-03-18T16:28:12.410Z"
   },
   {
    "duration": 10,
    "start_time": "2023-03-18T16:28:44.723Z"
   },
   {
    "duration": 37,
    "start_time": "2023-03-18T16:28:52.810Z"
   },
   {
    "duration": 6,
    "start_time": "2023-03-18T16:30:30.039Z"
   },
   {
    "duration": 26,
    "start_time": "2023-03-18T16:30:32.525Z"
   },
   {
    "duration": 3,
    "start_time": "2023-03-18T16:31:23.609Z"
   },
   {
    "duration": 23,
    "start_time": "2023-03-18T16:31:27.801Z"
   },
   {
    "duration": 1441,
    "start_time": "2023-03-18T16:31:38.106Z"
   },
   {
    "duration": 4,
    "start_time": "2023-03-18T16:31:47.101Z"
   },
   {
    "duration": 3,
    "start_time": "2023-03-18T16:31:54.439Z"
   },
   {
    "duration": 49,
    "start_time": "2023-03-18T16:31:55.938Z"
   },
   {
    "duration": 3,
    "start_time": "2023-03-18T16:31:56.806Z"
   },
   {
    "duration": 1437,
    "start_time": "2023-03-18T16:31:57.418Z"
   },
   {
    "duration": 12,
    "start_time": "2023-03-18T16:37:47.206Z"
   },
   {
    "duration": 4,
    "start_time": "2023-03-18T16:37:49.452Z"
   },
   {
    "duration": 1839,
    "start_time": "2023-03-18T16:37:51.314Z"
   },
   {
    "duration": 3,
    "start_time": "2023-03-18T16:39:20.944Z"
   },
   {
    "duration": 44,
    "start_time": "2023-03-18T16:41:13.568Z"
   },
   {
    "duration": 15,
    "start_time": "2023-03-18T16:43:33.213Z"
   },
   {
    "duration": 12,
    "start_time": "2023-03-18T16:43:43.648Z"
   },
   {
    "duration": 11,
    "start_time": "2023-03-18T16:43:52.778Z"
   },
   {
    "duration": 3,
    "start_time": "2023-03-18T16:44:06.078Z"
   },
   {
    "duration": 12,
    "start_time": "2023-03-18T16:44:17.308Z"
   },
   {
    "duration": 12,
    "start_time": "2023-03-18T16:44:20.475Z"
   },
   {
    "duration": 10,
    "start_time": "2023-03-18T16:44:23.044Z"
   },
   {
    "duration": 9,
    "start_time": "2023-03-18T16:44:37.677Z"
   },
   {
    "duration": 10,
    "start_time": "2023-03-18T16:45:05.937Z"
   },
   {
    "duration": 11,
    "start_time": "2023-03-18T16:45:12.141Z"
   },
   {
    "duration": 10,
    "start_time": "2023-03-18T16:45:53.428Z"
   },
   {
    "duration": 16,
    "start_time": "2023-03-18T16:45:58.272Z"
   },
   {
    "duration": 16,
    "start_time": "2023-03-18T16:46:32.506Z"
   },
   {
    "duration": 4,
    "start_time": "2023-03-18T16:48:15.887Z"
   },
   {
    "duration": 16,
    "start_time": "2023-03-18T16:48:23.067Z"
   },
   {
    "duration": 14,
    "start_time": "2023-03-18T16:50:22.010Z"
   },
   {
    "duration": 18,
    "start_time": "2023-03-18T16:50:40.643Z"
   },
   {
    "duration": 14,
    "start_time": "2023-03-18T16:51:02.737Z"
   },
   {
    "duration": 16,
    "start_time": "2023-03-18T16:51:08.925Z"
   },
   {
    "duration": 3,
    "start_time": "2023-03-18T16:54:10.258Z"
   },
   {
    "duration": 4,
    "start_time": "2023-03-18T16:54:56.806Z"
   },
   {
    "duration": 17,
    "start_time": "2023-03-18T16:55:05.460Z"
   },
   {
    "duration": 20,
    "start_time": "2023-03-18T16:55:10.218Z"
   },
   {
    "duration": 13,
    "start_time": "2023-03-18T16:55:27.100Z"
   },
   {
    "duration": 1337,
    "start_time": "2023-03-18T16:57:16.806Z"
   },
   {
    "duration": 4,
    "start_time": "2023-03-18T16:57:24.621Z"
   },
   {
    "duration": 1518,
    "start_time": "2023-03-18T16:57:27.630Z"
   },
   {
    "duration": 9,
    "start_time": "2023-03-18T16:57:39.470Z"
   },
   {
    "duration": 1774,
    "start_time": "2023-03-18T16:57:44.567Z"
   },
   {
    "duration": 13,
    "start_time": "2023-03-18T17:02:17.839Z"
   },
   {
    "duration": 1593,
    "start_time": "2023-03-19T10:37:42.375Z"
   },
   {
    "duration": 2141,
    "start_time": "2023-03-19T10:37:43.970Z"
   },
   {
    "duration": 21,
    "start_time": "2023-03-19T10:37:46.112Z"
   },
   {
    "duration": 7,
    "start_time": "2023-03-19T10:37:46.135Z"
   },
   {
    "duration": 10,
    "start_time": "2023-03-19T10:37:46.143Z"
   },
   {
    "duration": 53145,
    "start_time": "2023-03-19T10:37:46.154Z"
   },
   {
    "duration": 755,
    "start_time": "2023-03-19T10:38:39.301Z"
   },
   {
    "duration": 39,
    "start_time": "2023-03-19T10:38:40.058Z"
   },
   {
    "duration": 203,
    "start_time": "2023-03-19T10:38:40.099Z"
   },
   {
    "duration": 559,
    "start_time": "2023-03-19T10:38:40.305Z"
   },
   {
    "duration": 626,
    "start_time": "2023-03-19T10:38:40.866Z"
   },
   {
    "duration": 10,
    "start_time": "2023-03-19T10:38:41.494Z"
   },
   {
    "duration": 10,
    "start_time": "2023-03-19T10:38:41.506Z"
   },
   {
    "duration": 22,
    "start_time": "2023-03-19T10:38:41.518Z"
   },
   {
    "duration": 4,
    "start_time": "2023-03-19T10:38:41.541Z"
   },
   {
    "duration": 1653,
    "start_time": "2023-03-19T10:38:41.546Z"
   },
   {
    "duration": 1518512,
    "start_time": "2023-03-19T10:38:43.202Z"
   },
   {
    "duration": 276055,
    "start_time": "2023-03-19T11:11:22.642Z"
   },
   {
    "duration": 275641,
    "start_time": "2023-03-19T11:17:18.003Z"
   },
   {
    "duration": 314446,
    "start_time": "2023-03-19T11:26:00.337Z"
   },
   {
    "duration": 1395,
    "start_time": "2023-03-19T12:09:21.577Z"
   },
   {
    "duration": 746,
    "start_time": "2023-03-19T12:09:22.974Z"
   },
   {
    "duration": 30,
    "start_time": "2023-03-19T12:09:23.723Z"
   },
   {
    "duration": 10,
    "start_time": "2023-03-19T12:09:23.755Z"
   },
   {
    "duration": 22,
    "start_time": "2023-03-19T12:09:23.768Z"
   },
   {
    "duration": 53497,
    "start_time": "2023-03-19T12:09:23.792Z"
   },
   {
    "duration": 688,
    "start_time": "2023-03-19T12:10:17.291Z"
   },
   {
    "duration": 36,
    "start_time": "2023-03-19T12:10:17.981Z"
   },
   {
    "duration": 233,
    "start_time": "2023-03-19T12:10:18.018Z"
   },
   {
    "duration": 548,
    "start_time": "2023-03-19T12:10:18.252Z"
   },
   {
    "duration": 613,
    "start_time": "2023-03-19T12:10:18.802Z"
   },
   {
    "duration": 12,
    "start_time": "2023-03-19T12:10:19.417Z"
   },
   {
    "duration": 11,
    "start_time": "2023-03-19T12:10:19.431Z"
   },
   {
    "duration": 19,
    "start_time": "2023-03-19T12:10:19.445Z"
   },
   {
    "duration": 22,
    "start_time": "2023-03-19T12:10:19.466Z"
   },
   {
    "duration": 2002,
    "start_time": "2023-03-19T12:10:19.490Z"
   },
   {
    "duration": 1095704,
    "start_time": "2023-03-19T12:10:21.494Z"
   },
   {
    "duration": 56,
    "start_time": "2023-03-19T12:43:18.384Z"
   },
   {
    "duration": 3,
    "start_time": "2023-03-19T12:52:24.632Z"
   },
   {
    "duration": 51,
    "start_time": "2023-03-19T12:53:04.069Z"
   },
   {
    "duration": 72,
    "start_time": "2023-03-19T12:53:15.736Z"
   },
   {
    "duration": 29,
    "start_time": "2023-03-19T12:54:02.234Z"
   },
   {
    "duration": 50,
    "start_time": "2023-03-19T12:55:08.149Z"
   },
   {
    "duration": 1683,
    "start_time": "2023-03-19T12:55:16.524Z"
   },
   {
    "duration": 1502,
    "start_time": "2023-03-19T12:57:26.493Z"
   },
   {
    "duration": 50,
    "start_time": "2023-03-19T12:57:30.879Z"
   },
   {
    "duration": 50,
    "start_time": "2023-03-19T12:57:40.697Z"
   },
   {
    "duration": 49,
    "start_time": "2023-03-19T12:59:33.968Z"
   },
   {
    "duration": 167,
    "start_time": "2023-03-19T13:00:19.597Z"
   },
   {
    "duration": 24,
    "start_time": "2023-03-19T13:00:26.906Z"
   },
   {
    "duration": 28,
    "start_time": "2023-03-19T13:00:54.252Z"
   },
   {
    "duration": 55,
    "start_time": "2023-03-19T13:01:00.564Z"
   },
   {
    "duration": 1675,
    "start_time": "2023-03-19T13:01:03.414Z"
   },
   {
    "duration": 24,
    "start_time": "2023-03-19T13:01:11.735Z"
   },
   {
    "duration": 4,
    "start_time": "2023-03-19T13:01:51.061Z"
   },
   {
    "duration": 1584,
    "start_time": "2023-03-21T11:04:55.661Z"
   },
   {
    "duration": 2391,
    "start_time": "2023-03-21T11:04:57.248Z"
   },
   {
    "duration": 21,
    "start_time": "2023-03-21T11:04:59.640Z"
   },
   {
    "duration": 7,
    "start_time": "2023-03-21T11:04:59.663Z"
   },
   {
    "duration": 11,
    "start_time": "2023-03-21T11:04:59.671Z"
   },
   {
    "duration": 19608,
    "start_time": "2023-03-21T11:06:05.833Z"
   },
   {
    "duration": 730,
    "start_time": "2023-03-21T11:06:41.450Z"
   },
   {
    "duration": 128,
    "start_time": "2023-03-21T11:18:16.143Z"
   },
   {
    "duration": 24,
    "start_time": "2023-03-21T11:18:42.525Z"
   },
   {
    "duration": 18,
    "start_time": "2023-03-21T11:18:53.177Z"
   },
   {
    "duration": 80,
    "start_time": "2023-03-21T11:41:26.014Z"
   },
   {
    "duration": 405,
    "start_time": "2023-03-21T11:42:17.263Z"
   },
   {
    "duration": 451,
    "start_time": "2023-03-21T11:42:43.235Z"
   },
   {
    "duration": 458,
    "start_time": "2023-03-21T11:43:05.802Z"
   },
   {
    "duration": 457,
    "start_time": "2023-03-21T11:43:52.217Z"
   },
   {
    "duration": 394,
    "start_time": "2023-03-21T11:44:22.607Z"
   },
   {
    "duration": 418,
    "start_time": "2023-03-21T11:44:57.387Z"
   },
   {
    "duration": 373,
    "start_time": "2023-03-21T11:45:38.889Z"
   },
   {
    "duration": 398,
    "start_time": "2023-03-21T11:46:06.090Z"
   },
   {
    "duration": 468,
    "start_time": "2023-03-21T11:46:23.394Z"
   },
   {
    "duration": 415,
    "start_time": "2023-03-21T11:47:39.941Z"
   },
   {
    "duration": 422,
    "start_time": "2023-03-21T11:47:52.682Z"
   },
   {
    "duration": 490,
    "start_time": "2023-03-21T11:48:00.919Z"
   },
   {
    "duration": 510,
    "start_time": "2023-03-21T11:48:08.925Z"
   },
   {
    "duration": 431,
    "start_time": "2023-03-21T11:49:29.482Z"
   },
   {
    "duration": 420,
    "start_time": "2023-03-21T11:49:40.663Z"
   },
   {
    "duration": 583,
    "start_time": "2023-03-21T11:50:11.139Z"
   },
   {
    "duration": 32,
    "start_time": "2023-03-21T12:01:49.581Z"
   },
   {
    "duration": 11,
    "start_time": "2023-03-21T12:02:49.820Z"
   },
   {
    "duration": 5,
    "start_time": "2023-03-21T12:03:28.197Z"
   },
   {
    "duration": 2151,
    "start_time": "2023-03-21T12:03:28.206Z"
   },
   {
    "duration": 29,
    "start_time": "2023-03-21T12:03:30.359Z"
   },
   {
    "duration": 19,
    "start_time": "2023-03-21T12:03:30.391Z"
   },
   {
    "duration": 39,
    "start_time": "2023-03-21T12:03:30.412Z"
   },
   {
    "duration": 31006,
    "start_time": "2023-03-21T12:03:30.453Z"
   },
   {
    "duration": 1117,
    "start_time": "2023-03-21T12:04:01.461Z"
   },
   {
    "duration": 21,
    "start_time": "2023-03-21T12:04:02.582Z"
   },
   {
    "duration": 415,
    "start_time": "2023-03-21T12:04:02.608Z"
   },
   {
    "duration": 615,
    "start_time": "2023-03-21T12:04:03.026Z"
   },
   {
    "duration": 1133,
    "start_time": "2023-03-21T12:04:03.644Z"
   },
   {
    "duration": 8,
    "start_time": "2023-03-21T12:04:04.779Z"
   },
   {
    "duration": 12,
    "start_time": "2023-03-21T12:04:04.791Z"
   },
   {
    "duration": 6,
    "start_time": "2023-03-21T12:04:42.555Z"
   },
   {
    "duration": 1120,
    "start_time": "2023-03-21T12:05:20.707Z"
   },
   {
    "duration": 24,
    "start_time": "2023-03-21T12:07:42.156Z"
   },
   {
    "duration": 6,
    "start_time": "2023-03-21T12:07:45.137Z"
   },
   {
    "duration": 6,
    "start_time": "2023-03-21T12:08:24.599Z"
   },
   {
    "duration": 1091,
    "start_time": "2023-03-21T12:08:24.610Z"
   },
   {
    "duration": 41,
    "start_time": "2023-03-21T12:08:25.705Z"
   },
   {
    "duration": 10,
    "start_time": "2023-03-21T12:08:25.749Z"
   },
   {
    "duration": 9,
    "start_time": "2023-03-21T12:08:25.764Z"
   },
   {
    "duration": 33974,
    "start_time": "2023-03-21T12:08:25.776Z"
   },
   {
    "duration": 702,
    "start_time": "2023-03-21T12:08:59.752Z"
   },
   {
    "duration": 18,
    "start_time": "2023-03-21T12:09:00.455Z"
   },
   {
    "duration": 309,
    "start_time": "2023-03-21T12:09:00.474Z"
   },
   {
    "duration": 523,
    "start_time": "2023-03-21T12:09:00.786Z"
   },
   {
    "duration": 1305,
    "start_time": "2023-03-21T12:09:01.312Z"
   },
   {
    "duration": 4,
    "start_time": "2023-03-21T12:09:02.620Z"
   },
   {
    "duration": 22,
    "start_time": "2023-03-21T12:09:02.626Z"
   },
   {
    "duration": 18,
    "start_time": "2023-03-21T12:09:02.651Z"
   },
   {
    "duration": 10,
    "start_time": "2023-03-21T12:11:36.344Z"
   },
   {
    "duration": 6,
    "start_time": "2023-03-21T12:12:08.338Z"
   },
   {
    "duration": 18,
    "start_time": "2023-03-21T12:12:24.243Z"
   },
   {
    "duration": 21,
    "start_time": "2023-03-21T12:12:37.504Z"
   },
   {
    "duration": 19,
    "start_time": "2023-03-21T12:13:06.985Z"
   },
   {
    "duration": 11,
    "start_time": "2023-03-21T12:13:16.464Z"
   },
   {
    "duration": 25,
    "start_time": "2023-03-21T12:13:19.600Z"
   },
   {
    "duration": 5,
    "start_time": "2023-03-21T12:13:40.849Z"
   },
   {
    "duration": 699,
    "start_time": "2023-03-21T12:13:40.857Z"
   },
   {
    "duration": 19,
    "start_time": "2023-03-21T12:13:41.558Z"
   },
   {
    "duration": 8,
    "start_time": "2023-03-21T12:13:41.579Z"
   },
   {
    "duration": 11,
    "start_time": "2023-03-21T12:13:41.590Z"
   },
   {
    "duration": 21362,
    "start_time": "2023-03-21T12:13:41.624Z"
   },
   {
    "duration": 659,
    "start_time": "2023-03-21T12:14:02.988Z"
   },
   {
    "duration": 15,
    "start_time": "2023-03-21T12:14:03.649Z"
   },
   {
    "duration": 265,
    "start_time": "2023-03-21T12:14:03.666Z"
   },
   {
    "duration": 488,
    "start_time": "2023-03-21T12:14:03.933Z"
   },
   {
    "duration": 869,
    "start_time": "2023-03-21T12:14:04.424Z"
   },
   {
    "duration": 3,
    "start_time": "2023-03-21T12:14:05.295Z"
   },
   {
    "duration": 33,
    "start_time": "2023-03-21T12:14:05.301Z"
   },
   {
    "duration": 8,
    "start_time": "2023-03-21T12:14:05.338Z"
   },
   {
    "duration": 11,
    "start_time": "2023-03-21T12:14:05.349Z"
   },
   {
    "duration": 6,
    "start_time": "2023-03-21T12:14:05.363Z"
   },
   {
    "duration": 21,
    "start_time": "2023-03-21T12:14:05.371Z"
   },
   {
    "duration": 13,
    "start_time": "2023-03-21T12:14:52.990Z"
   },
   {
    "duration": 6,
    "start_time": "2023-03-21T12:15:20.611Z"
   },
   {
    "duration": 4,
    "start_time": "2023-03-21T12:15:23.466Z"
   },
   {
    "duration": 716,
    "start_time": "2023-03-21T12:15:23.473Z"
   },
   {
    "duration": 21,
    "start_time": "2023-03-21T12:15:24.191Z"
   },
   {
    "duration": 7,
    "start_time": "2023-03-21T12:15:24.223Z"
   },
   {
    "duration": 6,
    "start_time": "2023-03-21T12:15:24.235Z"
   },
   {
    "duration": 21155,
    "start_time": "2023-03-21T12:15:24.243Z"
   },
   {
    "duration": 690,
    "start_time": "2023-03-21T12:15:45.400Z"
   },
   {
    "duration": 17,
    "start_time": "2023-03-21T12:15:46.092Z"
   },
   {
    "duration": 250,
    "start_time": "2023-03-21T12:15:46.113Z"
   },
   {
    "duration": 611,
    "start_time": "2023-03-21T12:15:46.365Z"
   },
   {
    "duration": 711,
    "start_time": "2023-03-21T12:15:46.978Z"
   },
   {
    "duration": 3,
    "start_time": "2023-03-21T12:15:47.692Z"
   },
   {
    "duration": 33,
    "start_time": "2023-03-21T12:15:47.698Z"
   },
   {
    "duration": 4,
    "start_time": "2023-03-21T12:15:47.733Z"
   },
   {
    "duration": 12,
    "start_time": "2023-03-21T12:15:47.739Z"
   },
   {
    "duration": 15,
    "start_time": "2023-03-21T12:15:47.753Z"
   },
   {
    "duration": 35,
    "start_time": "2023-03-21T12:16:00.007Z"
   },
   {
    "duration": 24,
    "start_time": "2023-03-21T12:16:33.219Z"
   },
   {
    "duration": 13,
    "start_time": "2023-03-21T12:16:34.315Z"
   },
   {
    "duration": 24,
    "start_time": "2023-03-21T12:17:19.641Z"
   },
   {
    "duration": 5,
    "start_time": "2023-03-21T12:17:41.736Z"
   },
   {
    "duration": 648,
    "start_time": "2023-03-21T12:17:41.744Z"
   },
   {
    "duration": 20,
    "start_time": "2023-03-21T12:17:42.394Z"
   },
   {
    "duration": 6,
    "start_time": "2023-03-21T12:17:42.426Z"
   },
   {
    "duration": 7,
    "start_time": "2023-03-21T12:17:42.435Z"
   },
   {
    "duration": 20011,
    "start_time": "2023-03-21T12:17:42.444Z"
   },
   {
    "duration": 681,
    "start_time": "2023-03-21T12:18:02.456Z"
   },
   {
    "duration": 20,
    "start_time": "2023-03-21T12:18:03.139Z"
   },
   {
    "duration": 227,
    "start_time": "2023-03-21T12:18:03.161Z"
   },
   {
    "duration": 448,
    "start_time": "2023-03-21T12:18:03.390Z"
   },
   {
    "duration": 804,
    "start_time": "2023-03-21T12:18:03.839Z"
   },
   {
    "duration": 2,
    "start_time": "2023-03-21T12:18:04.645Z"
   },
   {
    "duration": 21,
    "start_time": "2023-03-21T12:18:04.649Z"
   },
   {
    "duration": 5,
    "start_time": "2023-03-21T12:18:04.672Z"
   },
   {
    "duration": 10,
    "start_time": "2023-03-21T12:18:04.678Z"
   },
   {
    "duration": 16,
    "start_time": "2023-03-21T12:18:07.999Z"
   },
   {
    "duration": 17,
    "start_time": "2023-03-21T12:18:58.817Z"
   },
   {
    "duration": 13,
    "start_time": "2023-03-21T12:19:16.697Z"
   },
   {
    "duration": 11,
    "start_time": "2023-03-21T12:20:53.028Z"
   },
   {
    "duration": 11,
    "start_time": "2023-03-21T12:21:20.381Z"
   },
   {
    "duration": 15,
    "start_time": "2023-03-21T12:21:38.991Z"
   },
   {
    "duration": 24,
    "start_time": "2023-03-21T12:21:47.132Z"
   },
   {
    "duration": 10,
    "start_time": "2023-03-21T12:22:05.355Z"
   },
   {
    "duration": 8,
    "start_time": "2023-03-21T12:22:29.230Z"
   },
   {
    "duration": 663,
    "start_time": "2023-03-21T12:22:29.252Z"
   },
   {
    "duration": 18,
    "start_time": "2023-03-21T12:22:29.917Z"
   },
   {
    "duration": 71,
    "start_time": "2023-03-21T12:22:29.937Z"
   },
   {
    "duration": 40,
    "start_time": "2023-03-21T12:22:30.012Z"
   },
   {
    "duration": 20728,
    "start_time": "2023-03-21T12:22:30.054Z"
   },
   {
    "duration": 650,
    "start_time": "2023-03-21T12:22:50.783Z"
   },
   {
    "duration": 14,
    "start_time": "2023-03-21T12:22:51.434Z"
   },
   {
    "duration": 214,
    "start_time": "2023-03-21T12:22:51.450Z"
   },
   {
    "duration": 472,
    "start_time": "2023-03-21T12:22:51.666Z"
   },
   {
    "duration": 814,
    "start_time": "2023-03-21T12:22:52.140Z"
   },
   {
    "duration": 3,
    "start_time": "2023-03-21T12:22:52.956Z"
   },
   {
    "duration": 29,
    "start_time": "2023-03-21T12:22:52.962Z"
   },
   {
    "duration": 6,
    "start_time": "2023-03-21T12:22:52.996Z"
   },
   {
    "duration": 29,
    "start_time": "2023-03-21T12:22:53.004Z"
   },
   {
    "duration": 25,
    "start_time": "2023-03-21T12:22:53.035Z"
   },
   {
    "duration": 7,
    "start_time": "2023-03-21T12:23:01.325Z"
   },
   {
    "duration": 26,
    "start_time": "2023-03-21T12:23:10.750Z"
   },
   {
    "duration": 5,
    "start_time": "2023-03-21T12:28:17.897Z"
   },
   {
    "duration": 34,
    "start_time": "2023-03-21T12:29:00.965Z"
   },
   {
    "duration": 1783,
    "start_time": "2023-03-21T12:29:09.648Z"
   },
   {
    "duration": 1305737,
    "start_time": "2023-03-21T12:29:20.759Z"
   },
   {
    "duration": 44,
    "start_time": "2023-03-21T12:52:06.367Z"
   },
   {
    "duration": 5,
    "start_time": "2023-03-21T12:55:44.721Z"
   },
   {
    "duration": 40,
    "start_time": "2023-03-21T12:55:58.340Z"
   },
   {
    "duration": 1384,
    "start_time": "2023-03-21T12:56:06.247Z"
   },
   {
    "duration": 1276884,
    "start_time": "2023-03-21T12:56:15.095Z"
   },
   {
    "duration": 59,
    "start_time": "2023-03-21T13:18:56.811Z"
   },
   {
    "duration": 7,
    "start_time": "2023-03-21T13:19:29.322Z"
   },
   {
    "duration": 58,
    "start_time": "2023-03-21T13:19:34.456Z"
   },
   {
    "duration": 2196,
    "start_time": "2023-03-21T13:19:38.128Z"
   },
   {
    "duration": 7,
    "start_time": "2023-03-21T13:20:02.154Z"
   },
   {
    "duration": 62,
    "start_time": "2023-03-21T13:20:06.350Z"
   },
   {
    "duration": 1693,
    "start_time": "2023-03-21T13:20:09.735Z"
   },
   {
    "duration": 3,
    "start_time": "2023-03-21T13:21:19.415Z"
   },
   {
    "duration": 245731,
    "start_time": "2023-03-21T13:21:34.194Z"
   },
   {
    "duration": 23,
    "start_time": "2023-03-21T13:26:27.062Z"
   },
   {
    "duration": 7,
    "start_time": "2023-03-21T13:28:08.499Z"
   },
   {
    "duration": 42,
    "start_time": "2023-03-21T13:28:22.693Z"
   },
   {
    "duration": 63,
    "start_time": "2023-03-21T13:28:41.339Z"
   },
   {
    "duration": 73186,
    "start_time": "2023-03-21T13:29:10.845Z"
   },
   {
    "duration": 1817,
    "start_time": "2023-03-21T16:33:57.557Z"
   },
   {
    "duration": 2197,
    "start_time": "2023-03-21T16:33:59.375Z"
   },
   {
    "duration": 20,
    "start_time": "2023-03-21T16:34:01.574Z"
   },
   {
    "duration": 22,
    "start_time": "2023-03-21T16:34:01.596Z"
   },
   {
    "duration": 35,
    "start_time": "2023-03-21T16:34:01.620Z"
   },
   {
    "duration": 22093,
    "start_time": "2023-03-21T16:34:01.657Z"
   },
   {
    "duration": 741,
    "start_time": "2023-03-21T16:34:23.752Z"
   },
   {
    "duration": 17,
    "start_time": "2023-03-21T16:34:24.495Z"
   },
   {
    "duration": 215,
    "start_time": "2023-03-21T16:34:24.514Z"
   },
   {
    "duration": 498,
    "start_time": "2023-03-21T16:34:24.732Z"
   },
   {
    "duration": 817,
    "start_time": "2023-03-21T16:34:25.232Z"
   },
   {
    "duration": 3,
    "start_time": "2023-03-21T16:34:26.051Z"
   },
   {
    "duration": 38,
    "start_time": "2023-03-21T16:34:26.055Z"
   },
   {
    "duration": 4,
    "start_time": "2023-03-21T16:34:26.095Z"
   },
   {
    "duration": 12,
    "start_time": "2023-03-21T16:34:26.101Z"
   },
   {
    "duration": 10,
    "start_time": "2023-03-21T16:34:26.114Z"
   },
   {
    "duration": 23,
    "start_time": "2023-03-21T16:34:26.126Z"
   },
   {
    "duration": 5,
    "start_time": "2023-03-21T16:34:49.664Z"
   },
   {
    "duration": 43,
    "start_time": "2023-03-21T16:34:57.550Z"
   },
   {
    "duration": 1174,
    "start_time": "2023-03-21T16:35:02.323Z"
   },
   {
    "duration": 245893,
    "start_time": "2023-03-21T16:35:09.723Z"
   },
   {
    "duration": 524560,
    "start_time": "2023-03-21T16:43:58.261Z"
   },
   {
    "duration": 1251340,
    "start_time": "2023-03-21T16:56:41.024Z"
   },
   {
    "duration": 1498,
    "start_time": "2023-03-21T17:43:56.168Z"
   },
   {
    "duration": 1062,
    "start_time": "2023-03-21T17:43:57.668Z"
   },
   {
    "duration": 74,
    "start_time": "2023-03-21T17:43:58.731Z"
   },
   {
    "duration": 7,
    "start_time": "2023-03-21T17:43:58.807Z"
   },
   {
    "duration": 9,
    "start_time": "2023-03-21T17:43:58.816Z"
   },
   {
    "duration": 23669,
    "start_time": "2023-03-21T17:43:58.827Z"
   },
   {
    "duration": 777,
    "start_time": "2023-03-21T17:44:22.497Z"
   },
   {
    "duration": 27,
    "start_time": "2023-03-21T17:44:23.275Z"
   },
   {
    "duration": 203,
    "start_time": "2023-03-21T17:44:23.304Z"
   },
   {
    "duration": 501,
    "start_time": "2023-03-21T17:44:23.510Z"
   },
   {
    "duration": 1321,
    "start_time": "2023-03-21T17:44:24.013Z"
   },
   {
    "duration": 4,
    "start_time": "2023-03-21T17:44:25.388Z"
   },
   {
    "duration": 51,
    "start_time": "2023-03-21T17:44:25.394Z"
   },
   {
    "duration": 4,
    "start_time": "2023-03-21T17:44:25.489Z"
   },
   {
    "duration": 44,
    "start_time": "2023-03-21T17:44:25.495Z"
   },
   {
    "duration": 74,
    "start_time": "2023-03-21T17:44:25.542Z"
   },
   {
    "duration": 88,
    "start_time": "2023-03-21T17:44:25.617Z"
   },
   {
    "duration": 6,
    "start_time": "2023-03-21T17:44:25.706Z"
   },
   {
    "duration": 112,
    "start_time": "2023-03-21T17:44:25.714Z"
   },
   {
    "duration": 1669,
    "start_time": "2023-03-21T17:44:25.828Z"
   },
   {
    "duration": 119,
    "start_time": "2023-03-21T17:44:36.801Z"
   },
   {
    "duration": 84163,
    "start_time": "2023-03-21T17:44:47.595Z"
   },
   {
    "duration": 8816,
    "start_time": "2023-03-21T17:46:49.703Z"
   },
   {
    "duration": 11969,
    "start_time": "2023-03-21T17:47:07.799Z"
   },
   {
    "duration": 11955,
    "start_time": "2023-03-21T17:47:49.703Z"
   },
   {
    "duration": 9099,
    "start_time": "2023-03-21T17:48:15.850Z"
   },
   {
    "duration": 12447,
    "start_time": "2023-03-21T17:48:32.446Z"
   },
   {
    "duration": 1308400,
    "start_time": "2023-03-21T17:49:21.468Z"
   },
   {
    "duration": 82172,
    "start_time": "2023-03-21T18:21:37.253Z"
   },
   {
    "duration": 11874,
    "start_time": "2023-03-21T18:24:56.745Z"
   },
   {
    "duration": 18307,
    "start_time": "2023-03-21T18:28:02.386Z"
   },
   {
    "duration": 46,
    "start_time": "2023-03-21T18:28:40.487Z"
   },
   {
    "duration": 386888,
    "start_time": "2023-03-21T18:28:47.923Z"
   },
   {
    "duration": 4,
    "start_time": "2023-03-21T18:57:52.085Z"
   },
   {
    "duration": 58,
    "start_time": "2023-03-21T18:58:00.290Z"
   },
   {
    "duration": 94,
    "start_time": "2023-03-21T18:58:09.300Z"
   },
   {
    "duration": 3000094,
    "start_time": "2023-03-21T18:58:19.885Z"
   },
   {
    "duration": 20379,
    "start_time": "2023-03-21T20:05:32.899Z"
   },
   {
    "duration": 46,
    "start_time": "2023-03-21T20:07:13.714Z"
   },
   {
    "duration": 17,
    "start_time": "2023-03-21T20:07:31.229Z"
   },
   {
    "duration": 25388,
    "start_time": "2023-03-21T20:08:02.020Z"
   },
   {
    "duration": 52,
    "start_time": "2023-03-21T20:08:39.210Z"
   },
   {
    "duration": 4969,
    "start_time": "2023-03-21T20:08:55.707Z"
   },
   {
    "duration": 46,
    "start_time": "2023-03-21T20:09:05.410Z"
   },
   {
    "duration": 3634,
    "start_time": "2023-03-21T20:09:29.598Z"
   },
   {
    "duration": 50,
    "start_time": "2023-03-21T20:09:38.779Z"
   },
   {
    "duration": 4932,
    "start_time": "2023-03-21T20:09:47.040Z"
   },
   {
    "duration": 19973,
    "start_time": "2023-03-21T20:09:56.249Z"
   },
   {
    "duration": 162,
    "start_time": "2023-03-21T20:10:19.914Z"
   },
   {
    "duration": 15,
    "start_time": "2023-03-21T20:10:43.722Z"
   },
   {
    "duration": 5232,
    "start_time": "2023-03-21T20:12:09.903Z"
   },
   {
    "duration": 52,
    "start_time": "2023-03-21T20:12:17.908Z"
   },
   {
    "duration": 18,
    "start_time": "2023-03-21T20:12:30.608Z"
   },
   {
    "duration": 59,
    "start_time": "2023-03-21T20:13:13.935Z"
   },
   {
    "duration": 24,
    "start_time": "2023-03-21T20:13:17.615Z"
   },
   {
    "duration": 15012,
    "start_time": "2023-03-21T20:16:31.706Z"
   },
   {
    "duration": 1460,
    "start_time": "2023-03-21T20:17:35.989Z"
   },
   {
    "duration": 1427,
    "start_time": "2023-03-21T20:19:33.307Z"
   },
   {
    "duration": 1469,
    "start_time": "2023-03-21T20:20:32.271Z"
   },
   {
    "duration": 169,
    "start_time": "2023-03-21T20:22:32.239Z"
   },
   {
    "duration": 5,
    "start_time": "2023-03-21T20:23:48.222Z"
   },
   {
    "duration": 865,
    "start_time": "2023-03-21T20:23:48.230Z"
   },
   {
    "duration": 23,
    "start_time": "2023-03-21T20:23:49.098Z"
   },
   {
    "duration": 6,
    "start_time": "2023-03-21T20:23:49.124Z"
   },
   {
    "duration": 34,
    "start_time": "2023-03-21T20:23:49.132Z"
   },
   {
    "duration": 24447,
    "start_time": "2023-03-21T20:23:49.168Z"
   },
   {
    "duration": 667,
    "start_time": "2023-03-21T20:24:13.617Z"
   },
   {
    "duration": 14,
    "start_time": "2023-03-21T20:24:14.289Z"
   },
   {
    "duration": 206,
    "start_time": "2023-03-21T20:24:14.308Z"
   },
   {
    "duration": 617,
    "start_time": "2023-03-21T20:24:14.515Z"
   },
   {
    "duration": 730,
    "start_time": "2023-03-21T20:24:15.134Z"
   },
   {
    "duration": 3,
    "start_time": "2023-03-21T20:24:15.866Z"
   },
   {
    "duration": 43,
    "start_time": "2023-03-21T20:24:15.871Z"
   },
   {
    "duration": 4,
    "start_time": "2023-03-21T20:24:15.916Z"
   },
   {
    "duration": 10,
    "start_time": "2023-03-21T20:24:15.921Z"
   },
   {
    "duration": 9,
    "start_time": "2023-03-21T20:24:15.932Z"
   },
   {
    "duration": 1435,
    "start_time": "2023-03-21T20:24:22.375Z"
   },
   {
    "duration": 50,
    "start_time": "2023-03-21T20:25:05.512Z"
   },
   {
    "duration": 10,
    "start_time": "2023-03-21T20:35:25.579Z"
   },
   {
    "duration": 5,
    "start_time": "2023-03-21T20:36:40.236Z"
   },
   {
    "duration": 40,
    "start_time": "2023-03-21T20:36:44.784Z"
   },
   {
    "duration": 1624,
    "start_time": "2023-03-21T20:36:48.679Z"
   },
   {
    "duration": 10,
    "start_time": "2023-03-21T20:43:43.977Z"
   },
   {
    "duration": 6,
    "start_time": "2023-03-21T20:44:23.731Z"
   },
   {
    "duration": 74,
    "start_time": "2023-03-21T20:44:44.601Z"
   },
   {
    "duration": 7,
    "start_time": "2023-03-21T20:44:49.441Z"
   },
   {
    "duration": 5,
    "start_time": "2023-03-21T20:45:48.535Z"
   },
   {
    "duration": 38,
    "start_time": "2023-03-21T20:45:56.771Z"
   },
   {
    "duration": 1446,
    "start_time": "2023-03-21T20:45:59.951Z"
   },
   {
    "duration": 5039,
    "start_time": "2023-03-21T20:46:06.855Z"
   },
   {
    "duration": 202,
    "start_time": "2023-03-21T20:46:22.888Z"
   },
   {
    "duration": 48,
    "start_time": "2023-03-21T20:46:26.474Z"
   },
   {
    "duration": 101,
    "start_time": "2023-03-21T20:48:03.283Z"
   },
   {
    "duration": 89,
    "start_time": "2023-03-21T20:50:23.404Z"
   },
   {
    "duration": 3,
    "start_time": "2023-03-21T20:52:32.131Z"
   },
   {
    "duration": 1538,
    "start_time": "2023-03-21T20:52:57.420Z"
   },
   {
    "duration": 756,
    "start_time": "2023-03-21T20:52:58.959Z"
   },
   {
    "duration": 18,
    "start_time": "2023-03-21T20:52:59.717Z"
   },
   {
    "duration": 7,
    "start_time": "2023-03-21T20:52:59.737Z"
   },
   {
    "duration": 8,
    "start_time": "2023-03-21T20:52:59.745Z"
   },
   {
    "duration": 20844,
    "start_time": "2023-03-21T20:52:59.754Z"
   },
   {
    "duration": 690,
    "start_time": "2023-03-21T20:53:20.600Z"
   },
   {
    "duration": 14,
    "start_time": "2023-03-21T20:53:21.292Z"
   },
   {
    "duration": 209,
    "start_time": "2023-03-21T20:53:21.308Z"
   },
   {
    "duration": 473,
    "start_time": "2023-03-21T20:53:21.519Z"
   },
   {
    "duration": 774,
    "start_time": "2023-03-21T20:53:21.994Z"
   },
   {
    "duration": 3,
    "start_time": "2023-03-21T20:53:22.770Z"
   },
   {
    "duration": 36,
    "start_time": "2023-03-21T20:53:22.774Z"
   },
   {
    "duration": 4,
    "start_time": "2023-03-21T20:53:22.811Z"
   },
   {
    "duration": 12,
    "start_time": "2023-03-21T20:53:22.816Z"
   },
   {
    "duration": 16,
    "start_time": "2023-03-21T20:53:22.829Z"
   },
   {
    "duration": 1360,
    "start_time": "2023-03-21T20:53:22.846Z"
   },
   {
    "duration": 22,
    "start_time": "2023-03-21T20:53:24.208Z"
   },
   {
    "duration": 5,
    "start_time": "2023-03-21T20:53:24.231Z"
   },
   {
    "duration": 41,
    "start_time": "2023-03-21T20:53:24.237Z"
   },
   {
    "duration": 1611,
    "start_time": "2023-03-21T20:53:24.280Z"
   },
   {
    "duration": 406874,
    "start_time": "2023-03-21T20:53:25.893Z"
   },
   {
    "duration": 5322,
    "start_time": "2023-03-21T21:00:12.769Z"
   },
   {
    "duration": 51,
    "start_time": "2023-03-21T21:00:18.092Z"
   },
   {
    "duration": 48,
    "start_time": "2023-03-21T21:09:55.995Z"
   },
   {
    "duration": 40,
    "start_time": "2023-03-21T21:10:00.764Z"
   },
   {
    "duration": 1434,
    "start_time": "2023-03-22T19:45:55.279Z"
   },
   {
    "duration": 2349,
    "start_time": "2023-03-22T19:45:56.717Z"
   },
   {
    "duration": 17,
    "start_time": "2023-03-22T19:45:59.067Z"
   },
   {
    "duration": 5,
    "start_time": "2023-03-22T19:45:59.086Z"
   },
   {
    "duration": 11,
    "start_time": "2023-03-22T19:45:59.092Z"
   },
   {
    "duration": 17587,
    "start_time": "2023-03-22T19:45:59.104Z"
   },
   {
    "duration": 703,
    "start_time": "2023-03-22T19:46:16.693Z"
   },
   {
    "duration": 14,
    "start_time": "2023-03-22T19:46:17.397Z"
   },
   {
    "duration": 200,
    "start_time": "2023-03-22T19:46:17.413Z"
   },
   {
    "duration": 447,
    "start_time": "2023-03-22T19:46:17.617Z"
   },
   {
    "duration": 645,
    "start_time": "2023-03-22T19:46:18.065Z"
   },
   {
    "duration": 2,
    "start_time": "2023-03-22T19:46:18.711Z"
   },
   {
    "duration": 25,
    "start_time": "2023-03-22T19:46:18.715Z"
   },
   {
    "duration": 3,
    "start_time": "2023-03-22T19:46:18.742Z"
   },
   {
    "duration": 23,
    "start_time": "2023-03-22T19:46:18.747Z"
   },
   {
    "duration": 10,
    "start_time": "2023-03-22T19:46:18.772Z"
   },
   {
    "duration": 1296,
    "start_time": "2023-03-22T19:46:18.784Z"
   },
   {
    "duration": 20,
    "start_time": "2023-03-22T19:46:20.081Z"
   },
   {
    "duration": 5,
    "start_time": "2023-03-22T19:46:20.102Z"
   },
   {
    "duration": 40,
    "start_time": "2023-03-22T19:46:20.108Z"
   },
   {
    "duration": 1112,
    "start_time": "2023-03-22T19:46:20.149Z"
   },
   {
    "duration": 435435,
    "start_time": "2023-03-22T19:46:21.263Z"
   },
   {
    "duration": 2,
    "start_time": "2023-03-22T19:53:36.700Z"
   },
   {
    "duration": 32,
    "start_time": "2023-03-22T19:53:36.703Z"
   }
  ],
  "kernelspec": {
   "display_name": "Python 3 (ipykernel)",
   "language": "python",
   "name": "python3"
  },
  "language_info": {
   "codemirror_mode": {
    "name": "ipython",
    "version": 3
   },
   "file_extension": ".py",
   "mimetype": "text/x-python",
   "name": "python",
   "nbconvert_exporter": "python",
   "pygments_lexer": "ipython3",
   "version": "3.9.13"
  },
  "toc": {
   "base_numbering": 1,
   "nav_menu": {},
   "number_sections": true,
   "sideBar": true,
   "skip_h1_title": true,
   "title_cell": "Содержание",
   "title_sidebar": "Contents",
   "toc_cell": true,
   "toc_position": {
    "height": "calc(100% - 180px)",
    "left": "10px",
    "top": "150px",
    "width": "165px"
   },
   "toc_section_display": true,
   "toc_window_display": true
  }
 },
 "nbformat": 4,
 "nbformat_minor": 2
}
